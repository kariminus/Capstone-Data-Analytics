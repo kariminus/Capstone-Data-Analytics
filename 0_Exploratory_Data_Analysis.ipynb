{
  "nbformat": 4,
  "nbformat_minor": 5,
  "metadata": {
    "noteable-chatgpt": {
      "create_notebook": {
        "openai_conversation_id": "80fed711-a638-569e-9270-9ad489ef5ad1",
        "openai_ephemeral_user_id": "2e6db124-3063-504e-bb5e-24fcda6e9a02",
        "openai_subdivision1_iso_code": "FR-ARA"
      }
    },
    "kernel_info": {
      "name": "python3"
    },
    "kernelspec": {
      "display_name": "Python 3.9",
      "identifier": "legacy",
      "language": "python",
      "language_version": "3.9",
      "name": "python3"
    },
    "selected_hardware_size": "small"
  },
  "cells": [
    {
      "id": "3137a5fc-c5a2-4b44-9231-f435c0ba23d2",
      "cell_type": "markdown",
      "source": "# Table Overview\nA brief overview of the table structure in the 'Data Jobs' connection.",
      "metadata": {
        "noteable": {
          "cell_type": "markdown"
        }
      }
    },
    {
      "id": "81d6c6a2-6ccf-4007-bad9-e0792584706e",
      "cell_type": "code",
      "metadata": {
        "noteable": {
          "assign_results_to": "sql_df_oweu",
          "cell_type": "sql",
          "db_connection": "@81bbd42db3724191a3fc03e3b17e2d77",
          "output_collection_id": "523a7d5c-9a4b-41f7-97e1-86effef1fea9"
        },
        "ExecuteTime": {
          "end_time": "2023-12-12T12:53:26.272614+00:00",
          "start_time": "2023-12-12T12:53:24.926748+00:00"
        },
        "datalink": {
          "4d485a11-a6e6-4e5b-bb8d-82b3b10ab321": {
            "applied_filters": [],
            "dataframe_info": {
              "default_index_used": true,
              "orig_num_cols": 3,
              "orig_num_rows": 1,
              "orig_size_bytes": 32,
              "truncated_num_cols": 3,
              "truncated_num_rows": 1,
              "truncated_size_bytes": 32,
              "truncated_string_columns": []
            },
            "display_id": "4d485a11-a6e6-4e5b-bb8d-82b3b10ab321",
            "dx_settings": {
              "ALLOW_NOTEABLE_ATTRS": true,
              "COLUMN_SAMPLING_METHOD": "outer",
              "DB_LOCATION": ":memory:",
              "DEV_MODE": false,
              "DISPLAY_MAX_COLUMNS": 100,
              "DISPLAY_MAX_ROWS": 50000,
              "DISPLAY_MODE": "simple",
              "ENABLE_ASSIGNMENT": true,
              "ENABLE_DATALINK": true,
              "FLATTEN_COLUMN_VALUES": true,
              "FLATTEN_INDEX_VALUES": false,
              "GENERATE_DEX_METADATA": false,
              "HTML_TABLE_SCHEMA": false,
              "LOG_LEVEL": 30,
              "MAX_RENDER_SIZE_BYTES": 104857600,
              "MAX_STRING_LENGTH": 250,
              "NUM_PAST_SAMPLES_TRACKED": 3,
              "RANDOM_STATE": 12648430,
              "RESET_INDEX_VALUES": false,
              "ROW_SAMPLING_METHOD": "random",
              "SAMPLING_FACTOR": 0.1,
              "SAMPLING_METHOD": "random",
              "STRINGIFY_COLUMN_VALUES": true,
              "STRINGIFY_INDEX_VALUES": false
            },
            "sample_history": [],
            "sampling_time": "2023-12-12T12:53:26.112410",
            "user_variable_name": "sql_df_otaz",
            "variable_name": "sql_df_otaz"
          }
        }
      },
      "execution_count": null,
      "source": "\\list",
      "outputs": []
    },
    {
      "id": "cd9a4659-7852-4749-8bab-601ddbcd927f",
      "cell_type": "markdown",
      "source": "# Sample Data from 'data_nerd_jobs' Table\nRetrieving a sample of 100 rows from the 'data_nerd_jobs' table.",
      "metadata": {
        "noteable": {
          "cell_type": "markdown"
        }
      }
    },
    {
      "id": "65b6ffc8-dd23-4e33-b41d-e27f6f549f50",
      "cell_type": "code",
      "metadata": {
        "noteable": {
          "assign_results_to": "sql_df_gdyc",
          "cell_type": "sql",
          "db_connection": "@81bbd42db3724191a3fc03e3b17e2d77",
          "output_collection_id": "4634e641-149b-48bc-a3ca-61ccf775d442"
        },
        "ExecuteTime": {
          "end_time": "2023-12-12T12:56:29.138512+00:00",
          "start_time": "2023-12-12T12:56:26.543554+00:00"
        },
        "datalink": {
          "83bd617a-c8e3-4d5e-9282-f08ecd784f12": {
            "applied_filters": [],
            "dataframe_info": {
              "default_index_used": true,
              "orig_num_cols": 45,
              "orig_num_rows": 100,
              "orig_size_bytes": 36800,
              "truncated_num_cols": 45,
              "truncated_num_rows": 100,
              "truncated_size_bytes": 36800,
              "truncated_string_columns": [
                "job_id",
                "job_description",
                "job_highlights_qualifications",
                "job_highlights_responsibilities",
                "job_highlights_benefits",
                "keywords_all"
              ]
            },
            "display_id": "83bd617a-c8e3-4d5e-9282-f08ecd784f12",
            "dx_settings": {
              "ALLOW_NOTEABLE_ATTRS": true,
              "COLUMN_SAMPLING_METHOD": "outer",
              "DB_LOCATION": ":memory:",
              "DEV_MODE": false,
              "DISPLAY_MAX_COLUMNS": 100,
              "DISPLAY_MAX_ROWS": 50000,
              "DISPLAY_MODE": "simple",
              "ENABLE_ASSIGNMENT": true,
              "ENABLE_DATALINK": true,
              "FLATTEN_COLUMN_VALUES": true,
              "FLATTEN_INDEX_VALUES": false,
              "GENERATE_DEX_METADATA": false,
              "HTML_TABLE_SCHEMA": false,
              "LOG_LEVEL": 30,
              "MAX_RENDER_SIZE_BYTES": 104857600,
              "MAX_STRING_LENGTH": 250,
              "NUM_PAST_SAMPLES_TRACKED": 3,
              "RANDOM_STATE": 12648430,
              "RESET_INDEX_VALUES": false,
              "ROW_SAMPLING_METHOD": "random",
              "SAMPLING_FACTOR": 0.1,
              "SAMPLING_METHOD": "random",
              "STRINGIFY_COLUMN_VALUES": true,
              "STRINGIFY_INDEX_VALUES": false
            },
            "sample_history": [],
            "sampling_time": "2023-12-12T12:56:28.962546",
            "user_variable_name": "sql_df_gdyc",
            "variable_name": "sql_df_gdyc"
          }
        }
      },
      "execution_count": null,
      "source": "SELECT * FROM public_job_listings.data_nerd_jobs LIMIT 100;",
      "outputs": []
    },
    {
      "id": "a2e509ff-e04d-4914-b2cb-e6f055805c1d",
      "cell_type": "markdown",
      "source": "# Column Data Types in 'data_nerd_jobs' Table\nIdentifying the data types of each column in the 'data_nerd_jobs' table.",
      "metadata": {
        "noteable": {
          "cell_type": "markdown"
        }
      }
    },
    {
      "id": "22732184-2faf-4d63-af6d-138e376d57b4",
      "cell_type": "code",
      "metadata": {
        "noteable": {
          "assign_results_to": "sql_df_fgse",
          "cell_type": "sql",
          "db_connection": "@81bbd42db3724191a3fc03e3b17e2d77",
          "output_collection_id": "b720aa1a-32c1-45f7-ab1b-11b03ab3f025"
        },
        "ExecuteTime": {
          "end_time": "2023-12-12T12:59:31.337917+00:00",
          "start_time": "2023-12-12T12:59:30.605695+00:00"
        }
      },
      "execution_count": null,
      "source": "SELECT column_name, data_type FROM information_schema.columns WHERE table_name = 'data_jobs';",
      "outputs": []
    },
    {
      "id": "fffed85c-eb32-4178-ac42-bb1cde5c327d",
      "cell_type": "markdown",
      "source": "# Job Title Distribution\nCreating a bar graph to visualize the distribution of job titles in the 'data_nerd_jobs' table.",
      "metadata": {
        "noteable": {
          "cell_type": "markdown"
        }
      }
    },
    {
      "id": "24e222be-ceb6-4642-b3ac-d40e553ad149",
      "cell_type": "code",
      "metadata": {
        "noteable": {
          "assign_results_to": "sql_df_kkcw",
          "cell_type": "sql",
          "db_connection": "@81bbd42db3724191a3fc03e3b17e2d77",
          "output_collection_id": "70d73a4c-f4ec-48ab-9ed5-ebd9104155e2"
        },
        "ExecuteTime": {
          "end_time": "2023-12-12T13:01:16.601708+00:00",
          "start_time": "2023-12-12T13:01:14.849353+00:00"
        },
        "datalink": {
          "1b5f76b3-afc9-4ca6-9ae3-2a7939e2cdd1": {
            "applied_filters": [],
            "dataframe_info": {
              "default_index_used": true,
              "orig_num_cols": 2,
              "orig_num_rows": 10,
              "orig_size_bytes": 240,
              "truncated_num_cols": 2,
              "truncated_num_rows": 10,
              "truncated_size_bytes": 240,
              "truncated_string_columns": []
            },
            "display_id": "1b5f76b3-afc9-4ca6-9ae3-2a7939e2cdd1",
            "dx_settings": {
              "ALLOW_NOTEABLE_ATTRS": true,
              "COLUMN_SAMPLING_METHOD": "outer",
              "DB_LOCATION": ":memory:",
              "DEV_MODE": false,
              "DISPLAY_MAX_COLUMNS": 100,
              "DISPLAY_MAX_ROWS": 50000,
              "DISPLAY_MODE": "simple",
              "ENABLE_ASSIGNMENT": true,
              "ENABLE_DATALINK": true,
              "FLATTEN_COLUMN_VALUES": true,
              "FLATTEN_INDEX_VALUES": false,
              "GENERATE_DEX_METADATA": false,
              "HTML_TABLE_SCHEMA": false,
              "LOG_LEVEL": 30,
              "MAX_RENDER_SIZE_BYTES": 104857600,
              "MAX_STRING_LENGTH": 250,
              "NUM_PAST_SAMPLES_TRACKED": 3,
              "RANDOM_STATE": 12648430,
              "RESET_INDEX_VALUES": false,
              "ROW_SAMPLING_METHOD": "random",
              "SAMPLING_FACTOR": 0.1,
              "SAMPLING_METHOD": "random",
              "STRINGIFY_COLUMN_VALUES": true,
              "STRINGIFY_INDEX_VALUES": false
            },
            "sample_history": [],
            "sampling_time": "2023-12-12T13:01:16.443330",
            "user_variable_name": "sql_df_kkcw",
            "variable_name": "sql_df_kkcw"
          }
        }
      },
      "execution_count": null,
      "source": "SELECT job_title_final, COUNT(*) as count FROM public_job_listings.data_nerd_jobs GROUP BY job_title_final ORDER BY count DESC LIMIT 10;",
      "outputs": []
    },
    {
      "id": "31ef388a-08b3-4682-9735-ae07c1b4138e",
      "cell_type": "code",
      "metadata": {
        "noteable": {
          "cell_type": "code",
          "output_collection_id": "c7e226e6-91bc-43b3-b849-15972e4db32e"
        },
        "ExecuteTime": {
          "end_time": "2023-12-12T13:01:43.169933+00:00",
          "start_time": "2023-12-12T13:01:42.163700+00:00"
        }
      },
      "execution_count": null,
      "source": "import seaborn as sns\nimport matplotlib.pyplot as plt\n\n# Setting the Seaborn style\nsns.set(style=\"whitegrid\")\n\n# Creating the bar plot\nplt.figure(figsize=(10, 6))\nsns.barplot(x='count', y='job_title_final', data=sql_df_kkcw, palette='Blues_r')\nplt.title('Top 10 Job Titles in Data Jobs')\nplt.xlabel('Count')\nplt.ylabel('Job Title')\nplt.show()",
      "outputs": []
    },
    {
      "id": "6625a4b7-e3f9-4f1d-8c35-236b00e32801",
      "cell_type": "markdown",
      "source": "# Heat Map of Job Postings by Country\nCreating a heat map to visualize the count of job postings for each country listed in the 'search_location' column.",
      "metadata": {
        "noteable": {
          "cell_type": "markdown"
        }
      }
    },
    {
      "id": "2600261a-25c9-4290-bae4-976d7bc87555",
      "cell_type": "code",
      "metadata": {
        "noteable": {
          "assign_results_to": "sql_df_ormv",
          "cell_type": "sql",
          "db_connection": "@81bbd42db3724191a3fc03e3b17e2d77",
          "output_collection_id": "95fd1059-c843-4886-83bf-b4bca8f52793"
        },
        "ExecuteTime": {
          "end_time": "2023-12-12T13:05:12.970405+00:00",
          "start_time": "2023-12-12T13:05:11.311783+00:00"
        },
        "datalink": {
          "d94dfe84-063e-4254-af0b-a0e36cf77486": {
            "applied_filters": [],
            "dataframe_info": {
              "default_index_used": true,
              "orig_num_cols": 2,
              "orig_num_rows": 172,
              "orig_size_bytes": 4128,
              "truncated_num_cols": 2,
              "truncated_num_rows": 172,
              "truncated_size_bytes": 4128,
              "truncated_string_columns": []
            },
            "display_id": "d94dfe84-063e-4254-af0b-a0e36cf77486",
            "dx_settings": {
              "ALLOW_NOTEABLE_ATTRS": true,
              "COLUMN_SAMPLING_METHOD": "outer",
              "DB_LOCATION": ":memory:",
              "DEV_MODE": false,
              "DISPLAY_MAX_COLUMNS": 100,
              "DISPLAY_MAX_ROWS": 50000,
              "DISPLAY_MODE": "simple",
              "ENABLE_ASSIGNMENT": true,
              "ENABLE_DATALINK": true,
              "FLATTEN_COLUMN_VALUES": true,
              "FLATTEN_INDEX_VALUES": false,
              "GENERATE_DEX_METADATA": false,
              "HTML_TABLE_SCHEMA": false,
              "LOG_LEVEL": 30,
              "MAX_RENDER_SIZE_BYTES": 104857600,
              "MAX_STRING_LENGTH": 250,
              "NUM_PAST_SAMPLES_TRACKED": 3,
              "RANDOM_STATE": 12648430,
              "RESET_INDEX_VALUES": false,
              "ROW_SAMPLING_METHOD": "random",
              "SAMPLING_FACTOR": 0.1,
              "SAMPLING_METHOD": "random",
              "STRINGIFY_COLUMN_VALUES": true,
              "STRINGIFY_INDEX_VALUES": false
            },
            "sample_history": [],
            "sampling_time": "2023-12-12T13:05:12.809896",
            "user_variable_name": "sql_df_ormv",
            "variable_name": "sql_df_ormv"
          }
        }
      },
      "execution_count": null,
      "source": "SELECT search_location, COUNT(*) as count FROM public_job_listings.data_nerd_jobs GROUP BY search_location;",
      "outputs": []
    },
    {
      "id": "cfad5a00-ba37-4767-a77d-5462b2ba281f",
      "cell_type": "code",
      "metadata": {
        "noteable": {
          "cell_type": "code",
          "output_collection_id": "d5428f9f-9cf6-4ef7-8595-af2b3dfeb063"
        },
        "ExecuteTime": {
          "end_time": "2023-12-12T13:05:45.952063+00:00",
          "start_time": "2023-12-12T13:05:42.743805+00:00"
        }
      },
      "execution_count": null,
      "source": "!pip install -q geopandas\nimport geopandas as gpd\nimport matplotlib.pyplot as plt\n\n# Load world map\nworld = gpd.read_file(gpd.datasets.get_path('naturalearth_lowres'))\n\n# Merge the job postings data with the world map\nworld = world.merge(sql_df_ormv, how='left', left_on='name', right_on='search_location')\n\n# Plotting\nplt.figure(figsize=(15, 10))\nworld.plot(column='count', cmap='Blues_r', legend=True, edgecolor='black')\nplt.title('Heat Map of Job Postings by Country')\nplt.show()",
      "outputs": []
    },
    {
      "id": "f16dbe27-e46f-4ada-959e-4c47ae0efc82",
      "cell_type": "markdown",
      "source": "# Heat Map of Job Postings by Country\nCreating a heat map to visualize the count of job postings for each country listed in the 'search_location' column.",
      "metadata": {
        "noteable": {
          "cell_type": "markdown"
        }
      }
    },
    {
      "id": "ff380662-6f5f-476a-8423-0a2baacb59ee",
      "cell_type": "code",
      "metadata": {
        "noteable": {
          "assign_results_to": "sql_df_rsia",
          "cell_type": "sql",
          "db_connection": "@81bbd42db3724191a3fc03e3b17e2d77",
          "output_collection_id": "0044fffc-1dc5-4a2b-88f5-12ec7039c952"
        },
        "ExecuteTime": {
          "end_time": "2023-12-12T13:06:04.710348+00:00",
          "start_time": "2023-12-12T13:06:03.237140+00:00"
        },
        "datalink": {
          "20c7a754-419a-4d1c-8681-ad2677f82caf": {
            "applied_filters": [],
            "dataframe_info": {
              "default_index_used": true,
              "orig_num_cols": 2,
              "orig_num_rows": 172,
              "orig_size_bytes": 4128,
              "truncated_num_cols": 2,
              "truncated_num_rows": 172,
              "truncated_size_bytes": 4128,
              "truncated_string_columns": []
            },
            "display_id": "20c7a754-419a-4d1c-8681-ad2677f82caf",
            "dx_settings": {
              "ALLOW_NOTEABLE_ATTRS": true,
              "COLUMN_SAMPLING_METHOD": "outer",
              "DB_LOCATION": ":memory:",
              "DEV_MODE": false,
              "DISPLAY_MAX_COLUMNS": 100,
              "DISPLAY_MAX_ROWS": 50000,
              "DISPLAY_MODE": "simple",
              "ENABLE_ASSIGNMENT": true,
              "ENABLE_DATALINK": true,
              "FLATTEN_COLUMN_VALUES": true,
              "FLATTEN_INDEX_VALUES": false,
              "GENERATE_DEX_METADATA": false,
              "HTML_TABLE_SCHEMA": false,
              "LOG_LEVEL": 30,
              "MAX_RENDER_SIZE_BYTES": 104857600,
              "MAX_STRING_LENGTH": 250,
              "NUM_PAST_SAMPLES_TRACKED": 3,
              "RANDOM_STATE": 12648430,
              "RESET_INDEX_VALUES": false,
              "ROW_SAMPLING_METHOD": "random",
              "SAMPLING_FACTOR": 0.1,
              "SAMPLING_METHOD": "random",
              "STRINGIFY_COLUMN_VALUES": true,
              "STRINGIFY_INDEX_VALUES": false
            },
            "sample_history": [],
            "sampling_time": "2023-12-12T13:06:04.551307",
            "user_variable_name": "sql_df_ormv",
            "variable_name": "sql_df_ormv"
          }
        }
      },
      "execution_count": null,
      "source": "SELECT search_location, COUNT(*) as count FROM public_job_listings.data_nerd_jobs GROUP BY search_location;",
      "outputs": []
    },
    {
      "id": "3a4168aa-b94f-49c9-a3ab-aa0f26703b9a",
      "cell_type": "code",
      "metadata": {
        "noteable": {
          "cell_type": "code",
          "output_collection_id": "fdbbbe2b-dafc-47c5-a6f2-cfee693870b3"
        },
        "ExecuteTime": {
          "end_time": "2023-12-12T13:06:37.531564+00:00",
          "start_time": "2023-12-12T13:06:34.507171+00:00"
        }
      },
      "execution_count": null,
      "source": "!pip install -q geopandas\nimport geopandas as gpd\nimport matplotlib.pyplot as plt\n\n# Load world map\nworld = gpd.read_file(gpd.datasets.get_path('naturalearth_lowres'))\n\n# Merge the job postings data with the world map\nworld = world.merge(sql_df_rsia, left_on='name', right_on='search_location', how='left')\n\n# Plotting the heat map\nplt.figure(figsize=(15, 10))\nworld.plot(column='count', cmap='Blues_r', legend=True, missing_kwds={'color': 'lightgrey'})\nplt.title('Heat Map of Job Postings by Country')\nplt.show()",
      "outputs": []
    },
    {
      "id": "ad637eb5-6863-415a-9408-6d02fc869149",
      "cell_type": "markdown",
      "source": "# Heat Map of Job Postings by Location\nCreating a heat map to visualize the count of job postings for different locations in the 'data_nerd_jobs' table.",
      "metadata": {
        "noteable": {
          "cell_type": "markdown"
        }
      }
    },
    {
      "id": "4c145f9b-8e1a-4eab-b6d6-a111edadbea1",
      "cell_type": "code",
      "metadata": {
        "noteable": {
          "assign_results_to": "sql_df_nghi",
          "cell_type": "sql",
          "db_connection": "@81bbd42db3724191a3fc03e3b17e2d77"
        }
      },
      "execution_count": null,
      "source": "SELECT search_location, COUNT(*) as count FROM public_job_listings.data_nerd_jobs GROUP BY search_location;",
      "outputs": []
    },
    {
      "id": "361350fa-a8fa-4e7a-a7a6-91f2290f5fc1",
      "cell_type": "markdown",
      "source": "# Heat Map of Job Postings by Location\nPreparing data for a heat map to visualize the count of job postings by 'search_location'.",
      "metadata": {
        "noteable": {
          "cell_type": "markdown"
        }
      }
    },
    {
      "id": "2677e274-f523-4ad3-97cb-201dc76b1970",
      "cell_type": "markdown",
      "source": "# Heat Map of Job Postings by Location\nPreparing data for a heat map to visualize the count of job postings by 'search_location'.",
      "metadata": {
        "noteable": {
          "cell_type": "markdown"
        }
      }
    },
    {
      "id": "74899ed4-c506-470b-952f-e861ae7f014e",
      "cell_type": "code",
      "metadata": {
        "noteable": {
          "assign_results_to": "sql_df_owto",
          "cell_type": "sql",
          "db_connection": "@81bbd42db3724191a3fc03e3b17e2d77",
          "output_collection_id": "ce1a29f4-3bba-4a1a-baa3-f9ff3cc04e98"
        },
        "ExecuteTime": {
          "end_time": "2023-12-12T13:10:54.721247+00:00",
          "start_time": "2023-12-12T13:10:53.184266+00:00"
        },
        "datalink": {
          "dd98c55c-410e-4966-8b8d-ea4f676a21fc": {
            "applied_filters": [],
            "dataframe_info": {
              "default_index_used": true,
              "orig_num_cols": 2,
              "orig_num_rows": 168,
              "orig_size_bytes": 4032,
              "truncated_num_cols": 2,
              "truncated_num_rows": 168,
              "truncated_size_bytes": 4032,
              "truncated_string_columns": []
            },
            "display_id": "dd98c55c-410e-4966-8b8d-ea4f676a21fc",
            "dx_settings": {
              "ALLOW_NOTEABLE_ATTRS": true,
              "COLUMN_SAMPLING_METHOD": "outer",
              "DB_LOCATION": ":memory:",
              "DEV_MODE": false,
              "DISPLAY_MAX_COLUMNS": 100,
              "DISPLAY_MAX_ROWS": 50000,
              "DISPLAY_MODE": "simple",
              "ENABLE_ASSIGNMENT": true,
              "ENABLE_DATALINK": true,
              "FLATTEN_COLUMN_VALUES": true,
              "FLATTEN_INDEX_VALUES": false,
              "GENERATE_DEX_METADATA": false,
              "HTML_TABLE_SCHEMA": false,
              "LOG_LEVEL": 30,
              "MAX_RENDER_SIZE_BYTES": 104857600,
              "MAX_STRING_LENGTH": 250,
              "NUM_PAST_SAMPLES_TRACKED": 3,
              "RANDOM_STATE": 12648430,
              "RESET_INDEX_VALUES": false,
              "ROW_SAMPLING_METHOD": "random",
              "SAMPLING_FACTOR": 0.1,
              "SAMPLING_METHOD": "random",
              "STRINGIFY_COLUMN_VALUES": true,
              "STRINGIFY_INDEX_VALUES": false
            },
            "sample_history": [],
            "sampling_time": "2023-12-12T13:10:54.561255",
            "user_variable_name": "sql_df_owto",
            "variable_name": "sql_df_owto"
          }
        }
      },
      "execution_count": null,
      "source": "SELECT \n    CASE \n        WHEN search_location LIKE '%United States' THEN 'United States' \n        ELSE search_location \n    END AS country, \n    COUNT(*) as count \nFROM public_job_listings.data_nerd_jobs \nGROUP BY country;",
      "outputs": []
    },
    {
      "id": "77b92a05-1f5e-4ec0-8ad1-9fa7ff30d133",
      "cell_type": "code",
      "metadata": {
        "noteable": {
          "cell_type": "code",
          "output_collection_id": "f2a67d70-8631-49e8-90d6-a4a01b99ee71"
        },
        "ExecuteTime": {
          "end_time": "2023-12-12T13:11:20.496702+00:00",
          "start_time": "2023-12-12T13:11:19.938745+00:00"
        }
      },
      "execution_count": null,
      "source": "import geopandas as gpd\nimport matplotlib.pyplot as plt\n\n# Load world map\nworld = gpd.read_file(gpd.datasets.get_path('naturalearth_lowres'))\n\n# Merge the job postings data with the world map\nworld = world.merge(sql_df_owto, how='left', left_on='name', right_on='country')\n\n# Plotting\nplt.figure(figsize=(15, 10))\nworld.plot(column='count', cmap='Blues', legend=True, edgecolor='black')\nplt.title('Heat Map of Job Postings by Country')\nplt.show()",
      "outputs": []
    },
    {
      "id": "e03d0660-554a-4b77-9cc2-486ac0c01851",
      "cell_type": "markdown",
      "source": "# Heat Map of Job Postings by Location\nPreparing data for a heat map to visualize job postings count by 'search_location', with specific handling for United States locations.",
      "metadata": {
        "noteable": {
          "cell_type": "markdown"
        }
      }
    },
    {
      "id": "c62f4f68-c70c-484b-b48c-2de9ba0d4c21",
      "cell_type": "code",
      "metadata": {
        "noteable": {
          "assign_results_to": "sql_df_anoz",
          "cell_type": "sql",
          "db_connection": "@81bbd42db3724191a3fc03e3b17e2d77",
          "output_collection_id": "48ff89e0-2887-4b53-8fd5-02c579f76caf"
        },
        "ExecuteTime": {
          "end_time": "2023-12-12T13:12:36.414420+00:00",
          "start_time": "2023-12-12T13:12:34.712522+00:00"
        },
        "datalink": {
          "607e0b8d-6860-4356-868e-9c4a5f56655a": {
            "applied_filters": [],
            "dataframe_info": {
              "default_index_used": true,
              "orig_num_cols": 2,
              "orig_num_rows": 168,
              "orig_size_bytes": 4032,
              "truncated_num_cols": 2,
              "truncated_num_rows": 168,
              "truncated_size_bytes": 4032,
              "truncated_string_columns": []
            },
            "display_id": "607e0b8d-6860-4356-868e-9c4a5f56655a",
            "dx_settings": {
              "ALLOW_NOTEABLE_ATTRS": true,
              "COLUMN_SAMPLING_METHOD": "outer",
              "DB_LOCATION": ":memory:",
              "DEV_MODE": false,
              "DISPLAY_MAX_COLUMNS": 100,
              "DISPLAY_MAX_ROWS": 50000,
              "DISPLAY_MODE": "simple",
              "ENABLE_ASSIGNMENT": true,
              "ENABLE_DATALINK": true,
              "FLATTEN_COLUMN_VALUES": true,
              "FLATTEN_INDEX_VALUES": false,
              "GENERATE_DEX_METADATA": false,
              "HTML_TABLE_SCHEMA": false,
              "LOG_LEVEL": 30,
              "MAX_RENDER_SIZE_BYTES": 104857600,
              "MAX_STRING_LENGTH": 250,
              "NUM_PAST_SAMPLES_TRACKED": 3,
              "RANDOM_STATE": 12648430,
              "RESET_INDEX_VALUES": false,
              "ROW_SAMPLING_METHOD": "random",
              "SAMPLING_FACTOR": 0.1,
              "SAMPLING_METHOD": "random",
              "STRINGIFY_COLUMN_VALUES": true,
              "STRINGIFY_INDEX_VALUES": false
            },
            "sample_history": [],
            "sampling_time": "2023-12-12T13:12:36.255917",
            "user_variable_name": "sql_df_anoz",
            "variable_name": "sql_df_anoz"
          }
        }
      },
      "execution_count": null,
      "source": "SELECT \n    CASE \n        WHEN search_location LIKE '%, United States' THEN 'United States' \n        ELSE search_location \n    END AS country,\n    COUNT(*) as count\nFROM public_job_listings.data_nerd_jobs\nGROUP BY country\nORDER BY count DESC;",
      "outputs": []
    },
    {
      "id": "3b3eb7e2-acdb-4f78-baad-c85d5e38d590",
      "cell_type": "code",
      "metadata": {
        "noteable": {
          "cell_type": "code",
          "output_collection_id": "dfb56100-d86d-4f19-84ec-91acdd0c67f0"
        },
        "ExecuteTime": {
          "end_time": "2023-12-12T13:13:12.424823+00:00",
          "start_time": "2023-12-12T13:13:11.900910+00:00"
        }
      },
      "execution_count": null,
      "source": "import geopandas as gpd\nimport matplotlib.pyplot as plt\n\n# Load world map\nworld = gpd.read_file(gpd.datasets.get_path('naturalearth_lowres'))\n\n# Merge the job postings data with the world map\nworld = world.merge(sql_df_anoz, how='left', left_on='name', right_on='country')\n\n# Plotting\nplt.figure(figsize=(15, 10))\nworld.plot(column='count', cmap='Blues_r', legend=True, edgecolor='black')\nplt.title('Heat Map of Job Postings by Country')\nplt.show()",
      "outputs": []
    }
  ]
}