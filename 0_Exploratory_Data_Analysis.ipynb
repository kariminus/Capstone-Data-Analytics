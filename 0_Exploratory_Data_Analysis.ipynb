{
  "nbformat": 4,
  "nbformat_minor": 5,
  "metadata": {
    "noteable-chatgpt": {
      "create_notebook": {
        "openai_conversation_id": "80fed711-a638-569e-9270-9ad489ef5ad1",
        "openai_ephemeral_user_id": "2e6db124-3063-504e-bb5e-24fcda6e9a02",
        "openai_subdivision1_iso_code": "FR-ARA"
      }
    },
    "kernel_info": {
      "name": "python3"
    },
    "kernelspec": {
      "display_name": "Python 3.9",
      "identifier": "legacy",
      "language": "python",
      "language_version": "3.9",
      "name": "python3"
    },
    "selected_hardware_size": "small"
  },
  "cells": [
    {
      "id": "3137a5fc-c5a2-4b44-9231-f435c0ba23d2",
      "cell_type": "markdown",
      "source": "# Table Overview\nA brief overview of the table structure in the 'Data Jobs' connection.",
      "metadata": {
        "noteable": {
          "cell_type": "markdown"
        }
      }
    },
    {
      "id": "81d6c6a2-6ccf-4007-bad9-e0792584706e",
      "cell_type": "code",
      "metadata": {
        "noteable": {
          "assign_results_to": "sql_df_oweu",
          "cell_type": "sql",
          "db_connection": "@81bbd42db3724191a3fc03e3b17e2d77",
          "output_collection_id": "523a7d5c-9a4b-41f7-97e1-86effef1fea9"
        },
        "ExecuteTime": {
          "end_time": "2023-12-12T12:53:26.272614+00:00",
          "start_time": "2023-12-12T12:53:24.926748+00:00"
        },
        "datalink": {
          "4d485a11-a6e6-4e5b-bb8d-82b3b10ab321": {
            "applied_filters": [],
            "dataframe_info": {
              "default_index_used": true,
              "orig_num_cols": 3,
              "orig_num_rows": 1,
              "orig_size_bytes": 32,
              "truncated_num_cols": 3,
              "truncated_num_rows": 1,
              "truncated_size_bytes": 32,
              "truncated_string_columns": []
            },
            "display_id": "4d485a11-a6e6-4e5b-bb8d-82b3b10ab321",
            "dx_settings": {
              "ALLOW_NOTEABLE_ATTRS": true,
              "COLUMN_SAMPLING_METHOD": "outer",
              "DB_LOCATION": ":memory:",
              "DEV_MODE": false,
              "DISPLAY_MAX_COLUMNS": 100,
              "DISPLAY_MAX_ROWS": 50000,
              "DISPLAY_MODE": "simple",
              "ENABLE_ASSIGNMENT": true,
              "ENABLE_DATALINK": true,
              "FLATTEN_COLUMN_VALUES": true,
              "FLATTEN_INDEX_VALUES": false,
              "GENERATE_DEX_METADATA": false,
              "HTML_TABLE_SCHEMA": false,
              "LOG_LEVEL": 30,
              "MAX_RENDER_SIZE_BYTES": 104857600,
              "MAX_STRING_LENGTH": 250,
              "NUM_PAST_SAMPLES_TRACKED": 3,
              "RANDOM_STATE": 12648430,
              "RESET_INDEX_VALUES": false,
              "ROW_SAMPLING_METHOD": "random",
              "SAMPLING_FACTOR": 0.1,
              "SAMPLING_METHOD": "random",
              "STRINGIFY_COLUMN_VALUES": true,
              "STRINGIFY_INDEX_VALUES": false
            },
            "sample_history": [],
            "sampling_time": "2023-12-12T12:53:26.112410",
            "user_variable_name": "sql_df_otaz",
            "variable_name": "sql_df_otaz"
          }
        }
      },
      "execution_count": null,
      "source": "\\list",
      "outputs": []
    },
    {
      "id": "cd9a4659-7852-4749-8bab-601ddbcd927f",
      "cell_type": "markdown",
      "source": "# Sample Data from 'data_nerd_jobs' Table\nRetrieving a sample of 100 rows from the 'data_nerd_jobs' table.",
      "metadata": {
        "noteable": {
          "cell_type": "markdown"
        }
      }
    },
    {
      "id": "65b6ffc8-dd23-4e33-b41d-e27f6f549f50",
      "cell_type": "code",
      "metadata": {
        "noteable": {
          "assign_results_to": "sql_df_gdyc",
          "cell_type": "sql",
          "db_connection": "@81bbd42db3724191a3fc03e3b17e2d77",
          "output_collection_id": "4634e641-149b-48bc-a3ca-61ccf775d442"
        },
        "ExecuteTime": {
          "end_time": "2023-12-12T12:56:29.138512+00:00",
          "start_time": "2023-12-12T12:56:26.543554+00:00"
        },
        "datalink": {
          "83bd617a-c8e3-4d5e-9282-f08ecd784f12": {
            "applied_filters": [],
            "dataframe_info": {
              "default_index_used": true,
              "orig_num_cols": 45,
              "orig_num_rows": 100,
              "orig_size_bytes": 36800,
              "truncated_num_cols": 45,
              "truncated_num_rows": 100,
              "truncated_size_bytes": 36800,
              "truncated_string_columns": [
                "job_id",
                "job_description",
                "job_highlights_qualifications",
                "job_highlights_responsibilities",
                "job_highlights_benefits",
                "keywords_all"
              ]
            },
            "display_id": "83bd617a-c8e3-4d5e-9282-f08ecd784f12",
            "dx_settings": {
              "ALLOW_NOTEABLE_ATTRS": true,
              "COLUMN_SAMPLING_METHOD": "outer",
              "DB_LOCATION": ":memory:",
              "DEV_MODE": false,
              "DISPLAY_MAX_COLUMNS": 100,
              "DISPLAY_MAX_ROWS": 50000,
              "DISPLAY_MODE": "simple",
              "ENABLE_ASSIGNMENT": true,
              "ENABLE_DATALINK": true,
              "FLATTEN_COLUMN_VALUES": true,
              "FLATTEN_INDEX_VALUES": false,
              "GENERATE_DEX_METADATA": false,
              "HTML_TABLE_SCHEMA": false,
              "LOG_LEVEL": 30,
              "MAX_RENDER_SIZE_BYTES": 104857600,
              "MAX_STRING_LENGTH": 250,
              "NUM_PAST_SAMPLES_TRACKED": 3,
              "RANDOM_STATE": 12648430,
              "RESET_INDEX_VALUES": false,
              "ROW_SAMPLING_METHOD": "random",
              "SAMPLING_FACTOR": 0.1,
              "SAMPLING_METHOD": "random",
              "STRINGIFY_COLUMN_VALUES": true,
              "STRINGIFY_INDEX_VALUES": false
            },
            "sample_history": [],
            "sampling_time": "2023-12-12T12:56:28.962546",
            "user_variable_name": "sql_df_gdyc",
            "variable_name": "sql_df_gdyc"
          }
        }
      },
      "execution_count": null,
      "source": "SELECT * FROM public_job_listings.data_nerd_jobs LIMIT 100;",
      "outputs": []
    },
    {
      "id": "a2e509ff-e04d-4914-b2cb-e6f055805c1d",
      "cell_type": "markdown",
      "source": "# Column Data Types in 'data_nerd_jobs' Table\nIdentifying the data types of each column in the 'data_nerd_jobs' table.",
      "metadata": {
        "noteable": {
          "cell_type": "markdown"
        }
      }
    },
    {
      "id": "22732184-2faf-4d63-af6d-138e376d57b4",
      "cell_type": "code",
      "metadata": {
        "noteable": {
          "assign_results_to": "sql_df_fgse",
          "cell_type": "sql",
          "db_connection": "@81bbd42db3724191a3fc03e3b17e2d77",
          "output_collection_id": "b720aa1a-32c1-45f7-ab1b-11b03ab3f025"
        },
        "ExecuteTime": {
          "end_time": "2023-12-12T12:59:31.337917+00:00",
          "start_time": "2023-12-12T12:59:30.605695+00:00"
        }
      },
      "execution_count": null,
      "source": "SELECT column_name, data_type FROM information_schema.columns WHERE table_name = 'data_jobs';",
      "outputs": []
    },
    {
      "id": "fffed85c-eb32-4178-ac42-bb1cde5c327d",
      "cell_type": "markdown",
      "source": "# Job Title Distribution\nCreating a bar graph to visualize the distribution of job titles in the 'data_nerd_jobs' table.",
      "metadata": {
        "noteable": {
          "cell_type": "markdown"
        }
      }
    },
    {
      "id": "24e222be-ceb6-4642-b3ac-d40e553ad149",
      "cell_type": "code",
      "metadata": {
        "noteable": {
          "assign_results_to": "sql_df_kkcw",
          "cell_type": "sql",
          "db_connection": "@81bbd42db3724191a3fc03e3b17e2d77",
          "output_collection_id": "70d73a4c-f4ec-48ab-9ed5-ebd9104155e2"
        },
        "ExecuteTime": {
          "end_time": "2023-12-12T13:01:16.601708+00:00",
          "start_time": "2023-12-12T13:01:14.849353+00:00"
        },
        "datalink": {
          "1b5f76b3-afc9-4ca6-9ae3-2a7939e2cdd1": {
            "applied_filters": [],
            "dataframe_info": {
              "default_index_used": true,
              "orig_num_cols": 2,
              "orig_num_rows": 10,
              "orig_size_bytes": 240,
              "truncated_num_cols": 2,
              "truncated_num_rows": 10,
              "truncated_size_bytes": 240,
              "truncated_string_columns": []
            },
            "display_id": "1b5f76b3-afc9-4ca6-9ae3-2a7939e2cdd1",
            "dx_settings": {
              "ALLOW_NOTEABLE_ATTRS": true,
              "COLUMN_SAMPLING_METHOD": "outer",
              "DB_LOCATION": ":memory:",
              "DEV_MODE": false,
              "DISPLAY_MAX_COLUMNS": 100,
              "DISPLAY_MAX_ROWS": 50000,
              "DISPLAY_MODE": "simple",
              "ENABLE_ASSIGNMENT": true,
              "ENABLE_DATALINK": true,
              "FLATTEN_COLUMN_VALUES": true,
              "FLATTEN_INDEX_VALUES": false,
              "GENERATE_DEX_METADATA": false,
              "HTML_TABLE_SCHEMA": false,
              "LOG_LEVEL": 30,
              "MAX_RENDER_SIZE_BYTES": 104857600,
              "MAX_STRING_LENGTH": 250,
              "NUM_PAST_SAMPLES_TRACKED": 3,
              "RANDOM_STATE": 12648430,
              "RESET_INDEX_VALUES": false,
              "ROW_SAMPLING_METHOD": "random",
              "SAMPLING_FACTOR": 0.1,
              "SAMPLING_METHOD": "random",
              "STRINGIFY_COLUMN_VALUES": true,
              "STRINGIFY_INDEX_VALUES": false
            },
            "sample_history": [],
            "sampling_time": "2023-12-12T13:01:16.443330",
            "user_variable_name": "sql_df_kkcw",
            "variable_name": "sql_df_kkcw"
          }
        }
      },
      "execution_count": null,
      "source": "SELECT job_title_final, COUNT(*) as count FROM public_job_listings.data_nerd_jobs GROUP BY job_title_final ORDER BY count DESC LIMIT 10;",
      "outputs": []
    },
    {
      "id": "31ef388a-08b3-4682-9735-ae07c1b4138e",
      "cell_type": "code",
      "metadata": {
        "noteable": {
          "cell_type": "code",
          "output_collection_id": "c7e226e6-91bc-43b3-b849-15972e4db32e"
        },
        "ExecuteTime": {
          "end_time": "2023-12-12T13:01:43.169933+00:00",
          "start_time": "2023-12-12T13:01:42.163700+00:00"
        }
      },
      "execution_count": null,
      "source": "import seaborn as sns\nimport matplotlib.pyplot as plt\n\n# Setting the Seaborn style\nsns.set(style=\"whitegrid\")\n\n# Creating the bar plot\nplt.figure(figsize=(10, 6))\nsns.barplot(x='count', y='job_title_final', data=sql_df_kkcw, palette='Blues_r')\nplt.title('Top 10 Job Titles in Data Jobs')\nplt.xlabel('Count')\nplt.ylabel('Job Title')\nplt.show()",
      "outputs": []
    }
  ]
}