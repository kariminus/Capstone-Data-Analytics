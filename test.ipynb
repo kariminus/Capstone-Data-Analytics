{
  "nbformat": 4,
  "nbformat_minor": 5,
  "metadata": {
    "kernel_info": {
      "name": "python3.9-noteable"
    },
    "kernelspec": {
      "display_name": "Python 3.9 (Noteable)",
      "identifier": "noteable",
      "language": "python",
      "language_version": "3.9",
      "name": "python3.9-noteable"
    },
    "selected_hardware_size": "small"
  },
  "cells": [
    {
      "id": "e77c2149",
      "cell_type": "code",
      "metadata": {
        "noteable": {
          "output_collection_id": "e2869b71-70d2-4cde-bf5a-31621599f8a0"
        },
        "ExecuteTime": {
          "end_time": "2023-12-12T08:34:48.925628+00:00",
          "start_time": "2023-12-12T08:34:48.770553+00:00"
        }
      },
      "execution_count": null,
      "source": "print(\"hello world\")",
      "outputs": []
    },
    {
      "id": "e157c6cf-6990-48f4-9410-3aeb5c038e91",
      "cell_type": "code",
      "metadata": {
        "noteable": {
          "assign_results_to": "sql_df_1",
          "cell_type": "sql",
          "db_connection": "@81bbd42db3724191a3fc03e3b17e2d77",
          "output_collection_id": "b3686350-a3d2-469c-a6d9-f6e506860b18"
        },
        "ExecuteTime": {
          "end_time": "2023-12-12T08:44:06.448392+00:00",
          "start_time": "2023-12-12T08:44:04.741868+00:00"
        },
        "datalink": {
          "f3a80ae1-8eea-4e2d-bf68-4653ff1164b4": {
            "applied_filters": [],
            "dataframe_info": {
              "default_index_used": true,
              "orig_num_cols": 3,
              "orig_num_rows": 1,
              "orig_size_bytes": 32,
              "truncated_num_cols": 3,
              "truncated_num_rows": 1,
              "truncated_size_bytes": 32,
              "truncated_string_columns": []
            },
            "display_id": "f3a80ae1-8eea-4e2d-bf68-4653ff1164b4",
            "dx_settings": {
              "ALLOW_NOTEABLE_ATTRS": true,
              "COLUMN_SAMPLING_METHOD": "outer",
              "DB_LOCATION": ":memory:",
              "DEV_MODE": false,
              "DISPLAY_MAX_COLUMNS": 100,
              "DISPLAY_MAX_ROWS": 50000,
              "DISPLAY_MODE": "simple",
              "ENABLE_ASSIGNMENT": true,
              "ENABLE_DATALINK": true,
              "FLATTEN_COLUMN_VALUES": true,
              "FLATTEN_INDEX_VALUES": false,
              "GENERATE_DEX_METADATA": false,
              "HTML_TABLE_SCHEMA": false,
              "LOG_LEVEL": 30,
              "MAX_RENDER_SIZE_BYTES": 104857600,
              "MAX_STRING_LENGTH": 250,
              "NUM_PAST_SAMPLES_TRACKED": 3,
              "RANDOM_STATE": 12648430,
              "RESET_INDEX_VALUES": false,
              "ROW_SAMPLING_METHOD": "random",
              "SAMPLING_FACTOR": 0.1,
              "SAMPLING_METHOD": "random",
              "STRINGIFY_COLUMN_VALUES": true,
              "STRINGIFY_INDEX_VALUES": false
            },
            "sample_history": [],
            "sampling_time": "2023-12-12T08:44:06.285150",
            "user_variable_name": null,
            "variable_name": "unk_dataframe_0b7d2a4f397843e6935d517f6d71d57f"
          }
        }
      },
      "execution_count": null,
      "source": "-- Execute this cell to return the list of tables\n-- and views within the default schema of this database\n-- (Use \\help to learn more options)\n\n\\list",
      "outputs": []
    },
    {
      "id": "1f9b4c9d-e553-4bf2-8431-286739828da6",
      "cell_type": "code",
      "metadata": {
        "noteable": {
          "assign_results_to": "row_count",
          "cell_type": "sql",
          "db_connection": "@81bbd42db3724191a3fc03e3b17e2d77",
          "output_collection_id": "5d9f0e2e-d1ce-42ba-a85b-d9992ee3f6ef"
        },
        "ExecuteTime": {
          "end_time": "2023-12-12T08:46:52.296688+00:00",
          "start_time": "2023-12-12T08:46:50.607684+00:00"
        },
        "datalink": {
          "c5df674c-0f13-4abc-b09f-a6faa6a07e79": {
            "applied_filters": [],
            "dataframe_info": {
              "default_index_used": true,
              "orig_num_cols": 1,
              "orig_num_rows": 1,
              "orig_size_bytes": 16,
              "truncated_num_cols": 1,
              "truncated_num_rows": 1,
              "truncated_size_bytes": 16,
              "truncated_string_columns": []
            },
            "display_id": "c5df674c-0f13-4abc-b09f-a6faa6a07e79",
            "dx_settings": {
              "ALLOW_NOTEABLE_ATTRS": true,
              "COLUMN_SAMPLING_METHOD": "outer",
              "DB_LOCATION": ":memory:",
              "DEV_MODE": false,
              "DISPLAY_MAX_COLUMNS": 100,
              "DISPLAY_MAX_ROWS": 50000,
              "DISPLAY_MODE": "simple",
              "ENABLE_ASSIGNMENT": true,
              "ENABLE_DATALINK": true,
              "FLATTEN_COLUMN_VALUES": true,
              "FLATTEN_INDEX_VALUES": false,
              "GENERATE_DEX_METADATA": false,
              "HTML_TABLE_SCHEMA": false,
              "LOG_LEVEL": 30,
              "MAX_RENDER_SIZE_BYTES": 104857600,
              "MAX_STRING_LENGTH": 250,
              "NUM_PAST_SAMPLES_TRACKED": 3,
              "RANDOM_STATE": 12648430,
              "RESET_INDEX_VALUES": false,
              "ROW_SAMPLING_METHOD": "random",
              "SAMPLING_FACTOR": 0.1,
              "SAMPLING_METHOD": "random",
              "STRINGIFY_COLUMN_VALUES": true,
              "STRINGIFY_INDEX_VALUES": false
            },
            "sample_history": [],
            "sampling_time": "2023-12-12T08:46:52.138456",
            "user_variable_name": "row_count",
            "variable_name": "row_count"
          }
        }
      },
      "execution_count": null,
      "source": "SELECT COUNT(*) FROM public_job_listings.data_nerd_jobs;",
      "outputs": []
    },
    {
      "id": "d5f4271c-2611-4171-8328-5c6c5c3ec08a",
      "cell_type": "code",
      "metadata": {
        "noteable": {
          "assign_results_to": "top_job_titles",
          "cell_type": "sql",
          "db_connection": "@81bbd42db3724191a3fc03e3b17e2d77",
          "output_collection_id": "f58543a4-19ed-40ba-b267-54c01780f347"
        },
        "ExecuteTime": {
          "end_time": "2023-12-12T08:48:15.599619+00:00",
          "start_time": "2023-12-12T08:48:13.831318+00:00"
        },
        "datalink": {
          "138ceafd-f20a-4823-8093-9854f73dfef0": {
            "applied_filters": [],
            "dataframe_info": {
              "default_index_used": true,
              "orig_num_cols": 2,
              "orig_num_rows": 10,
              "orig_size_bytes": 240,
              "truncated_num_cols": 2,
              "truncated_num_rows": 10,
              "truncated_size_bytes": 240,
              "truncated_string_columns": []
            },
            "display_id": "138ceafd-f20a-4823-8093-9854f73dfef0",
            "dx_settings": {
              "ALLOW_NOTEABLE_ATTRS": true,
              "COLUMN_SAMPLING_METHOD": "outer",
              "DB_LOCATION": ":memory:",
              "DEV_MODE": false,
              "DISPLAY_MAX_COLUMNS": 100,
              "DISPLAY_MAX_ROWS": 50000,
              "DISPLAY_MODE": "simple",
              "ENABLE_ASSIGNMENT": true,
              "ENABLE_DATALINK": true,
              "FLATTEN_COLUMN_VALUES": true,
              "FLATTEN_INDEX_VALUES": false,
              "GENERATE_DEX_METADATA": false,
              "HTML_TABLE_SCHEMA": false,
              "LOG_LEVEL": 30,
              "MAX_RENDER_SIZE_BYTES": 104857600,
              "MAX_STRING_LENGTH": 250,
              "NUM_PAST_SAMPLES_TRACKED": 3,
              "RANDOM_STATE": 12648430,
              "RESET_INDEX_VALUES": false,
              "ROW_SAMPLING_METHOD": "random",
              "SAMPLING_FACTOR": 0.1,
              "SAMPLING_METHOD": "random",
              "STRINGIFY_COLUMN_VALUES": true,
              "STRINGIFY_INDEX_VALUES": false
            },
            "sample_history": [],
            "sampling_time": "2023-12-12T08:48:15.440802",
            "user_variable_name": "top_job_titles",
            "variable_name": "top_job_titles"
          }
        }
      },
      "execution_count": null,
      "source": "SELECT job_title_final, COUNT(*) as count\nFROM public_job_listings.data_nerd_jobs\nGROUP BY job_title_final\nORDER BY count DESC\nLIMIT 10;",
      "outputs": []
    },
    {
      "id": "1b834fee-1bfa-470a-8b37-432fa3eab1c3",
      "cell_type": "code",
      "metadata": {
        "noteable": {
          "cell_type": "code",
          "output_collection_id": "ff4b9fe5-16ba-493e-ab35-af23ffef721f"
        },
        "ExecuteTime": {
          "end_time": "2023-12-12T08:48:38.977102+00:00",
          "start_time": "2023-12-12T08:48:37.546349+00:00"
        }
      },
      "execution_count": null,
      "source": "import seaborn as sns\nimport matplotlib.pyplot as plt\n\n# Setting the plot style\nsns.set(style=\"whitegrid\")\n\n# Creating the bar plot\nplt.figure(figsize=(10, 6))\nsns.barplot(x=\"count\", y=\"job_title_final\", data=top_job_titles, palette=\"Blues_r\")\n\nplt.title('Top 10 Job Titles in Data Jobs')\nplt.xlabel('Count')\nplt.ylabel('Job Title')\nplt.show()",
      "outputs": []
    }
  ]
}