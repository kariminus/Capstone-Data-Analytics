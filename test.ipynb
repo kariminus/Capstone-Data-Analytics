{
  "nbformat": 4,
  "nbformat_minor": 5,
  "metadata": {
    "kernel_info": {
      "name": "python3.9-noteable"
    },
    "kernelspec": {
      "display_name": "Python 3.9 (Noteable)",
      "identifier": "noteable",
      "language": "python",
      "language_version": "3.9",
      "name": "python3.9-noteable"
    },
    "selected_hardware_size": "small"
  },
  "cells": [
    {
      "id": "e77c2149",
      "cell_type": "code",
      "metadata": {
        "noteable": {
          "output_collection_id": "e2869b71-70d2-4cde-bf5a-31621599f8a0"
        },
        "ExecuteTime": {
          "end_time": "2023-12-12T08:34:48.925628+00:00",
          "start_time": "2023-12-12T08:34:48.770553+00:00"
        }
      },
      "execution_count": null,
      "source": "print(\"hello world\")",
      "outputs": []
    },
    {
      "id": "e157c6cf-6990-48f4-9410-3aeb5c038e91",
      "cell_type": "code",
      "metadata": {
        "noteable": {
          "assign_results_to": "sql_df_1",
          "cell_type": "sql",
          "db_connection": "@81bbd42db3724191a3fc03e3b17e2d77"
        }
      },
      "execution_count": null,
      "source": "-- Execute this cell to return the list of tables\n-- and views within the default schema of this database\n-- (Use \\help to learn more options)\n\n\\list",
      "outputs": []
    }
  ]
}