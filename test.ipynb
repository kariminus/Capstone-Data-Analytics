{
  "nbformat": 4,
  "nbformat_minor": 5,
  "metadata": {
    "kernel_info": {
      "name": "python3.9-noteable"
    },
    "kernelspec": {
      "display_name": "Python 3.9 (Noteable)",
      "identifier": "noteable",
      "language": "python",
      "language_version": "3.9",
      "name": "python3.9-noteable"
    },
    "selected_hardware_size": "small"
  },
  "cells": [
    {
      "id": "e77c2149",
      "cell_type": "code",
      "metadata": {
        "noteable": {
          "output_collection_id": "e2869b71-70d2-4cde-bf5a-31621599f8a0"
        },
        "ExecuteTime": {
          "end_time": "2023-12-12T08:34:48.925628+00:00",
          "start_time": "2023-12-12T08:34:48.770553+00:00"
        }
      },
      "execution_count": null,
      "source": "print(\"hello world\")",
      "outputs": []
    }
  ]
}