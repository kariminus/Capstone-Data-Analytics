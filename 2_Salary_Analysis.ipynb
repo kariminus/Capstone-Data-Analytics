{
  "nbformat": 4,
  "nbformat_minor": 5,
  "metadata": {
    "noteable-chatgpt": {
      "create_notebook": {
        "openai_conversation_id": "3e9170d4-faf8-5dcd-905b-79efd8aff3db",
        "openai_ephemeral_user_id": "304c6152-ad2f-5383-ab4b-fc7ce3ed78a1",
        "openai_subdivision1_iso_code": "FR-ARA"
      }
    },
    "kernel_info": {
      "name": "python3"
    },
    "kernelspec": {
      "display_name": "Python 3.9",
      "identifier": "legacy",
      "language": "python",
      "language_version": "3.9",
      "name": "python3"
    },
    "selected_hardware_size": "small"
  },
  "cells": [
    {
      "id": "9ce4d83b-a03c-46b9-b88a-61820cc12c36",
      "cell_type": "markdown",
      "source": "## Column Exploration\nIdentifying columns related to salary in the 'data_nerd_jobs' table.",
      "metadata": {
        "noteable": {
          "cell_type": "markdown"
        }
      }
    },
    {
      "id": "d2f509e6-4f8b-4cd8-a029-0ff4780eb8b9",
      "cell_type": "code",
      "metadata": {
        "jupyter": {
          "outputs_hidden": false,
          "source_hidden": false
        },
        "noteable": {
          "cell_type": "code"
        }
      },
      "execution_count": null,
      "source": "",
      "outputs": []
    },
    {
      "id": "cb350860-2d73-44e6-9446-36a472a168a2",
      "cell_type": "code",
      "metadata": {
        "noteable": {
          "assign_results_to": "sql_df_vxee",
          "cell_type": "sql",
          "db_connection": "@81bbd42db3724191a3fc03e3b17e2d77",
          "output_collection_id": "ade1a959-ecc9-4e10-ad45-4a4866f9a13e"
        },
        "ExecuteTime": {
          "end_time": "2023-12-13T13:24:04.275460+00:00",
          "start_time": "2023-12-13T13:24:02.277093+00:00"
        },
        "datalink": {
          "54af7135-0db2-4f89-868c-f25573115fa5": {
            "applied_filters": [],
            "dataframe_info": {
              "default_index_used": true,
              "orig_num_cols": 3,
              "orig_num_rows": 1,
              "orig_size_bytes": 32,
              "truncated_num_cols": 3,
              "truncated_num_rows": 1,
              "truncated_size_bytes": 32,
              "truncated_string_columns": []
            },
            "display_id": "54af7135-0db2-4f89-868c-f25573115fa5",
            "dx_settings": {
              "ALLOW_NOTEABLE_ATTRS": true,
              "COLUMN_SAMPLING_METHOD": "outer",
              "DB_LOCATION": ":memory:",
              "DEV_MODE": false,
              "DISPLAY_MAX_COLUMNS": 100,
              "DISPLAY_MAX_ROWS": 50000,
              "DISPLAY_MODE": "simple",
              "ENABLE_ASSIGNMENT": true,
              "ENABLE_DATALINK": true,
              "FLATTEN_COLUMN_VALUES": true,
              "FLATTEN_INDEX_VALUES": false,
              "GENERATE_DEX_METADATA": false,
              "HTML_TABLE_SCHEMA": false,
              "LOG_LEVEL": 30,
              "MAX_RENDER_SIZE_BYTES": 104857600,
              "MAX_STRING_LENGTH": 250,
              "NUM_PAST_SAMPLES_TRACKED": 3,
              "RANDOM_STATE": 12648430,
              "RESET_INDEX_VALUES": false,
              "ROW_SAMPLING_METHOD": "random",
              "SAMPLING_FACTOR": 0.1,
              "SAMPLING_METHOD": "random",
              "STRINGIFY_COLUMN_VALUES": true,
              "STRINGIFY_INDEX_VALUES": false
            },
            "sample_history": [],
            "sampling_time": "2023-12-13T13:24:04.114220",
            "user_variable_name": null,
            "variable_name": "unk_dataframe_3ea3324c65be4a85a0754286496efecb"
          }
        }
      },
      "execution_count": null,
      "source": "\\list",
      "outputs": []
    },
    {
      "id": "c51bb6a1-01b0-4ea4-a4ed-74075643bbaf",
      "cell_type": "code",
      "metadata": {
        "noteable": {
          "assign_results_to": "sql_df_tcaj",
          "cell_type": "sql",
          "db_connection": "@81bbd42db3724191a3fc03e3b17e2d77",
          "output_collection_id": "48bd454d-d0de-47d0-adfe-475329c5ece7"
        },
        "ExecuteTime": {
          "end_time": "2023-12-13T13:27:53.110403+00:00",
          "start_time": "2023-12-13T13:27:51.508605+00:00"
        },
        "datalink": {
          "875085d1-b617-4cbe-9767-57e2f24b885e": {
            "applied_filters": [],
            "dataframe_info": {
              "default_index_used": false,
              "orig_num_cols": 45,
              "orig_num_rows": 0,
              "orig_size_bytes": 0,
              "truncated_num_cols": 45,
              "truncated_num_rows": 0,
              "truncated_size_bytes": 0,
              "truncated_string_columns": []
            },
            "display_id": "875085d1-b617-4cbe-9767-57e2f24b885e",
            "dx_settings": {
              "ALLOW_NOTEABLE_ATTRS": true,
              "COLUMN_SAMPLING_METHOD": "outer",
              "DB_LOCATION": ":memory:",
              "DEV_MODE": false,
              "DISPLAY_MAX_COLUMNS": 100,
              "DISPLAY_MAX_ROWS": 50000,
              "DISPLAY_MODE": "simple",
              "ENABLE_ASSIGNMENT": true,
              "ENABLE_DATALINK": true,
              "FLATTEN_COLUMN_VALUES": true,
              "FLATTEN_INDEX_VALUES": false,
              "GENERATE_DEX_METADATA": false,
              "HTML_TABLE_SCHEMA": false,
              "LOG_LEVEL": 30,
              "MAX_RENDER_SIZE_BYTES": 104857600,
              "MAX_STRING_LENGTH": 250,
              "NUM_PAST_SAMPLES_TRACKED": 3,
              "RANDOM_STATE": 12648430,
              "RESET_INDEX_VALUES": false,
              "ROW_SAMPLING_METHOD": "random",
              "SAMPLING_FACTOR": 0.1,
              "SAMPLING_METHOD": "random",
              "STRINGIFY_COLUMN_VALUES": true,
              "STRINGIFY_INDEX_VALUES": false
            },
            "sample_history": [],
            "sampling_time": "2023-12-13T13:27:52.945718",
            "user_variable_name": "sql_df_tcaj",
            "variable_name": "sql_df_tcaj"
          }
        }
      },
      "execution_count": null,
      "source": "SELECT *\nFROM public_job_listings.data_nerd_jobs\nLIMIT 0;",
      "outputs": []
    },
    {
      "id": "8dd48d5e-a6c0-4379-8de4-b386fabf18c3",
      "cell_type": "code",
      "metadata": {
        "noteable": {
          "assign_results_to": "sql_df_dkcv",
          "cell_type": "sql",
          "db_connection": "@81bbd42db3724191a3fc03e3b17e2d77",
          "output_collection_id": "c46e32a4-a434-4f7d-8c5b-18b16d987227"
        },
        "ExecuteTime": {
          "end_time": "2023-12-13T13:29:59.213359+00:00",
          "start_time": "2023-12-13T13:29:57.367496+00:00"
        },
        "datalink": {
          "3af4e054-3f9f-4a8b-ace6-0f23b4b2aae8": {
            "applied_filters": [],
            "dataframe_info": {
              "default_index_used": true,
              "orig_num_cols": 1,
              "orig_num_rows": 8,
              "orig_size_bytes": 128,
              "truncated_num_cols": 1,
              "truncated_num_rows": 8,
              "truncated_size_bytes": 128,
              "truncated_string_columns": []
            },
            "display_id": "3af4e054-3f9f-4a8b-ace6-0f23b4b2aae8",
            "dx_settings": {
              "ALLOW_NOTEABLE_ATTRS": true,
              "COLUMN_SAMPLING_METHOD": "outer",
              "DB_LOCATION": ":memory:",
              "DEV_MODE": false,
              "DISPLAY_MAX_COLUMNS": 100,
              "DISPLAY_MAX_ROWS": 50000,
              "DISPLAY_MODE": "simple",
              "ENABLE_ASSIGNMENT": true,
              "ENABLE_DATALINK": true,
              "FLATTEN_COLUMN_VALUES": true,
              "FLATTEN_INDEX_VALUES": false,
              "GENERATE_DEX_METADATA": false,
              "HTML_TABLE_SCHEMA": false,
              "LOG_LEVEL": 30,
              "MAX_RENDER_SIZE_BYTES": 104857600,
              "MAX_STRING_LENGTH": 250,
              "NUM_PAST_SAMPLES_TRACKED": 3,
              "RANDOM_STATE": 12648430,
              "RESET_INDEX_VALUES": false,
              "ROW_SAMPLING_METHOD": "random",
              "SAMPLING_FACTOR": 0.1,
              "SAMPLING_METHOD": "random",
              "STRINGIFY_COLUMN_VALUES": true,
              "STRINGIFY_INDEX_VALUES": false
            },
            "sample_history": [],
            "sampling_time": "2023-12-13T13:29:59.055754",
            "user_variable_name": "sql_df_dkcv",
            "variable_name": "sql_df_dkcv"
          }
        }
      },
      "execution_count": null,
      "source": "SELECT COLUMN_NAME\nFROM INFORMATION_SCHEMA.COLUMNS\nWHERE TABLE_NAME = 'data_nerd_jobs'\nAND COLUMN_NAME LIKE '%salary%';",
      "outputs": []
    }
  ]
}