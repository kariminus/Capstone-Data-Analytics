{
  "nbformat": 4,
  "nbformat_minor": 5,
  "metadata": {
    "noteable-chatgpt": {
      "create_notebook": {
        "openai_conversation_id": "3e9170d4-faf8-5dcd-905b-79efd8aff3db",
        "openai_ephemeral_user_id": "304c6152-ad2f-5383-ab4b-fc7ce3ed78a1",
        "openai_subdivision1_iso_code": "FR-ARA"
      }
    },
    "kernel_info": {
      "name": "python3"
    },
    "kernelspec": {
      "display_name": "Python 3.9",
      "identifier": "legacy",
      "language": "python",
      "language_version": "3.9",
      "name": "python3"
    },
    "selected_hardware_size": "small"
  },
  "cells": [
    {
      "id": "d2f509e6-4f8b-4cd8-a029-0ff4780eb8b9",
      "cell_type": "code",
      "metadata": {
        "jupyter": {
          "outputs_hidden": false,
          "source_hidden": false
        },
        "noteable": {
          "cell_type": "code"
        }
      },
      "execution_count": null,
      "source": "",
      "outputs": []
    },
    {
      "id": "cb350860-2d73-44e6-9446-36a472a168a2",
      "cell_type": "code",
      "metadata": {
        "noteable": {
          "assign_results_to": "sql_df_vxee",
          "cell_type": "sql",
          "db_connection": "@81bbd42db3724191a3fc03e3b17e2d77",
          "output_collection_id": "a5212546-63f7-4d0a-82fa-0e09dc83ad4a"
        },
        "ExecuteTime": {
          "end_time": "2023-12-13T13:55:50.931625+00:00",
          "start_time": "2023-12-13T13:55:49.567650+00:00"
        },
        "datalink": {
          "54af7135-0db2-4f89-868c-f25573115fa5": {
            "applied_filters": [],
            "dataframe_info": {
              "default_index_used": true,
              "orig_num_cols": 3,
              "orig_num_rows": 1,
              "orig_size_bytes": 32,
              "truncated_num_cols": 3,
              "truncated_num_rows": 1,
              "truncated_size_bytes": 32,
              "truncated_string_columns": []
            },
            "display_id": "54af7135-0db2-4f89-868c-f25573115fa5",
            "dx_settings": {
              "ALLOW_NOTEABLE_ATTRS": true,
              "COLUMN_SAMPLING_METHOD": "outer",
              "DB_LOCATION": ":memory:",
              "DEV_MODE": false,
              "DISPLAY_MAX_COLUMNS": 100,
              "DISPLAY_MAX_ROWS": 50000,
              "DISPLAY_MODE": "simple",
              "ENABLE_ASSIGNMENT": true,
              "ENABLE_DATALINK": true,
              "FLATTEN_COLUMN_VALUES": true,
              "FLATTEN_INDEX_VALUES": false,
              "GENERATE_DEX_METADATA": false,
              "HTML_TABLE_SCHEMA": false,
              "LOG_LEVEL": 30,
              "MAX_RENDER_SIZE_BYTES": 104857600,
              "MAX_STRING_LENGTH": 250,
              "NUM_PAST_SAMPLES_TRACKED": 3,
              "RANDOM_STATE": 12648430,
              "RESET_INDEX_VALUES": false,
              "ROW_SAMPLING_METHOD": "random",
              "SAMPLING_FACTOR": 0.1,
              "SAMPLING_METHOD": "random",
              "STRINGIFY_COLUMN_VALUES": true,
              "STRINGIFY_INDEX_VALUES": false
            },
            "sample_history": [],
            "sampling_time": "2023-12-13T13:24:04.114220",
            "user_variable_name": null,
            "variable_name": "unk_dataframe_3ea3324c65be4a85a0754286496efecb"
          },
          "bad18a09-de8d-48d2-bd61-0012ab4d49f9": {
            "applied_filters": [],
            "dataframe_info": {
              "default_index_used": true,
              "orig_num_cols": 3,
              "orig_num_rows": 1,
              "orig_size_bytes": 32,
              "truncated_num_cols": 3,
              "truncated_num_rows": 1,
              "truncated_size_bytes": 32,
              "truncated_string_columns": []
            },
            "display_id": "bad18a09-de8d-48d2-bd61-0012ab4d49f9",
            "dx_settings": {
              "ALLOW_NOTEABLE_ATTRS": true,
              "COLUMN_SAMPLING_METHOD": "outer",
              "DB_LOCATION": ":memory:",
              "DEV_MODE": false,
              "DISPLAY_MAX_COLUMNS": 100,
              "DISPLAY_MAX_ROWS": 50000,
              "DISPLAY_MODE": "simple",
              "ENABLE_ASSIGNMENT": true,
              "ENABLE_DATALINK": true,
              "FLATTEN_COLUMN_VALUES": true,
              "FLATTEN_INDEX_VALUES": false,
              "GENERATE_DEX_METADATA": false,
              "HTML_TABLE_SCHEMA": false,
              "LOG_LEVEL": 30,
              "MAX_RENDER_SIZE_BYTES": 104857600,
              "MAX_STRING_LENGTH": 250,
              "NUM_PAST_SAMPLES_TRACKED": 3,
              "RANDOM_STATE": 12648430,
              "RESET_INDEX_VALUES": false,
              "ROW_SAMPLING_METHOD": "random",
              "SAMPLING_FACTOR": 0.1,
              "SAMPLING_METHOD": "random",
              "STRINGIFY_COLUMN_VALUES": true,
              "STRINGIFY_INDEX_VALUES": false
            },
            "sample_history": [],
            "sampling_time": "2023-12-13T13:55:50.773934",
            "user_variable_name": "sql_df_vxee",
            "variable_name": "sql_df_vxee"
          }
        }
      },
      "execution_count": null,
      "source": "\\list",
      "outputs": []
    },
    {
      "id": "9ce4d83b-a03c-46b9-b88a-61820cc12c36",
      "cell_type": "markdown",
      "source": "## Column Exploration\nIdentifying columns related to salary in the 'data_nerd_jobs' table.",
      "metadata": {
        "noteable": {
          "cell_type": "markdown"
        }
      }
    },
    {
      "id": "8dd48d5e-a6c0-4379-8de4-b386fabf18c3",
      "cell_type": "code",
      "metadata": {
        "noteable": {
          "assign_results_to": "sql_df_dkcv",
          "cell_type": "sql",
          "db_connection": "@81bbd42db3724191a3fc03e3b17e2d77",
          "output_collection_id": "d3f5f5f8-73d7-4f2a-98ce-a7bf754aefed"
        },
        "ExecuteTime": {
          "end_time": "2023-12-13T13:56:05.266908+00:00",
          "start_time": "2023-12-13T13:56:03.570872+00:00"
        },
        "datalink": {
          "3af4e054-3f9f-4a8b-ace6-0f23b4b2aae8": {
            "applied_filters": [],
            "dataframe_info": {
              "default_index_used": true,
              "orig_num_cols": 1,
              "orig_num_rows": 8,
              "orig_size_bytes": 128,
              "truncated_num_cols": 1,
              "truncated_num_rows": 8,
              "truncated_size_bytes": 128,
              "truncated_string_columns": []
            },
            "display_id": "3af4e054-3f9f-4a8b-ace6-0f23b4b2aae8",
            "dx_settings": {
              "ALLOW_NOTEABLE_ATTRS": true,
              "COLUMN_SAMPLING_METHOD": "outer",
              "DB_LOCATION": ":memory:",
              "DEV_MODE": false,
              "DISPLAY_MAX_COLUMNS": 100,
              "DISPLAY_MAX_ROWS": 50000,
              "DISPLAY_MODE": "simple",
              "ENABLE_ASSIGNMENT": true,
              "ENABLE_DATALINK": true,
              "FLATTEN_COLUMN_VALUES": true,
              "FLATTEN_INDEX_VALUES": false,
              "GENERATE_DEX_METADATA": false,
              "HTML_TABLE_SCHEMA": false,
              "LOG_LEVEL": 30,
              "MAX_RENDER_SIZE_BYTES": 104857600,
              "MAX_STRING_LENGTH": 250,
              "NUM_PAST_SAMPLES_TRACKED": 3,
              "RANDOM_STATE": 12648430,
              "RESET_INDEX_VALUES": false,
              "ROW_SAMPLING_METHOD": "random",
              "SAMPLING_FACTOR": 0.1,
              "SAMPLING_METHOD": "random",
              "STRINGIFY_COLUMN_VALUES": true,
              "STRINGIFY_INDEX_VALUES": false
            },
            "sample_history": [],
            "sampling_time": "2023-12-13T13:29:59.055754",
            "user_variable_name": "sql_df_dkcv",
            "variable_name": "sql_df_dkcv"
          },
          "bd63b498-9574-4c79-83c3-ed3650e56923": {
            "applied_filters": [],
            "dataframe_info": {
              "default_index_used": true,
              "orig_num_cols": 1,
              "orig_num_rows": 8,
              "orig_size_bytes": 128,
              "truncated_num_cols": 1,
              "truncated_num_rows": 8,
              "truncated_size_bytes": 128,
              "truncated_string_columns": []
            },
            "display_id": "bd63b498-9574-4c79-83c3-ed3650e56923",
            "dx_settings": {
              "ALLOW_NOTEABLE_ATTRS": true,
              "COLUMN_SAMPLING_METHOD": "outer",
              "DB_LOCATION": ":memory:",
              "DEV_MODE": false,
              "DISPLAY_MAX_COLUMNS": 100,
              "DISPLAY_MAX_ROWS": 50000,
              "DISPLAY_MODE": "simple",
              "ENABLE_ASSIGNMENT": true,
              "ENABLE_DATALINK": true,
              "FLATTEN_COLUMN_VALUES": true,
              "FLATTEN_INDEX_VALUES": false,
              "GENERATE_DEX_METADATA": false,
              "HTML_TABLE_SCHEMA": false,
              "LOG_LEVEL": 30,
              "MAX_RENDER_SIZE_BYTES": 104857600,
              "MAX_STRING_LENGTH": 250,
              "NUM_PAST_SAMPLES_TRACKED": 3,
              "RANDOM_STATE": 12648430,
              "RESET_INDEX_VALUES": false,
              "ROW_SAMPLING_METHOD": "random",
              "SAMPLING_FACTOR": 0.1,
              "SAMPLING_METHOD": "random",
              "STRINGIFY_COLUMN_VALUES": true,
              "STRINGIFY_INDEX_VALUES": false
            },
            "sample_history": [],
            "sampling_time": "2023-12-13T13:56:05.109308",
            "user_variable_name": "sql_df_dkcv",
            "variable_name": "sql_df_dkcv"
          }
        }
      },
      "execution_count": null,
      "source": "SELECT COLUMN_NAME\nFROM INFORMATION_SCHEMA.COLUMNS\nWHERE TABLE_NAME = 'data_nerd_jobs'\nAND COLUMN_NAME LIKE '%salary%';",
      "outputs": []
    },
    {
      "id": "ff58db82-315b-4fba-b2db-8da8dfd3a947",
      "cell_type": "markdown",
      "source": "## EDA on Salary Columns\nPerforming Exploratory Data Analysis on 'salary_year' and 'salary_hour' columns, including descriptive statistics and histograms.",
      "metadata": {
        "noteable": {
          "cell_type": "markdown"
        }
      }
    },
    {
      "id": "f1c4db2c-fca1-475e-b6e4-8f72f542d671",
      "cell_type": "code",
      "metadata": {
        "noteable": {
          "cell_type": "code",
          "output_collection_id": "0e4b3538-dac2-4d5c-9e40-e14a40ebfb23"
        },
        "ExecuteTime": {
          "end_time": "2023-12-13T13:56:09.186663+00:00",
          "start_time": "2023-12-13T13:56:08.961756+00:00"
        }
      },
      "execution_count": null,
      "source": "import pandas as pd\nimport seaborn as sns\nimport matplotlib.pyplot as plt\nfrom sqlalchemy import create_engine\n\n# Establishing a connection to the database\nengine = create_engine('bigquery://public_job_listings')\n\n# Load the data\nquery = \"\"\"\nSELECT salary_year, salary_hour\nFROM data_nerd_jobs\nWHERE salary_year IS NOT NULL OR salary_hour IS NOT NULL\n\"\"\"\ndf_salary = pd.read_sql(query, engine)\n\n# Descriptive statistics\ndesc_stats = df_salary.describe()\n\n# Histograms\nplt.figure(figsize=(12, 6))\nplt.subplot(1, 2, 1)\nsns.histplot(df_salary['salary_year'], kde=True, color='Blues_r')\nplt.title('Histogram of Yearly Salary')\nplt.xlabel('Yearly Salary')\n\nplt.subplot(1, 2, 2)\nsns.histplot(df_salary['salary_hour'], kde=True, color='Blues_r')\nplt.title('Histogram of Hourly Salary')\nplt.xlabel('Hourly Salary')\nplt.tight_layout()\nplt.show()\n\n# Display descriptive statistics\ndesc_stats",
      "outputs": []
    },
    {
      "id": "b91bd0d1-2e82-4eca-990f-49f8c47fa4ca",
      "cell_type": "code",
      "metadata": {
        "noteable": {
          "assign_results_to": "sql_df_fykh",
          "cell_type": "sql",
          "db_connection": "@81bbd42db3724191a3fc03e3b17e2d77",
          "output_collection_id": "af9c0bf3-f282-4f7e-bd7b-4f37a4d18d06"
        },
        "ExecuteTime": {
          "end_time": "2023-12-13T13:58:13.189780+00:00",
          "start_time": "2023-12-13T13:58:11.607239+00:00"
        },
        "datalink": {
          "ebf91451-2186-416f-9e79-983847b2082f": {
            "applied_filters": [],
            "dataframe_info": {
              "default_index_used": false,
              "orig_num_cols": 45,
              "orig_num_rows": 0,
              "orig_size_bytes": 0,
              "truncated_num_cols": 45,
              "truncated_num_rows": 0,
              "truncated_size_bytes": 0,
              "truncated_string_columns": []
            },
            "display_id": "ebf91451-2186-416f-9e79-983847b2082f",
            "dx_settings": {
              "ALLOW_NOTEABLE_ATTRS": true,
              "COLUMN_SAMPLING_METHOD": "outer",
              "DB_LOCATION": ":memory:",
              "DEV_MODE": false,
              "DISPLAY_MAX_COLUMNS": 100,
              "DISPLAY_MAX_ROWS": 50000,
              "DISPLAY_MODE": "simple",
              "ENABLE_ASSIGNMENT": true,
              "ENABLE_DATALINK": true,
              "FLATTEN_COLUMN_VALUES": true,
              "FLATTEN_INDEX_VALUES": false,
              "GENERATE_DEX_METADATA": false,
              "HTML_TABLE_SCHEMA": false,
              "LOG_LEVEL": 30,
              "MAX_RENDER_SIZE_BYTES": 104857600,
              "MAX_STRING_LENGTH": 250,
              "NUM_PAST_SAMPLES_TRACKED": 3,
              "RANDOM_STATE": 12648430,
              "RESET_INDEX_VALUES": false,
              "ROW_SAMPLING_METHOD": "random",
              "SAMPLING_FACTOR": 0.1,
              "SAMPLING_METHOD": "random",
              "STRINGIFY_COLUMN_VALUES": true,
              "STRINGIFY_INDEX_VALUES": false
            },
            "sample_history": [],
            "sampling_time": "2023-12-13T13:58:13.024903",
            "user_variable_name": "sql_df_tcaj",
            "variable_name": "sql_df_tcaj"
          }
        }
      },
      "execution_count": null,
      "source": "SELECT *\nFROM public_job_listings.data_nerd_jobs\nLIMIT 0;",
      "outputs": []
    },
    {
      "id": "34388bb3-9539-4986-8840-978d01f4b74e",
      "cell_type": "markdown",
      "source": "## EDA on Salary Columns\nPerforming Exploratory Data Analysis on 'salary_year' and 'salary_hour' columns, including descriptive statistics and histograms.",
      "metadata": {
        "noteable": {
          "cell_type": "markdown"
        }
      }
    },
    {
      "id": "b9e1cb99-acec-4246-9888-e508d5de8122",
      "cell_type": "code",
      "metadata": {
        "noteable": {
          "cell_type": "code",
          "output_collection_id": "277c6acc-2edb-47f6-b73f-240bb8c38df3"
        },
        "ExecuteTime": {
          "end_time": "2023-12-13T14:02:27.669009+00:00",
          "start_time": "2023-12-13T14:02:27.443730+00:00"
        }
      },
      "execution_count": null,
      "source": "import pandas as pd\nimport seaborn as sns\nimport matplotlib.pyplot as plt\nfrom sqlalchemy import create_engine\n\n# Establishing a connection to the database\nengine = create_engine('bigquery://Data Jobs')\n\n# Load the data\nquery = \"\"\"\nSELECT salary_year, salary_hour\nFROM public_job_listings.data_nerd_jobs\n\"\"\"\ndf_salary = pd.read_sql(query, engine)\n\n# Descriptive statistics\ndesc_stats = df_salary.describe()\n\n# Histograms for salary_year\nplt.figure(figsize=(12, 6))\nplt.subplot(1, 2, 1)\nsns.histplot(df_salary['salary_year'].dropna(), kde=True, color='Blues_r')\nplt.title('Histogram of Yearly Salary')\nplt.xlabel('Yearly Salary')\n\n# Histograms for salary_hour\nplt.subplot(1, 2, 2)\nsns.histplot(df_salary['salary_hour'].dropna(), kde=True, color='Blues_r')\nplt.title('Histogram of Hourly Salary')\nplt.xlabel('Hourly Salary')\nplt.tight_layout()\nplt.show()\n\n# Display descriptive statistics\ndesc_stats",
      "outputs": []
    },
    {
      "id": "a52a9414-6027-4b4d-81d8-b51f10fe9e95",
      "cell_type": "code",
      "metadata": {
        "noteable": {
          "assign_results_to": "sql_df_nmzv",
          "cell_type": "sql",
          "db_connection": "@81bbd42db3724191a3fc03e3b17e2d77",
          "output_collection_id": "15b5dc03-aaf8-48c3-8802-d27b251e8b3f"
        },
        "ExecuteTime": {
          "end_time": "2023-12-13T14:08:15.972624+00:00",
          "start_time": "2023-12-13T14:08:13.177184+00:00"
        },
        "datalink": {
          "fff8233e-2450-41f3-a3b1-b2ad66fb08df": {
            "applied_filters": [],
            "dataframe_info": {
              "default_index_used": true,
              "orig_num_cols": 45,
              "orig_num_rows": 100,
              "orig_size_bytes": 36800,
              "truncated_num_cols": 45,
              "truncated_num_rows": 100,
              "truncated_size_bytes": 36800,
              "truncated_string_columns": [
                "job_id",
                "job_description",
                "job_highlights_qualifications",
                "job_highlights_responsibilities",
                "job_highlights_benefits",
                "keywords_all"
              ]
            },
            "display_id": "fff8233e-2450-41f3-a3b1-b2ad66fb08df",
            "dx_settings": {
              "ALLOW_NOTEABLE_ATTRS": true,
              "COLUMN_SAMPLING_METHOD": "outer",
              "DB_LOCATION": ":memory:",
              "DEV_MODE": false,
              "DISPLAY_MAX_COLUMNS": 100,
              "DISPLAY_MAX_ROWS": 50000,
              "DISPLAY_MODE": "simple",
              "ENABLE_ASSIGNMENT": true,
              "ENABLE_DATALINK": true,
              "FLATTEN_COLUMN_VALUES": true,
              "FLATTEN_INDEX_VALUES": false,
              "GENERATE_DEX_METADATA": false,
              "HTML_TABLE_SCHEMA": false,
              "LOG_LEVEL": 30,
              "MAX_RENDER_SIZE_BYTES": 104857600,
              "MAX_STRING_LENGTH": 250,
              "NUM_PAST_SAMPLES_TRACKED": 3,
              "RANDOM_STATE": 12648430,
              "RESET_INDEX_VALUES": false,
              "ROW_SAMPLING_METHOD": "random",
              "SAMPLING_FACTOR": 0.1,
              "SAMPLING_METHOD": "random",
              "STRINGIFY_COLUMN_VALUES": true,
              "STRINGIFY_INDEX_VALUES": false
            },
            "sample_history": [],
            "sampling_time": "2023-12-13T14:08:15.796798",
            "user_variable_name": "sql_df_nmzv",
            "variable_name": "sql_df_nmzv"
          }
        }
      },
      "execution_count": null,
      "source": "SELECT *\nFROM public_job_listings.data_nerd_jobs\nLIMIT 100;",
      "outputs": []
    },
    {
      "id": "bb59fef3-aa70-4715-a0cf-5c391fb6fe45",
      "cell_type": "markdown",
      "source": "## EDA on Salary Columns\nPerforming Exploratory Data Analysis on 'salary_year' and 'salary_hour' columns, including descriptive statistics and histograms.",
      "metadata": {
        "noteable": {
          "cell_type": "markdown"
        }
      }
    },
    {
      "id": "324ef476-386f-489b-a16e-4abd345d753c",
      "cell_type": "code",
      "metadata": {
        "noteable": {
          "cell_type": "code"
        }
      },
      "execution_count": null,
      "source": "import pandas as pd\nimport seaborn as sns\nimport matplotlib.pyplot as plt\n\n# Extracting salary columns\nsalary_data = sql_df_nmzv[['salary_year', 'salary_hour']]\n\n# Descriptive statistics\ndesc_stats = salary_data.describe()\n\n# Histograms\nplt.figure(figsize=(12, 6))\nplt.subplot(1, 2, 1)\nsns.histplot(salary_data['salary_year'].dropna(), kde=True, color='Blues_r')\nplt.title('Histogram of Yearly Salary')\nplt.xlabel('Yearly Salary')\n\nplt.subplot(1, 2, 2)\nsns.histplot(salary_data['salary_hour'].dropna(), kde=True, color='Blues_r')\nplt.title('Histogram of Hourly Salary')\nplt.xlabel('Hourly Salary')\nplt.tight_layout()\nplt.show()\n\n# Display descriptive statistics\ndesc_stats",
      "outputs": []
    },
    {
      "id": "a60d5dad-2130-4485-8aa2-00efd3441c74",
      "cell_type": "markdown",
      "source": "## EDA on Salary Columns\nPerforming Exploratory Data Analysis on 'salary_year' and 'salary_hour' columns, including descriptive statistics and histograms.",
      "metadata": {
        "noteable": {
          "cell_type": "markdown"
        }
      }
    },
    {
      "id": "eb9e64dd-5e22-49c8-81a0-baee6a757c0d",
      "cell_type": "code",
      "metadata": {
        "noteable": {
          "cell_type": "code",
          "output_collection_id": "02541cd8-cc2e-4c04-a319-721de80909d3"
        },
        "ExecuteTime": {
          "end_time": "2023-12-13T14:11:53.240746+00:00",
          "start_time": "2023-12-13T14:11:53.018417+00:00"
        }
      },
      "execution_count": null,
      "source": "import pandas as pd\nimport seaborn as sns\nimport matplotlib.pyplot as plt\nfrom sqlalchemy import create_engine\n\n# Establishing a connection to the database\nengine = create_engine('bigquery://Data Jobs')\n\n# Load the data\nquery = \"\"\"\nSELECT salary_year, salary_hour\nFROM public_job_listings.data_nerd_jobs\n\"\"\"\ndf_salary = pd.read_sql(query, engine)\n\n# Descriptive statistics\ndesc_stats = df_salary.describe()\n\n# Histograms for salary_year\nplt.figure(figsize=(12, 6))\nplt.subplot(1, 2, 1)\nsns.histplot(df_salary['salary_year'].dropna(), kde=True, color='Blues_r')\nplt.title('Histogram of Yearly Salary')\nplt.xlabel('Yearly Salary')\n\n# Histograms for salary_hour\nplt.subplot(1, 2, 2)\nsns.histplot(df_salary['salary_hour'].dropna(), kde=True, color='Blues_r')\nplt.title('Histogram of Hourly Salary')\nplt.xlabel('Hourly Salary')\nplt.tight_layout()\nplt.show()\n\n# Display descriptive statistics\ndesc_stats",
      "outputs": []
    }
  ]
}