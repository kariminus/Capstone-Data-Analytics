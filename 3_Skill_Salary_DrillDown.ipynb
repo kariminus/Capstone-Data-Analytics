{
  "nbformat": 4,
  "nbformat_minor": 5,
  "metadata": {
    "noteable-chatgpt": {
      "create_notebook": {
        "openai_conversation_id": "b8c660a9-3cfc-5729-b43d-ca288118fc61",
        "openai_ephemeral_user_id": "600d468a-95bd-5429-9594-324b8b86d60a",
        "openai_subdivision1_iso_code": "FR-ARA"
      }
    },
    "kernel_info": {
      "name": "python3"
    },
    "kernelspec": {
      "display_name": "Python 3.9",
      "identifier": "legacy",
      "language": "python",
      "language_version": "3.9",
      "name": "python3"
    },
    "selected_hardware_size": "small"
  },
  "cells": [
    {
      "id": "189687ab-e5ff-4a09-b493-9844c3b1c46d",
      "cell_type": "code",
      "metadata": {
        "jupyter": {
          "outputs_hidden": false,
          "source_hidden": false
        },
        "noteable": {
          "cell_type": "code"
        }
      },
      "execution_count": null,
      "source": "",
      "outputs": []
    },
    {
      "id": "38b04a5c-931d-4c65-8328-9ef9f458a168",
      "cell_type": "code",
      "metadata": {
        "noteable": {
          "assign_results_to": "sql_df_nvnx",
          "cell_type": "sql",
          "db_connection": "@81bbd42db3724191a3fc03e3b17e2d77",
          "output_collection_id": "ddbdd29d-9092-40cf-9896-13f07231969d"
        },
        "ExecuteTime": {
          "end_time": "2023-12-15T08:28:55.646004+00:00",
          "start_time": "2023-12-15T08:28:53.763026+00:00"
        },
        "datalink": {
          "1757af41-fc4e-4a1e-ac87-e2f23e70cbd0": {
            "applied_filters": [],
            "dataframe_info": {
              "default_index_used": true,
              "orig_num_cols": 3,
              "orig_num_rows": 1,
              "orig_size_bytes": 32,
              "truncated_num_cols": 3,
              "truncated_num_rows": 1,
              "truncated_size_bytes": 32,
              "truncated_string_columns": []
            },
            "display_id": "1757af41-fc4e-4a1e-ac87-e2f23e70cbd0",
            "dx_settings": {
              "ALLOW_NOTEABLE_ATTRS": true,
              "COLUMN_SAMPLING_METHOD": "outer",
              "DB_LOCATION": ":memory:",
              "DEV_MODE": false,
              "DISPLAY_MAX_COLUMNS": 100,
              "DISPLAY_MAX_ROWS": 50000,
              "DISPLAY_MODE": "simple",
              "ENABLE_ASSIGNMENT": true,
              "ENABLE_DATALINK": true,
              "FLATTEN_COLUMN_VALUES": true,
              "FLATTEN_INDEX_VALUES": false,
              "GENERATE_DEX_METADATA": false,
              "HTML_TABLE_SCHEMA": false,
              "LOG_LEVEL": 30,
              "MAX_RENDER_SIZE_BYTES": 104857600,
              "MAX_STRING_LENGTH": 250,
              "NUM_PAST_SAMPLES_TRACKED": 3,
              "RANDOM_STATE": 12648430,
              "RESET_INDEX_VALUES": false,
              "ROW_SAMPLING_METHOD": "random",
              "SAMPLING_FACTOR": 0.1,
              "SAMPLING_METHOD": "random",
              "STRINGIFY_COLUMN_VALUES": true,
              "STRINGIFY_INDEX_VALUES": false
            },
            "sample_history": [],
            "sampling_time": "2023-12-15T08:28:55.483810",
            "user_variable_name": null,
            "variable_name": "unk_dataframe_3b7737f9f97740038fe39a0870105b97"
          }
        }
      },
      "execution_count": null,
      "source": "\\list",
      "outputs": []
    },
    {
      "id": "4cbe5b61-41db-4885-a8f6-6024b9f9c13a",
      "cell_type": "markdown",
      "source": "## Exploring 'keywords_all' Column\nA brief exploration of the 'keywords_all' column in the 'data_nerd_jobs' table, focusing on the structure and content of the data.",
      "metadata": {
        "noteable": {
          "cell_type": "markdown"
        }
      }
    },
    {
      "id": "266e9b06-827a-4ad6-b27b-3978db50fb6e",
      "cell_type": "code",
      "metadata": {
        "noteable": {
          "assign_results_to": "sql_df_nfkb",
          "cell_type": "sql",
          "db_connection": "@81bbd42db3724191a3fc03e3b17e2d77",
          "output_collection_id": "c106e52a-3d48-45c4-90ad-9846088611fa"
        },
        "ExecuteTime": {
          "end_time": "2023-12-15T08:37:01.247002+00:00",
          "start_time": "2023-12-15T08:36:12.387521+00:00"
        },
        "datalink": {
          "6c9dac8c-82a3-49f7-9ece-513fb582dbd7": {
            "applied_filters": [],
            "dataframe_info": {
              "default_index_used": true,
              "orig_num_cols": 1,
              "orig_num_rows": 100,
              "orig_size_bytes": 1600,
              "truncated_num_cols": 1,
              "truncated_num_rows": 100,
              "truncated_size_bytes": 1600,
              "truncated_string_columns": [
                "keywords_all"
              ]
            },
            "display_id": "6c9dac8c-82a3-49f7-9ece-513fb582dbd7",
            "dx_settings": {
              "ALLOW_NOTEABLE_ATTRS": true,
              "COLUMN_SAMPLING_METHOD": "outer",
              "DB_LOCATION": ":memory:",
              "DEV_MODE": false,
              "DISPLAY_MAX_COLUMNS": 100,
              "DISPLAY_MAX_ROWS": 50000,
              "DISPLAY_MODE": "simple",
              "ENABLE_ASSIGNMENT": true,
              "ENABLE_DATALINK": true,
              "FLATTEN_COLUMN_VALUES": true,
              "FLATTEN_INDEX_VALUES": false,
              "GENERATE_DEX_METADATA": false,
              "HTML_TABLE_SCHEMA": false,
              "LOG_LEVEL": 30,
              "MAX_RENDER_SIZE_BYTES": 104857600,
              "MAX_STRING_LENGTH": 250,
              "NUM_PAST_SAMPLES_TRACKED": 3,
              "RANDOM_STATE": 12648430,
              "RESET_INDEX_VALUES": false,
              "ROW_SAMPLING_METHOD": "random",
              "SAMPLING_FACTOR": 0.1,
              "SAMPLING_METHOD": "random",
              "STRINGIFY_COLUMN_VALUES": true,
              "STRINGIFY_INDEX_VALUES": false
            },
            "sample_history": [],
            "sampling_time": "2023-12-15T08:34:54.644099",
            "user_variable_name": "sql_df_nfkb",
            "variable_name": "sql_df_nfkb"
          },
          "1dae2698-1ac3-49c0-bb8a-2e08bc0e398a": {
            "applied_filters": [],
            "dataframe_info": {
              "default_index_used": true,
              "orig_num_cols": 1,
              "orig_num_rows": 982629,
              "orig_size_bytes": 15722064,
              "truncated_num_cols": 1,
              "truncated_num_rows": 50000,
              "truncated_size_bytes": 800000,
              "truncated_string_columns": [
                "keywords_all"
              ]
            },
            "display_id": "1dae2698-1ac3-49c0-bb8a-2e08bc0e398a",
            "dx_settings": {
              "ALLOW_NOTEABLE_ATTRS": true,
              "COLUMN_SAMPLING_METHOD": "outer",
              "DB_LOCATION": ":memory:",
              "DEV_MODE": false,
              "DISPLAY_MAX_COLUMNS": 100,
              "DISPLAY_MAX_ROWS": 50000,
              "DISPLAY_MODE": "simple",
              "ENABLE_ASSIGNMENT": true,
              "ENABLE_DATALINK": true,
              "FLATTEN_COLUMN_VALUES": true,
              "FLATTEN_INDEX_VALUES": false,
              "GENERATE_DEX_METADATA": false,
              "HTML_TABLE_SCHEMA": false,
              "LOG_LEVEL": 30,
              "MAX_RENDER_SIZE_BYTES": 104857600,
              "MAX_STRING_LENGTH": 250,
              "NUM_PAST_SAMPLES_TRACKED": 3,
              "RANDOM_STATE": 12648430,
              "RESET_INDEX_VALUES": false,
              "ROW_SAMPLING_METHOD": "random",
              "SAMPLING_FACTOR": 0.1,
              "SAMPLING_METHOD": "random",
              "STRINGIFY_COLUMN_VALUES": true,
              "STRINGIFY_INDEX_VALUES": false
            },
            "sample_history": [],
            "sampling_time": "2023-12-15T08:37:00.944769",
            "user_variable_name": "sql_df_nfkb",
            "variable_name": "sql_df_nfkb"
          }
        }
      },
      "execution_count": null,
      "source": "SELECT keywords_all FROM public_job_listings.data_nerd_jobs;",
      "outputs": []
    },
    {
      "id": "b023e8f2-28ff-409d-aaa9-8c15acf23417",
      "cell_type": "markdown",
      "source": "## Unpacking JSON Objects in 'keywords_all'\nExtracting job skills from the JSON objects in the 'keywords_all' column of the 'data_nerd_jobs' table.",
      "metadata": {
        "noteable": {
          "cell_type": "markdown"
        }
      }
    },
    {
      "id": "e64ff1b6-6809-4ec4-a207-9374a8f91437",
      "cell_type": "code",
      "metadata": {
        "noteable": {
          "assign_results_to": "sql_df_lvui",
          "cell_type": "sql",
          "db_connection": "@81bbd42db3724191a3fc03e3b17e2d77",
          "output_collection_id": "6dc4d574-dbca-47a2-af6c-b56dbd863113"
        },
        "ExecuteTime": {
          "end_time": "2023-12-15T08:48:14.860667+00:00",
          "start_time": "2023-12-15T08:48:09.611901+00:00"
        },
        "datalink": {
          "861cfb72-7d4f-4ec2-883d-1fa9a271981b": {
            "applied_filters": [],
            "dataframe_info": {
              "default_index_used": true,
              "orig_num_cols": 1,
              "orig_num_rows": 100,
              "orig_size_bytes": 1600,
              "truncated_num_cols": 1,
              "truncated_num_rows": 100,
              "truncated_size_bytes": 1600,
              "truncated_string_columns": []
            },
            "display_id": "861cfb72-7d4f-4ec2-883d-1fa9a271981b",
            "dx_settings": {
              "ALLOW_NOTEABLE_ATTRS": true,
              "COLUMN_SAMPLING_METHOD": "outer",
              "DB_LOCATION": ":memory:",
              "DEV_MODE": false,
              "DISPLAY_MAX_COLUMNS": 100,
              "DISPLAY_MAX_ROWS": 50000,
              "DISPLAY_MODE": "simple",
              "ENABLE_ASSIGNMENT": true,
              "ENABLE_DATALINK": true,
              "FLATTEN_COLUMN_VALUES": true,
              "FLATTEN_INDEX_VALUES": false,
              "GENERATE_DEX_METADATA": false,
              "HTML_TABLE_SCHEMA": false,
              "LOG_LEVEL": 30,
              "MAX_RENDER_SIZE_BYTES": 104857600,
              "MAX_STRING_LENGTH": 250,
              "NUM_PAST_SAMPLES_TRACKED": 3,
              "RANDOM_STATE": 12648430,
              "RESET_INDEX_VALUES": false,
              "ROW_SAMPLING_METHOD": "random",
              "SAMPLING_FACTOR": 0.1,
              "SAMPLING_METHOD": "random",
              "STRINGIFY_COLUMN_VALUES": true,
              "STRINGIFY_INDEX_VALUES": false
            },
            "sample_history": [],
            "sampling_time": "2023-12-15T08:48:14.702078",
            "user_variable_name": "sql_df_grjl",
            "variable_name": "sql_df_grjl"
          }
        }
      },
      "execution_count": null,
      "source": "SELECT\n  keyword.element\nFROM\n  public_job_listings.data_nerd_jobs,\n  UNNEST(keywords_all.list) AS keyword\nLIMIT 100;",
      "outputs": []
    },
    {
      "id": "a0f09747-066f-44ec-be3d-2b421bd668cf",
      "cell_type": "markdown",
      "source": "## Median Salary for Top 10 Skills\nCalculating the median salary for the top 10 skills listed in the 'keywords_all' column, using the 'salary_year' column from the 'data_nerd_jobs' table.",
      "metadata": {
        "noteable": {
          "cell_type": "markdown"
        }
      }
    },
    {
      "id": "66175090-2ec0-4ed9-8620-9d087ca00f2e",
      "cell_type": "code",
      "metadata": {
        "noteable": {
          "assign_results_to": "sql_df_vbdm",
          "cell_type": "sql",
          "db_connection": "@81bbd42db3724191a3fc03e3b17e2d77",
          "output_collection_id": "9e8914dd-766c-4144-99c6-124b0fbdfccd"
        },
        "ExecuteTime": {
          "end_time": "2023-12-15T09:01:43.593016+00:00",
          "start_time": "2023-12-15T09:01:43.107474+00:00"
        },
        "datalink": {
          "dc447f9d-f3c1-4901-bb87-9de55fe2efb2": {
            "applied_filters": [],
            "dataframe_info": {
              "default_index_used": true,
              "orig_num_cols": 2,
              "orig_num_rows": 10,
              "orig_size_bytes": 240,
              "truncated_num_cols": 2,
              "truncated_num_rows": 10,
              "truncated_size_bytes": 240,
              "truncated_string_columns": []
            },
            "display_id": "dc447f9d-f3c1-4901-bb87-9de55fe2efb2",
            "dx_settings": {
              "ALLOW_NOTEABLE_ATTRS": true,
              "COLUMN_SAMPLING_METHOD": "outer",
              "DB_LOCATION": ":memory:",
              "DEV_MODE": false,
              "DISPLAY_MAX_COLUMNS": 100,
              "DISPLAY_MAX_ROWS": 50000,
              "DISPLAY_MODE": "simple",
              "ENABLE_ASSIGNMENT": true,
              "ENABLE_DATALINK": true,
              "FLATTEN_COLUMN_VALUES": true,
              "FLATTEN_INDEX_VALUES": false,
              "GENERATE_DEX_METADATA": false,
              "HTML_TABLE_SCHEMA": false,
              "LOG_LEVEL": 30,
              "MAX_RENDER_SIZE_BYTES": 104857600,
              "MAX_STRING_LENGTH": 250,
              "NUM_PAST_SAMPLES_TRACKED": 3,
              "RANDOM_STATE": 12648430,
              "RESET_INDEX_VALUES": false,
              "ROW_SAMPLING_METHOD": "random",
              "SAMPLING_FACTOR": 0.1,
              "SAMPLING_METHOD": "random",
              "STRINGIFY_COLUMN_VALUES": true,
              "STRINGIFY_INDEX_VALUES": false
            },
            "sample_history": [],
            "sampling_time": "2023-12-15T08:56:49.225034",
            "user_variable_name": "sql_df_vbdm",
            "variable_name": "sql_df_vbdm"
          }
        }
      },
      "execution_count": null,
      "source": "WITH SkillData AS (\n  SELECT\n    keyword.element AS skill,\n    salary_year\n  FROM\n    public_job_listings.data_nerd_jobs,\n    UNNEST(keywords_all.list) AS keyword\n),\nTopSkills AS (\n  SELECT\n    skill\n  FROM\n    SkillData\n  GROUP BY skill\n  ORDER BY COUNT(*) DESC\n  LIMIT 10\n)\nSELECT\n  ts.skill,\n  PERCENTILE_CONT(sd.salary_year, 0.5) WITHIN GROUP (ORDER BY sd.salary_year) AS median_salary\nFROM\n  TopSkills ts\nJOIN\n  SkillData sd ON sd.skill = ts.skill\nGROUP BY ts.skill;",
      "outputs": []
    },
    {
      "id": "d5cddd9c-6ce8-4947-a9bb-c8eb97f7e6f3",
      "cell_type": "markdown",
      "source": "## Median Salary for Top 10 Skills\nCalculating the median salary for the top 10 skills listed in the 'keywords_all' column using the 'salary_year' column.",
      "metadata": {
        "noteable": {
          "cell_type": "markdown"
        }
      }
    },
    {
      "id": "fb1d4af8-fa1b-473b-9f68-1b5ab52cf034",
      "cell_type": "code",
      "metadata": {
        "noteable": {
          "assign_results_to": "sql_df_ghfh",
          "cell_type": "sql",
          "db_connection": "@81bbd42db3724191a3fc03e3b17e2d77",
          "output_collection_id": "ab8dc2ed-b6d2-4ee6-8b73-30f85509db8d"
        },
        "ExecuteTime": null
      },
      "execution_count": null,
      "source": "WITH SkillData AS (\n  SELECT\n    keyword.element AS skill,\n    dj.salary_year\n  FROM\n    public_job_listings.data_nerd_jobs dj,\n    UNNEST(keywords_all.list) AS keyword\n),\nTopSkills AS (\n  SELECT\n    skill\n  FROM\n    SkillData\n  GROUP BY skill\n  ORDER BY COUNT(*) DESC\n  LIMIT 10\n)\nSELECT\n  ts.skill,\n  PERCENTILE_CONT(sd.salary_year, 0.5) OVER (PARTITION BY ts.skill) AS median_salary\nFROM\n  SkillData sd\nJOIN TopSkills ts ON sd.skill = ts.skill;",
      "outputs": []
    }
  ]
}