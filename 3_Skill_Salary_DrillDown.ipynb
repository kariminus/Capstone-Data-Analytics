{
  "nbformat": 4,
  "nbformat_minor": 5,
  "metadata": {
    "noteable-chatgpt": {
      "create_notebook": {
        "openai_conversation_id": "b8c660a9-3cfc-5729-b43d-ca288118fc61",
        "openai_ephemeral_user_id": "600d468a-95bd-5429-9594-324b8b86d60a",
        "openai_subdivision1_iso_code": "FR-ARA"
      }
    },
    "kernel_info": {
      "name": "python3"
    },
    "kernelspec": {
      "display_name": "Python 3.9",
      "identifier": "legacy",
      "language": "python",
      "language_version": "3.9",
      "name": "python3"
    },
    "selected_hardware_size": "small"
  },
  "cells": [
    {
      "id": "189687ab-e5ff-4a09-b493-9844c3b1c46d",
      "cell_type": "code",
      "metadata": {
        "jupyter": {
          "outputs_hidden": false,
          "source_hidden": false
        },
        "noteable": {
          "cell_type": "code"
        }
      },
      "execution_count": null,
      "source": "",
      "outputs": []
    },
    {
      "id": "38b04a5c-931d-4c65-8328-9ef9f458a168",
      "cell_type": "code",
      "metadata": {
        "noteable": {
          "assign_results_to": "sql_df_nvnx",
          "cell_type": "sql",
          "db_connection": "@81bbd42db3724191a3fc03e3b17e2d77",
          "output_collection_id": "ddbdd29d-9092-40cf-9896-13f07231969d"
        },
        "ExecuteTime": {
          "end_time": "2023-12-15T08:28:55.646004+00:00",
          "start_time": "2023-12-15T08:28:53.763026+00:00"
        },
        "datalink": {
          "1757af41-fc4e-4a1e-ac87-e2f23e70cbd0": {
            "applied_filters": [],
            "dataframe_info": {
              "default_index_used": true,
              "orig_num_cols": 3,
              "orig_num_rows": 1,
              "orig_size_bytes": 32,
              "truncated_num_cols": 3,
              "truncated_num_rows": 1,
              "truncated_size_bytes": 32,
              "truncated_string_columns": []
            },
            "display_id": "1757af41-fc4e-4a1e-ac87-e2f23e70cbd0",
            "dx_settings": {
              "ALLOW_NOTEABLE_ATTRS": true,
              "COLUMN_SAMPLING_METHOD": "outer",
              "DB_LOCATION": ":memory:",
              "DEV_MODE": false,
              "DISPLAY_MAX_COLUMNS": 100,
              "DISPLAY_MAX_ROWS": 50000,
              "DISPLAY_MODE": "simple",
              "ENABLE_ASSIGNMENT": true,
              "ENABLE_DATALINK": true,
              "FLATTEN_COLUMN_VALUES": true,
              "FLATTEN_INDEX_VALUES": false,
              "GENERATE_DEX_METADATA": false,
              "HTML_TABLE_SCHEMA": false,
              "LOG_LEVEL": 30,
              "MAX_RENDER_SIZE_BYTES": 104857600,
              "MAX_STRING_LENGTH": 250,
              "NUM_PAST_SAMPLES_TRACKED": 3,
              "RANDOM_STATE": 12648430,
              "RESET_INDEX_VALUES": false,
              "ROW_SAMPLING_METHOD": "random",
              "SAMPLING_FACTOR": 0.1,
              "SAMPLING_METHOD": "random",
              "STRINGIFY_COLUMN_VALUES": true,
              "STRINGIFY_INDEX_VALUES": false
            },
            "sample_history": [],
            "sampling_time": "2023-12-15T08:28:55.483810",
            "user_variable_name": null,
            "variable_name": "unk_dataframe_3b7737f9f97740038fe39a0870105b97"
          }
        }
      },
      "execution_count": null,
      "source": "\\list",
      "outputs": []
    },
    {
      "id": "4cbe5b61-41db-4885-a8f6-6024b9f9c13a",
      "cell_type": "markdown",
      "source": "## Exploring 'keywords_all' Column\nA brief exploration of the 'keywords_all' column in the 'data_nerd_jobs' table, focusing on the structure and content of the data.",
      "metadata": {
        "noteable": {
          "cell_type": "markdown"
        }
      }
    },
    {
      "id": "266e9b06-827a-4ad6-b27b-3978db50fb6e",
      "cell_type": "code",
      "metadata": {
        "noteable": {
          "assign_results_to": "sql_df_nfkb",
          "cell_type": "sql",
          "db_connection": "@81bbd42db3724191a3fc03e3b17e2d77",
          "output_collection_id": "c106e52a-3d48-45c4-90ad-9846088611fa"
        },
        "ExecuteTime": {
          "end_time": "2023-12-15T08:37:01.247002+00:00",
          "start_time": "2023-12-15T08:36:12.387521+00:00"
        },
        "datalink": {
          "6c9dac8c-82a3-49f7-9ece-513fb582dbd7": {
            "applied_filters": [],
            "dataframe_info": {
              "default_index_used": true,
              "orig_num_cols": 1,
              "orig_num_rows": 100,
              "orig_size_bytes": 1600,
              "truncated_num_cols": 1,
              "truncated_num_rows": 100,
              "truncated_size_bytes": 1600,
              "truncated_string_columns": [
                "keywords_all"
              ]
            },
            "display_id": "6c9dac8c-82a3-49f7-9ece-513fb582dbd7",
            "dx_settings": {
              "ALLOW_NOTEABLE_ATTRS": true,
              "COLUMN_SAMPLING_METHOD": "outer",
              "DB_LOCATION": ":memory:",
              "DEV_MODE": false,
              "DISPLAY_MAX_COLUMNS": 100,
              "DISPLAY_MAX_ROWS": 50000,
              "DISPLAY_MODE": "simple",
              "ENABLE_ASSIGNMENT": true,
              "ENABLE_DATALINK": true,
              "FLATTEN_COLUMN_VALUES": true,
              "FLATTEN_INDEX_VALUES": false,
              "GENERATE_DEX_METADATA": false,
              "HTML_TABLE_SCHEMA": false,
              "LOG_LEVEL": 30,
              "MAX_RENDER_SIZE_BYTES": 104857600,
              "MAX_STRING_LENGTH": 250,
              "NUM_PAST_SAMPLES_TRACKED": 3,
              "RANDOM_STATE": 12648430,
              "RESET_INDEX_VALUES": false,
              "ROW_SAMPLING_METHOD": "random",
              "SAMPLING_FACTOR": 0.1,
              "SAMPLING_METHOD": "random",
              "STRINGIFY_COLUMN_VALUES": true,
              "STRINGIFY_INDEX_VALUES": false
            },
            "sample_history": [],
            "sampling_time": "2023-12-15T08:34:54.644099",
            "user_variable_name": "sql_df_nfkb",
            "variable_name": "sql_df_nfkb"
          },
          "1dae2698-1ac3-49c0-bb8a-2e08bc0e398a": {
            "applied_filters": [],
            "dataframe_info": {
              "default_index_used": true,
              "orig_num_cols": 1,
              "orig_num_rows": 982629,
              "orig_size_bytes": 15722064,
              "truncated_num_cols": 1,
              "truncated_num_rows": 50000,
              "truncated_size_bytes": 800000,
              "truncated_string_columns": [
                "keywords_all"
              ]
            },
            "display_id": "1dae2698-1ac3-49c0-bb8a-2e08bc0e398a",
            "dx_settings": {
              "ALLOW_NOTEABLE_ATTRS": true,
              "COLUMN_SAMPLING_METHOD": "outer",
              "DB_LOCATION": ":memory:",
              "DEV_MODE": false,
              "DISPLAY_MAX_COLUMNS": 100,
              "DISPLAY_MAX_ROWS": 50000,
              "DISPLAY_MODE": "simple",
              "ENABLE_ASSIGNMENT": true,
              "ENABLE_DATALINK": true,
              "FLATTEN_COLUMN_VALUES": true,
              "FLATTEN_INDEX_VALUES": false,
              "GENERATE_DEX_METADATA": false,
              "HTML_TABLE_SCHEMA": false,
              "LOG_LEVEL": 30,
              "MAX_RENDER_SIZE_BYTES": 104857600,
              "MAX_STRING_LENGTH": 250,
              "NUM_PAST_SAMPLES_TRACKED": 3,
              "RANDOM_STATE": 12648430,
              "RESET_INDEX_VALUES": false,
              "ROW_SAMPLING_METHOD": "random",
              "SAMPLING_FACTOR": 0.1,
              "SAMPLING_METHOD": "random",
              "STRINGIFY_COLUMN_VALUES": true,
              "STRINGIFY_INDEX_VALUES": false
            },
            "sample_history": [],
            "sampling_time": "2023-12-15T08:37:00.944769",
            "user_variable_name": "sql_df_nfkb",
            "variable_name": "sql_df_nfkb"
          }
        }
      },
      "execution_count": null,
      "source": "SELECT keywords_all FROM public_job_listings.data_nerd_jobs;",
      "outputs": []
    },
    {
      "id": "b023e8f2-28ff-409d-aaa9-8c15acf23417",
      "cell_type": "markdown",
      "source": "## Unpacking JSON Objects in 'keywords_all'\nExtracting job skills from the JSON objects in the 'keywords_all' column of the 'data_nerd_jobs' table.",
      "metadata": {
        "noteable": {
          "cell_type": "markdown"
        }
      }
    },
    {
      "id": "e64ff1b6-6809-4ec4-a207-9374a8f91437",
      "cell_type": "code",
      "metadata": {
        "noteable": {
          "assign_results_to": "sql_df_lvui",
          "cell_type": "sql",
          "db_connection": "@81bbd42db3724191a3fc03e3b17e2d77",
          "output_collection_id": "6dc4d574-dbca-47a2-af6c-b56dbd863113"
        },
        "ExecuteTime": {
          "end_time": "2023-12-15T08:48:14.860667+00:00",
          "start_time": "2023-12-15T08:48:09.611901+00:00"
        },
        "datalink": {
          "861cfb72-7d4f-4ec2-883d-1fa9a271981b": {
            "applied_filters": [],
            "dataframe_info": {
              "default_index_used": true,
              "orig_num_cols": 1,
              "orig_num_rows": 100,
              "orig_size_bytes": 1600,
              "truncated_num_cols": 1,
              "truncated_num_rows": 100,
              "truncated_size_bytes": 1600,
              "truncated_string_columns": []
            },
            "display_id": "861cfb72-7d4f-4ec2-883d-1fa9a271981b",
            "dx_settings": {
              "ALLOW_NOTEABLE_ATTRS": true,
              "COLUMN_SAMPLING_METHOD": "outer",
              "DB_LOCATION": ":memory:",
              "DEV_MODE": false,
              "DISPLAY_MAX_COLUMNS": 100,
              "DISPLAY_MAX_ROWS": 50000,
              "DISPLAY_MODE": "simple",
              "ENABLE_ASSIGNMENT": true,
              "ENABLE_DATALINK": true,
              "FLATTEN_COLUMN_VALUES": true,
              "FLATTEN_INDEX_VALUES": false,
              "GENERATE_DEX_METADATA": false,
              "HTML_TABLE_SCHEMA": false,
              "LOG_LEVEL": 30,
              "MAX_RENDER_SIZE_BYTES": 104857600,
              "MAX_STRING_LENGTH": 250,
              "NUM_PAST_SAMPLES_TRACKED": 3,
              "RANDOM_STATE": 12648430,
              "RESET_INDEX_VALUES": false,
              "ROW_SAMPLING_METHOD": "random",
              "SAMPLING_FACTOR": 0.1,
              "SAMPLING_METHOD": "random",
              "STRINGIFY_COLUMN_VALUES": true,
              "STRINGIFY_INDEX_VALUES": false
            },
            "sample_history": [],
            "sampling_time": "2023-12-15T08:48:14.702078",
            "user_variable_name": "sql_df_grjl",
            "variable_name": "sql_df_grjl"
          }
        }
      },
      "execution_count": null,
      "source": "SELECT\n  keyword.element\nFROM\n  public_job_listings.data_nerd_jobs,\n  UNNEST(keywords_all.list) AS keyword\nLIMIT 100;",
      "outputs": []
    },
    {
      "id": "a0f09747-066f-44ec-be3d-2b421bd668cf",
      "cell_type": "markdown",
      "source": "## Median Salary for Top 10 Skills\nCalculating the median salary for the top 10 skills listed in the 'keywords_all' column, using the 'salary_year' column from the 'data_nerd_jobs' table.",
      "metadata": {
        "noteable": {
          "cell_type": "markdown"
        }
      }
    },
    {
      "id": "d5cddd9c-6ce8-4947-a9bb-c8eb97f7e6f3",
      "cell_type": "markdown",
      "source": "## Median Salary for Top 10 Skills\nCalculating the median salary for the top 10 skills listed in the 'keywords_all' column using the 'salary_year' column.",
      "metadata": {
        "noteable": {
          "cell_type": "markdown"
        }
      }
    },
    {
      "id": "fb1d4af8-fa1b-473b-9f68-1b5ab52cf034",
      "cell_type": "code",
      "metadata": {
        "noteable": {
          "assign_results_to": "sql_df_ghfh",
          "cell_type": "sql",
          "db_connection": "@81bbd42db3724191a3fc03e3b17e2d77",
          "output_collection_id": "1186918f-f1ef-4378-b8e2-a89458a1bde3"
        },
        "ExecuteTime": {
          "end_time": "2023-12-15T09:14:10.763164+00:00",
          "start_time": "2023-12-15T09:14:07.666457+00:00"
        },
        "datalink": {
          "6c2e33bf-eafe-447d-8e21-01beca685160": {
            "applied_filters": [],
            "dataframe_info": {
              "default_index_used": true,
              "orig_num_cols": 2,
              "orig_num_rows": 10,
              "orig_size_bytes": 240,
              "truncated_num_cols": 2,
              "truncated_num_rows": 10,
              "truncated_size_bytes": 240,
              "truncated_string_columns": []
            },
            "display_id": "6c2e33bf-eafe-447d-8e21-01beca685160",
            "dx_settings": {
              "ALLOW_NOTEABLE_ATTRS": true,
              "COLUMN_SAMPLING_METHOD": "outer",
              "DB_LOCATION": ":memory:",
              "DEV_MODE": false,
              "DISPLAY_MAX_COLUMNS": 100,
              "DISPLAY_MAX_ROWS": 50000,
              "DISPLAY_MODE": "simple",
              "ENABLE_ASSIGNMENT": true,
              "ENABLE_DATALINK": true,
              "FLATTEN_COLUMN_VALUES": true,
              "FLATTEN_INDEX_VALUES": false,
              "GENERATE_DEX_METADATA": false,
              "HTML_TABLE_SCHEMA": false,
              "LOG_LEVEL": 30,
              "MAX_RENDER_SIZE_BYTES": 104857600,
              "MAX_STRING_LENGTH": 250,
              "NUM_PAST_SAMPLES_TRACKED": 3,
              "RANDOM_STATE": 12648430,
              "RESET_INDEX_VALUES": false,
              "ROW_SAMPLING_METHOD": "random",
              "SAMPLING_FACTOR": 0.1,
              "SAMPLING_METHOD": "random",
              "STRINGIFY_COLUMN_VALUES": true,
              "STRINGIFY_INDEX_VALUES": false
            },
            "sample_history": [],
            "sampling_time": "2023-12-15T09:10:12.549267",
            "user_variable_name": "sql_df_ghfh",
            "variable_name": "sql_df_ghfh"
          },
          "9d555302-b274-44fb-992a-9c97ed6a4d1c": {
            "applied_filters": [],
            "dataframe_info": {
              "default_index_used": true,
              "orig_num_cols": 3,
              "orig_num_rows": 10,
              "orig_size_bytes": 320,
              "truncated_num_cols": 3,
              "truncated_num_rows": 10,
              "truncated_size_bytes": 320,
              "truncated_string_columns": []
            },
            "display_id": "9d555302-b274-44fb-992a-9c97ed6a4d1c",
            "dx_settings": {
              "ALLOW_NOTEABLE_ATTRS": true,
              "COLUMN_SAMPLING_METHOD": "outer",
              "DB_LOCATION": ":memory:",
              "DEV_MODE": false,
              "DISPLAY_MAX_COLUMNS": 100,
              "DISPLAY_MAX_ROWS": 50000,
              "DISPLAY_MODE": "simple",
              "ENABLE_ASSIGNMENT": true,
              "ENABLE_DATALINK": true,
              "FLATTEN_COLUMN_VALUES": true,
              "FLATTEN_INDEX_VALUES": false,
              "GENERATE_DEX_METADATA": false,
              "HTML_TABLE_SCHEMA": false,
              "LOG_LEVEL": 30,
              "MAX_RENDER_SIZE_BYTES": 104857600,
              "MAX_STRING_LENGTH": 250,
              "NUM_PAST_SAMPLES_TRACKED": 3,
              "RANDOM_STATE": 12648430,
              "RESET_INDEX_VALUES": false,
              "ROW_SAMPLING_METHOD": "random",
              "SAMPLING_FACTOR": 0.1,
              "SAMPLING_METHOD": "random",
              "STRINGIFY_COLUMN_VALUES": true,
              "STRINGIFY_INDEX_VALUES": false
            },
            "sample_history": [],
            "sampling_time": "2023-12-15T09:14:10.604095",
            "user_variable_name": "sql_df_ghfh",
            "variable_name": "sql_df_ghfh"
          }
        }
      },
      "execution_count": null,
      "source": "WITH TopSkills AS (\n  SELECT\n    keyword.element AS skill,\n    COUNT(*) AS count\n  FROM\n    public_job_listings.data_nerd_jobs,\n    UNNEST(keywords_all.list) AS keyword\n  GROUP BY skill\n  ORDER BY COUNT(*) DESC\n  LIMIT 10\n),\nMedianSalaries AS (\n  SELECT\n    ts.skill,\n    PERCENTILE_CONT(salary_year, 0.5) OVER (PARTITION BY ts.skill) AS median_salary,\n    MAX(ts.count) OVER (PARTITION BY ts.skill) AS skill_count\n  FROM\n    public_job_listings.data_nerd_jobs,\n    UNNEST(keywords_all.list) AS keyword\n  JOIN TopSkills ts ON keyword.element = ts.skill\n)\nSELECT\n  skill,\n  median_salary,\n  skill_count\nFROM\n  MedianSalaries\nGROUP BY skill, median_salary, skill_count;",
      "outputs": []
    },
    {
      "id": "15f5da22-8168-4ff3-ad24-d7d6c7a9c219",
      "cell_type": "code",
      "metadata": {
        "noteable": {
          "cell_type": "code",
          "output_collection_id": "9f16a3e5-2b43-40c3-b084-9a2247d02002"
        },
        "ExecuteTime": {
          "end_time": "2023-12-15T09:23:08.729740+00:00",
          "start_time": "2023-12-15T09:23:08.230514+00:00"
        }
      },
      "execution_count": null,
      "source": "import seaborn as sns\nimport matplotlib.pyplot as plt\n\n# Setting the plot style\nsns.set(style=\"darkgrid\")\nplt.style.use(\"dark_background\")\n\n# Preparing data\ndata = sql_df_ghfh[['skill', 'median_salary', 'skill_count']].sort_values('median_salary', ascending=False)\n\n# Creating the bar plot\nplt.figure(figsize=(12, 8))\nsns.barplot(x='median_salary', y='skill', data=data, palette=\"Blues_r\")\n\n# Adding the count inside the bars\nfor index, value in enumerate(data['median_salary']):\n    plt.text(value, index, str(data['skill_count'].iloc[index]), color='white', va='center')\n\nplt.title('Median Salary and Job Postings for Top 10 Skills')\nplt.xlabel('Median Salary ($)')\nplt.ylabel('Skill')\nplt.show()",
      "outputs": []
    },
    {
      "id": "96beb186-e026-451c-9b95-5f8c7228a5f7",
      "cell_type": "code",
      "metadata": {
        "noteable": {
          "cell_type": "code",
          "output_collection_id": "798b245e-ba40-4e60-bd05-8d5091291c7a"
        },
        "ExecuteTime": {
          "end_time": "2023-12-15T09:25:35.322283+00:00",
          "start_time": "2023-12-15T09:25:34.831825+00:00"
        }
      },
      "execution_count": null,
      "source": "import seaborn as sns\nimport matplotlib.pyplot as plt\n\n# Setting the plot style\nsns.set(style=\"darkgrid\")\nplt.style.use(\"dark_background\")\n\n# Preparing data\ndata = sql_df_ghfh[['skill', 'median_salary', 'skill_count']].sort_values('median_salary', ascending=False)\n\n# Creating the bar plot\nplt.figure(figsize=(12, 8))\nsns.barplot(x='median_salary', y='skill', data=data, palette=\"Blues_r\")\n\n# Adding the count inside the bars\nfor index, value in enumerate(data['median_salary']):\n    plt.text(value, index, f'{data[\"skill_count\"].iloc[index]} postings', color='white', va='center')\n\nplt.title('Median Salary for Top 10 Skills with Job Postings Count')\nplt.xlabel('Median Salary ($)')\nplt.ylabel('Skill')\nplt.show()",
      "outputs": []
    },
    {
      "id": "6fea3a96-351d-4b1b-a79c-b8f69398c94b",
      "cell_type": "code",
      "metadata": {
        "noteable": {
          "cell_type": "code",
          "output_collection_id": "b240437e-f0cd-4b53-823e-f9e77db43dec"
        },
        "ExecuteTime": {
          "end_time": "2023-12-15T09:26:57.096270+00:00",
          "start_time": "2023-12-15T09:26:56.619885+00:00"
        }
      },
      "execution_count": null,
      "source": "import seaborn as sns\nimport matplotlib.pyplot as plt\n\n# Setting the plot style\nsns.set(style=\"darkgrid\")\nplt.style.use(\"dark_background\")\n\n# Preparing data\ndata = sql_df_ghfh[['skill', 'median_salary', 'skill_count']].sort_values('median_salary', ascending=False)\n\n# Creating the bar plot\nplt.figure(figsize=(14, 10))\nsns.barplot(x='median_salary', y='skill', data=data, palette=\"Blues_r\")\n\n# Adding the count inside the bars\nfor index, value in enumerate(data['median_salary']):\n    plt.text(value - 5000, index, f'{data[\"skill_count\"].iloc[index]} postings', color='white', va='center')\n\nplt.title('Median Salary for Top 10 Skills with Job Postings Count')\nplt.xlabel('Median Salary ($)')\nplt.ylabel('Skill')\nplt.show()",
      "outputs": []
    },
    {
      "id": "b8dae3a1-374a-45c6-8320-617fc2cc521b",
      "cell_type": "markdown",
      "source": "## Median Salary for All Skills\nCalculating the median salary for all skills listed in the 'keywords_all' column using the 'salary_year' column.",
      "metadata": {
        "noteable": {
          "cell_type": "markdown"
        }
      }
    },
    {
      "id": "8f2772ec-2958-43b3-a183-afb2b98625fd",
      "cell_type": "code",
      "metadata": {
        "noteable": {
          "assign_results_to": "sql_df_xcmj",
          "cell_type": "sql",
          "db_connection": "@81bbd42db3724191a3fc03e3b17e2d77",
          "output_collection_id": "05364d85-6658-4154-90db-4555b59f51a1"
        },
        "ExecuteTime": {
          "end_time": "2023-12-15T09:42:17.832631+00:00",
          "start_time": "2023-12-15T09:42:12.499003+00:00"
        },
        "datalink": {
          "af67d53a-71c6-4b21-ba6c-e95bf0ec1fef": {
            "applied_filters": [],
            "dataframe_info": {
              "default_index_used": true,
              "orig_num_cols": 2,
              "orig_num_rows": 4658508,
              "orig_size_bytes": 111804192,
              "truncated_num_cols": 2,
              "truncated_num_rows": 50000,
              "truncated_size_bytes": 1200000,
              "truncated_string_columns": []
            },
            "display_id": "af67d53a-71c6-4b21-ba6c-e95bf0ec1fef",
            "dx_settings": {
              "ALLOW_NOTEABLE_ATTRS": true,
              "COLUMN_SAMPLING_METHOD": "outer",
              "DB_LOCATION": ":memory:",
              "DEV_MODE": false,
              "DISPLAY_MAX_COLUMNS": 100,
              "DISPLAY_MAX_ROWS": 50000,
              "DISPLAY_MODE": "simple",
              "ENABLE_ASSIGNMENT": true,
              "ENABLE_DATALINK": true,
              "FLATTEN_COLUMN_VALUES": true,
              "FLATTEN_INDEX_VALUES": false,
              "GENERATE_DEX_METADATA": false,
              "HTML_TABLE_SCHEMA": false,
              "LOG_LEVEL": 30,
              "MAX_RENDER_SIZE_BYTES": 104857600,
              "MAX_STRING_LENGTH": 250,
              "NUM_PAST_SAMPLES_TRACKED": 3,
              "RANDOM_STATE": 12648430,
              "RESET_INDEX_VALUES": false,
              "ROW_SAMPLING_METHOD": "random",
              "SAMPLING_FACTOR": 0.1,
              "SAMPLING_METHOD": "random",
              "STRINGIFY_COLUMN_VALUES": true,
              "STRINGIFY_INDEX_VALUES": false
            },
            "sample_history": [],
            "sampling_time": "2023-12-15T09:29:51.432347",
            "user_variable_name": "sql_df_xcmj",
            "variable_name": "sql_df_xcmj"
          },
          "f1d998c1-62f6-41fd-b915-f402b8486476": {
            "applied_filters": [],
            "dataframe_info": {
              "default_index_used": true,
              "orig_num_cols": 3,
              "orig_num_rows": 30365,
              "orig_size_bytes": 971680,
              "truncated_num_cols": 3,
              "truncated_num_rows": 30365,
              "truncated_size_bytes": 971680,
              "truncated_string_columns": []
            },
            "display_id": "f1d998c1-62f6-41fd-b915-f402b8486476",
            "dx_settings": {
              "ALLOW_NOTEABLE_ATTRS": true,
              "COLUMN_SAMPLING_METHOD": "outer",
              "DB_LOCATION": ":memory:",
              "DEV_MODE": false,
              "DISPLAY_MAX_COLUMNS": 100,
              "DISPLAY_MAX_ROWS": 50000,
              "DISPLAY_MODE": "simple",
              "ENABLE_ASSIGNMENT": true,
              "ENABLE_DATALINK": true,
              "FLATTEN_COLUMN_VALUES": true,
              "FLATTEN_INDEX_VALUES": false,
              "GENERATE_DEX_METADATA": false,
              "HTML_TABLE_SCHEMA": false,
              "LOG_LEVEL": 30,
              "MAX_RENDER_SIZE_BYTES": 104857600,
              "MAX_STRING_LENGTH": 250,
              "NUM_PAST_SAMPLES_TRACKED": 3,
              "RANDOM_STATE": 12648430,
              "RESET_INDEX_VALUES": false,
              "ROW_SAMPLING_METHOD": "random",
              "SAMPLING_FACTOR": 0.1,
              "SAMPLING_METHOD": "random",
              "STRINGIFY_COLUMN_VALUES": true,
              "STRINGIFY_INDEX_VALUES": false
            },
            "sample_history": [],
            "sampling_time": "2023-12-15T09:32:10.895418",
            "user_variable_name": "sql_df_xcmj",
            "variable_name": "sql_df_xcmj"
          },
          "6c0e06fc-20e5-4757-b8da-244ee92d7b41": {
            "applied_filters": [],
            "dataframe_info": {
              "default_index_used": true,
              "orig_num_cols": 3,
              "orig_num_rows": 255,
              "orig_size_bytes": 8160,
              "truncated_num_cols": 3,
              "truncated_num_rows": 255,
              "truncated_size_bytes": 8160,
              "truncated_string_columns": []
            },
            "display_id": "6c0e06fc-20e5-4757-b8da-244ee92d7b41",
            "dx_settings": {
              "ALLOW_NOTEABLE_ATTRS": true,
              "COLUMN_SAMPLING_METHOD": "outer",
              "DB_LOCATION": ":memory:",
              "DEV_MODE": false,
              "DISPLAY_MAX_COLUMNS": 100,
              "DISPLAY_MAX_ROWS": 50000,
              "DISPLAY_MODE": "simple",
              "ENABLE_ASSIGNMENT": true,
              "ENABLE_DATALINK": true,
              "FLATTEN_COLUMN_VALUES": true,
              "FLATTEN_INDEX_VALUES": false,
              "GENERATE_DEX_METADATA": false,
              "HTML_TABLE_SCHEMA": false,
              "LOG_LEVEL": 30,
              "MAX_RENDER_SIZE_BYTES": 104857600,
              "MAX_STRING_LENGTH": 250,
              "NUM_PAST_SAMPLES_TRACKED": 3,
              "RANDOM_STATE": 12648430,
              "RESET_INDEX_VALUES": false,
              "ROW_SAMPLING_METHOD": "random",
              "SAMPLING_FACTOR": 0.1,
              "SAMPLING_METHOD": "random",
              "STRINGIFY_COLUMN_VALUES": true,
              "STRINGIFY_INDEX_VALUES": false
            },
            "sample_history": [],
            "sampling_time": "2023-12-15T09:38:41.253444",
            "user_variable_name": "sql_df_xcmj",
            "variable_name": "sql_df_xcmj"
          },
          "899a04c3-8113-4ea8-8b28-001c74233660": {
            "applied_filters": [],
            "dataframe_info": {
              "default_index_used": true,
              "orig_num_cols": 3,
              "orig_num_rows": 255,
              "orig_size_bytes": 8160,
              "truncated_num_cols": 3,
              "truncated_num_rows": 255,
              "truncated_size_bytes": 8160,
              "truncated_string_columns": []
            },
            "display_id": "899a04c3-8113-4ea8-8b28-001c74233660",
            "dx_settings": {
              "ALLOW_NOTEABLE_ATTRS": true,
              "COLUMN_SAMPLING_METHOD": "outer",
              "DB_LOCATION": ":memory:",
              "DEV_MODE": false,
              "DISPLAY_MAX_COLUMNS": 100,
              "DISPLAY_MAX_ROWS": 50000,
              "DISPLAY_MODE": "simple",
              "ENABLE_ASSIGNMENT": true,
              "ENABLE_DATALINK": true,
              "FLATTEN_COLUMN_VALUES": true,
              "FLATTEN_INDEX_VALUES": false,
              "GENERATE_DEX_METADATA": false,
              "HTML_TABLE_SCHEMA": false,
              "LOG_LEVEL": 30,
              "MAX_RENDER_SIZE_BYTES": 104857600,
              "MAX_STRING_LENGTH": 250,
              "NUM_PAST_SAMPLES_TRACKED": 3,
              "RANDOM_STATE": 12648430,
              "RESET_INDEX_VALUES": false,
              "ROW_SAMPLING_METHOD": "random",
              "SAMPLING_FACTOR": 0.1,
              "SAMPLING_METHOD": "random",
              "STRINGIFY_COLUMN_VALUES": true,
              "STRINGIFY_INDEX_VALUES": false
            },
            "sample_history": [],
            "sampling_time": "2023-12-15T09:42:17.672597",
            "user_variable_name": "sql_df_xcmj",
            "variable_name": "sql_df_xcmj"
          }
        },
        "dx": {
          "dashboard": {
            "multiViews": []
          },
          "fieldMetadata": {
            "index": {
              "columnPosition": 1
            },
            "median_salary": {
              "columnPosition": 4
            },
            "skill": {
              "columnPosition": 2
            },
            "skill_count": {
              "columnPosition": 3,
              "sort": "desc"
            }
          },
          "updated": 1702633184361,
          "views": [
            {
              "annotationRules": [],
              "chart": {},
              "chartMode": "grid",
              "confoRules": [],
              "decoration": {
                "footer": "",
                "subtitle": "",
                "title": "Table"
              },
              "facets": [],
              "filterSettings": {
                "SHOW_FILTER_PANEL": true,
                "filters": []
              },
              "id": "first-view",
              "isDefault": true,
              "type": "public",
              "userID": ""
            },
            {
              "annotationRules": [],
              "chart": {},
              "chartMode": "grid",
              "confoRules": [],
              "decoration": {
                "footer": "",
                "subtitle": "",
                "title": "Table"
              },
              "facets": [],
              "filterSettings": {
                "SHOW_FILTER_PANEL": true,
                "filters": []
              },
              "id": "first-view",
              "isDefault": true,
              "isTransitory": true,
              "type": "public",
              "userID": ""
            }
          ]
        }
      },
      "execution_count": null,
      "source": "SELECT\n  skill,\n  COUNT(*) AS skill_count,\n  ROUND(AVG(salary_year)) AS median_salary\nFROM (\n  SELECT\n    keyword.element AS skill,\n    salary_year\n  FROM\n    public_job_listings.data_nerd_jobs,\n    UNNEST(keywords_all.list) AS keyword\n)\nGROUP BY skill;",
      "outputs": []
    },
    {
      "id": "db54f0cb-a497-40c8-b7d1-f33e932e19aa",
      "cell_type": "code",
      "metadata": {
        "noteable": {
          "cell_type": "code",
          "output_collection_id": "e8a0cb6a-94e8-42ad-85aa-2459b2d3ef3a"
        },
        "ExecuteTime": {
          "end_time": "2023-12-15T09:44:59.852174+00:00",
          "start_time": "2023-12-15T09:44:57.261717+00:00"
        }
      },
      "execution_count": null,
      "source": "!pip install plotly",
      "outputs": []
    },
    {
      "id": "23bfc8f2-8135-42f6-b03e-9c0793d0430d",
      "cell_type": "code",
      "metadata": {
        "noteable": {
          "cell_type": "code",
          "output_collection_id": "1fb2d7cc-e6a2-464b-ae8a-04c6ae0e0721"
        },
        "ExecuteTime": {
          "end_time": "2023-12-15T09:45:24.091255+00:00",
          "start_time": "2023-12-15T09:45:23.632104+00:00"
        }
      },
      "execution_count": null,
      "source": "import plotly.express as px\n\n# Preparing data\nplot_data = sql_df_xcmj.dropna()\n\n# Creating the scatter plot\nfig = px.scatter(plot_data, x='median_salary', y='skill_count', hover_data=['skill'],\n                 title='Scatter Plot of Salary vs Count', labels={'median_salary': 'Median Salary', 'skill_count': 'Skill Count'})\n\nfig.show()",
      "outputs": []
    },
    {
      "id": "14b4923a-1ade-4cdc-ad0c-becdf436c328",
      "cell_type": "code",
      "metadata": {
        "noteable": {
          "assign_results_to": "sql_df_zaau",
          "cell_type": "sql",
          "db_connection": "@81bbd42db3724191a3fc03e3b17e2d77",
          "output_collection_id": "a4875afc-a698-400d-b606-2f4a30c71725"
        },
        "ExecuteTime": {
          "end_time": "2023-12-15T12:33:30.845678+00:00",
          "start_time": "2023-12-15T12:33:29.168661+00:00"
        },
        "datalink": {
          "ab329479-52ea-437e-8c7c-8588e9a460c4": {
            "applied_filters": [],
            "dataframe_info": {
              "default_index_used": true,
              "orig_num_cols": 4,
              "orig_num_rows": 2275,
              "orig_size_bytes": 91000,
              "truncated_num_cols": 4,
              "truncated_num_rows": 2275,
              "truncated_size_bytes": 91000,
              "truncated_string_columns": []
            },
            "display_id": "ab329479-52ea-437e-8c7c-8588e9a460c4",
            "dx_settings": {
              "ALLOW_NOTEABLE_ATTRS": true,
              "COLUMN_SAMPLING_METHOD": "outer",
              "DB_LOCATION": ":memory:",
              "DEV_MODE": false,
              "DISPLAY_MAX_COLUMNS": 100,
              "DISPLAY_MAX_ROWS": 50000,
              "DISPLAY_MODE": "simple",
              "ENABLE_ASSIGNMENT": true,
              "ENABLE_DATALINK": true,
              "FLATTEN_COLUMN_VALUES": true,
              "FLATTEN_INDEX_VALUES": false,
              "GENERATE_DEX_METADATA": false,
              "HTML_TABLE_SCHEMA": false,
              "LOG_LEVEL": 30,
              "MAX_RENDER_SIZE_BYTES": 104857600,
              "MAX_STRING_LENGTH": 250,
              "NUM_PAST_SAMPLES_TRACKED": 3,
              "RANDOM_STATE": 12648430,
              "RESET_INDEX_VALUES": false,
              "ROW_SAMPLING_METHOD": "random",
              "SAMPLING_FACTOR": 0.1,
              "SAMPLING_METHOD": "random",
              "STRINGIFY_COLUMN_VALUES": true,
              "STRINGIFY_INDEX_VALUES": false
            },
            "sample_history": [],
            "sampling_time": "2023-12-15T12:33:30.680311",
            "user_variable_name": "sql_df_zaau",
            "variable_name": "sql_df_zaau"
          }
        }
      },
      "execution_count": null,
      "source": "SELECT\n  job_title_final,\n  keyword.element AS skill,\n  COUNT(*) AS skill_count,\n  ROUND(AVG(salary_year)) AS median_salary\nFROM\n  public_job_listings.data_nerd_jobs,\n  UNNEST(keywords_all.list) AS keyword\nGROUP BY job_title_final, skill;",
      "outputs": []
    },
    {
      "id": "397e5264-a701-47c2-b665-3474a4abd7b8",
      "cell_type": "code",
      "metadata": {
        "noteable": {
          "assign_results_to": "sql_df_lhcs",
          "cell_type": "sql",
          "db_connection": "@81bbd42db3724191a3fc03e3b17e2d77",
          "output_collection_id": "ea8d0412-ec64-456a-9443-26e0ea01295c"
        },
        "ExecuteTime": {
          "end_time": "2023-12-15T12:32:58.761966+00:00",
          "start_time": "2023-12-15T12:32:56.369403+00:00"
        },
        "datalink": {
          "c259e438-072f-4420-833a-a378114ceea3": {
            "applied_filters": [],
            "dataframe_info": {
              "default_index_used": true,
              "orig_num_cols": 4,
              "orig_num_rows": 2275,
              "orig_size_bytes": 91000,
              "truncated_num_cols": 4,
              "truncated_num_rows": 2275,
              "truncated_size_bytes": 91000,
              "truncated_string_columns": []
            },
            "display_id": "c259e438-072f-4420-833a-a378114ceea3",
            "dx_settings": {
              "ALLOW_NOTEABLE_ATTRS": true,
              "COLUMN_SAMPLING_METHOD": "outer",
              "DB_LOCATION": ":memory:",
              "DEV_MODE": false,
              "DISPLAY_MAX_COLUMNS": 100,
              "DISPLAY_MAX_ROWS": 50000,
              "DISPLAY_MODE": "simple",
              "ENABLE_ASSIGNMENT": true,
              "ENABLE_DATALINK": true,
              "FLATTEN_COLUMN_VALUES": true,
              "FLATTEN_INDEX_VALUES": false,
              "GENERATE_DEX_METADATA": false,
              "HTML_TABLE_SCHEMA": false,
              "LOG_LEVEL": 30,
              "MAX_RENDER_SIZE_BYTES": 104857600,
              "MAX_STRING_LENGTH": 250,
              "NUM_PAST_SAMPLES_TRACKED": 3,
              "RANDOM_STATE": 12648430,
              "RESET_INDEX_VALUES": false,
              "ROW_SAMPLING_METHOD": "random",
              "SAMPLING_FACTOR": 0.1,
              "SAMPLING_METHOD": "random",
              "STRINGIFY_COLUMN_VALUES": true,
              "STRINGIFY_INDEX_VALUES": false
            },
            "sample_history": [],
            "sampling_time": "2023-12-15T12:32:58.582153",
            "user_variable_name": "sql_df_lhcs",
            "variable_name": "sql_df_lhcs"
          }
        }
      },
      "execution_count": null,
      "source": "SELECT\n  keyword.element AS skill,\n  job_title_final,\n  COUNT(*) AS skill_count,\n  ROUND(AVG(salary_year)) AS median_salary\nFROM\n  public_job_listings.data_nerd_jobs,\n  UNNEST(keywords_all.list) AS keyword\nGROUP BY skill, job_title_final;",
      "outputs": []
    },
    {
      "id": "14a4199a-88fb-4762-97a4-90a744aa23eb",
      "cell_type": "code",
      "metadata": {
        "noteable": {
          "assign_results_to": "sql_df_arwr",
          "cell_type": "sql",
          "db_connection": "@81bbd42db3724191a3fc03e3b17e2d77",
          "output_collection_id": "75f46101-89e5-4eb1-923f-cc12a6779411"
        },
        "ExecuteTime": {
          "end_time": "2023-12-15T12:54:09.864021+00:00",
          "start_time": "2023-12-15T12:54:08.458144+00:00"
        },
        "datalink": {
          "8567379d-2842-481d-84cb-92bfab09046b": {
            "applied_filters": [],
            "dataframe_info": {
              "default_index_used": true,
              "orig_num_cols": 4,
              "orig_num_rows": 2275,
              "orig_size_bytes": 91000,
              "truncated_num_cols": 4,
              "truncated_num_rows": 2275,
              "truncated_size_bytes": 91000,
              "truncated_string_columns": []
            },
            "display_id": "8567379d-2842-481d-84cb-92bfab09046b",
            "dx_settings": {
              "ALLOW_NOTEABLE_ATTRS": true,
              "COLUMN_SAMPLING_METHOD": "outer",
              "DB_LOCATION": ":memory:",
              "DEV_MODE": false,
              "DISPLAY_MAX_COLUMNS": 100,
              "DISPLAY_MAX_ROWS": 50000,
              "DISPLAY_MODE": "simple",
              "ENABLE_ASSIGNMENT": true,
              "ENABLE_DATALINK": true,
              "FLATTEN_COLUMN_VALUES": true,
              "FLATTEN_INDEX_VALUES": false,
              "GENERATE_DEX_METADATA": false,
              "HTML_TABLE_SCHEMA": false,
              "LOG_LEVEL": 30,
              "MAX_RENDER_SIZE_BYTES": 104857600,
              "MAX_STRING_LENGTH": 250,
              "NUM_PAST_SAMPLES_TRACKED": 3,
              "RANDOM_STATE": 12648430,
              "RESET_INDEX_VALUES": false,
              "ROW_SAMPLING_METHOD": "random",
              "SAMPLING_FACTOR": 0.1,
              "SAMPLING_METHOD": "random",
              "STRINGIFY_COLUMN_VALUES": true,
              "STRINGIFY_INDEX_VALUES": false
            },
            "sample_history": [],
            "sampling_time": "2023-12-15T12:54:09.699322",
            "user_variable_name": "sql_df_lhcs",
            "variable_name": "sql_df_lhcs"
          }
        }
      },
      "execution_count": null,
      "source": "SELECT\n  keyword.element AS skill,\n  job_title_final,\n  COUNT(*) AS skill_count,\n  ROUND(AVG(salary_year)) AS median_salary\nFROM\n  public_job_listings.data_nerd_jobs,\n  UNNEST(keywords_all.list) AS keyword\nGROUP BY skill, job_title_final;",
      "outputs": []
    },
    {
      "id": "0a1d5dad-5ed5-4ed6-b06a-1f499130be98",
      "cell_type": "code",
      "metadata": {
        "noteable": {
          "cell_type": "code",
          "output_collection_id": "1a2179d9-aafc-44ad-bc72-3681e7cea644"
        },
        "ExecuteTime": {
          "end_time": "2023-12-15T12:54:36.604736+00:00",
          "start_time": "2023-12-15T12:54:36.387310+00:00"
        }
      },
      "execution_count": null,
      "source": "import plotly.express as px\n\n# Preparing data\nplot_data = sql_df_arwr.dropna()\n\n# Creating the scatter plot with a slicer for job_title_final\nfig = px.scatter(plot_data, x='median_salary', y='skill_count', color='job_title_final', hover_data=['skill', 'job_title_final'],\n                 title='Scatter Plot of Salary vs Skill Count with Job Title Filter', labels={'median_salary': 'Median Salary', 'skill_count': 'Skill Count'})\n\nfig.show()",
      "outputs": []
    },
    {
      "id": "9022d0e4-d45d-48fd-984a-c30a59e443e8",
      "cell_type": "code",
      "metadata": {
        "noteable": {
          "cell_type": "code",
          "output_collection_id": "2fea3c56-eb66-4b22-8705-ffb4e690cf2a"
        },
        "ExecuteTime": {
          "end_time": "2023-12-15T13:01:27.329938+00:00",
          "start_time": "2023-12-15T13:01:26.927099+00:00"
        },
        "datalink": {
          "a3d4e40d-cff5-44bf-bca2-721706f19cf0": {
            "applied_filters": [],
            "dataframe_info": {
              "default_index_used": true,
              "orig_num_cols": 6,
              "orig_num_rows": 5,
              "orig_size_bytes": 280,
              "truncated_num_cols": 6,
              "truncated_num_rows": 5,
              "truncated_size_bytes": 280,
              "truncated_string_columns": []
            },
            "display_id": "a3d4e40d-cff5-44bf-bca2-721706f19cf0",
            "dx_settings": {
              "ALLOW_NOTEABLE_ATTRS": true,
              "COLUMN_SAMPLING_METHOD": "outer",
              "DB_LOCATION": ":memory:",
              "DEV_MODE": false,
              "DISPLAY_MAX_COLUMNS": 100,
              "DISPLAY_MAX_ROWS": 50000,
              "DISPLAY_MODE": "simple",
              "ENABLE_ASSIGNMENT": true,
              "ENABLE_DATALINK": true,
              "FLATTEN_COLUMN_VALUES": true,
              "FLATTEN_INDEX_VALUES": false,
              "GENERATE_DEX_METADATA": false,
              "HTML_TABLE_SCHEMA": false,
              "LOG_LEVEL": 30,
              "MAX_RENDER_SIZE_BYTES": 104857600,
              "MAX_STRING_LENGTH": 250,
              "NUM_PAST_SAMPLES_TRACKED": 3,
              "RANDOM_STATE": 12648430,
              "RESET_INDEX_VALUES": false,
              "ROW_SAMPLING_METHOD": "random",
              "SAMPLING_FACTOR": 0.1,
              "SAMPLING_METHOD": "random",
              "STRINGIFY_COLUMN_VALUES": true,
              "STRINGIFY_INDEX_VALUES": false
            },
            "sample_history": [],
            "sampling_time": "2023-12-15T12:59:26.385484",
            "user_variable_name": null,
            "variable_name": "unk_dataframe_644545a882db46869d2876860c911b0f"
          },
          "03da3fe6-6686-41c8-bfc5-d3e34ce84a9b": {
            "applied_filters": [],
            "dataframe_info": {
              "default_index_used": true,
              "orig_num_cols": 6,
              "orig_num_rows": 5,
              "orig_size_bytes": 280,
              "truncated_num_cols": 6,
              "truncated_num_rows": 5,
              "truncated_size_bytes": 280,
              "truncated_string_columns": []
            },
            "display_id": "03da3fe6-6686-41c8-bfc5-d3e34ce84a9b",
            "dx_settings": {
              "ALLOW_NOTEABLE_ATTRS": true,
              "COLUMN_SAMPLING_METHOD": "outer",
              "DB_LOCATION": ":memory:",
              "DEV_MODE": false,
              "DISPLAY_MAX_COLUMNS": 100,
              "DISPLAY_MAX_ROWS": 50000,
              "DISPLAY_MODE": "simple",
              "ENABLE_ASSIGNMENT": true,
              "ENABLE_DATALINK": true,
              "FLATTEN_COLUMN_VALUES": true,
              "FLATTEN_INDEX_VALUES": false,
              "GENERATE_DEX_METADATA": false,
              "HTML_TABLE_SCHEMA": false,
              "LOG_LEVEL": 30,
              "MAX_RENDER_SIZE_BYTES": 104857600,
              "MAX_STRING_LENGTH": 250,
              "NUM_PAST_SAMPLES_TRACKED": 3,
              "RANDOM_STATE": 12648430,
              "RESET_INDEX_VALUES": false,
              "ROW_SAMPLING_METHOD": "random",
              "SAMPLING_FACTOR": 0.1,
              "SAMPLING_METHOD": "random",
              "STRINGIFY_COLUMN_VALUES": true,
              "STRINGIFY_INDEX_VALUES": false
            },
            "sample_history": [],
            "sampling_time": "2023-12-15T13:01:27.169572",
            "user_variable_name": null,
            "variable_name": "unk_dataframe_cb0763cab9934f79a3a89caf39c092e0"
          }
        }
      },
      "execution_count": null,
      "source": "from sklearn.preprocessing import MinMaxScaler\n\n# Initialize MinMaxScaler\nscaler = MinMaxScaler()\n\n# Apply MinMax normalization within each job title category\nsql_df_arwr['normalized_multiplier'] = sql_df_arwr.groupby('job_title_final')['skill_multiplier'].transform(lambda x: scaler.fit_transform(x.values.reshape(-1, 1)).flatten())\n\nsql_df_arwr.head()",
      "outputs": []
    },
    {
      "id": "99cd67c2-a9c4-45e3-a44b-585ff4ed405d",
      "cell_type": "code",
      "metadata": {
        "noteable": {
          "cell_type": "code",
          "output_collection_id": "bea6ca56-cb63-4781-85ca-f1812f418669"
        },
        "ExecuteTime": {
          "end_time": "2023-12-15T13:04:33.212146+00:00",
          "start_time": "2023-12-15T13:04:32.428930+00:00"
        }
      },
      "execution_count": null,
      "source": "import seaborn as sns\nimport matplotlib.pyplot as plt\n\n# Filter data for 'Data Analyst' job title\nanalyst_data = sql_df_arwr[sql_df_arwr['job_title_final'] == 'Data Analyst']\n\n# Sort and select top 10 skills based on normalized multiplier\ntop_skills = analyst_data.sort_values('normalized_multiplier', ascending=False).head(10)\n\n# Setting the plot style\nsns.set(style=\"darkgrid\")\nplt.style.use(\"dark_background\")\n\n# Creating the bar plot\nplt.figure(figsize=(10, 6))\nsns.barplot(x='normalized_multiplier', y='skill', data=top_skills, palette=\"Blues_r\")\n\nplt.title('Top 10 Skills for Data Analysts Based on Normalized Multiplier')\nplt.xlabel('Normalized Multiplier')\nplt.ylabel('Skill')\nplt.show()",
      "outputs": []
    },
    {
      "id": "80acfa77-75b0-4ea1-a88b-fa5f30ca8db7",
      "cell_type": "code",
      "metadata": {
        "noteable": {
          "cell_type": "code",
          "output_collection_id": "bd08ae7b-6714-480f-8e14-b11ecda4e2bc"
        },
        "ExecuteTime": {
          "end_time": "2023-12-15T13:06:33.109618+00:00",
          "start_time": "2023-12-15T13:06:32.579473+00:00"
        }
      },
      "execution_count": null,
      "source": "import plotly.express as px\n\n# Creating the interactive bar plot with a slicer for job_title_clean\nfig = px.bar(sql_df_arwr, x='normalized_multiplier', y='skill', color='job_title_clean',\n             title='Skills Based on Normalized Multiplier with Job Title Filter',\n             labels={'normalized_multiplier': 'Normalized Multiplier', 'skill': 'Skill'},\n             hover_data=['job_title_clean', 'skill', 'normalized_multiplier'])\n\nfig.show()",
      "outputs": []
    },
    {
      "id": "f6001c0f-114a-431c-a17f-34ac21d1da2a",
      "cell_type": "code",
      "metadata": {
        "noteable": {
          "cell_type": "code",
          "output_collection_id": "ac270792-dbd6-4cc6-b0aa-3eab7f7cbdba"
        },
        "ExecuteTime": {
          "end_time": "2023-12-15T13:07:15.096539+00:00",
          "start_time": "2023-12-15T13:07:14.884587+00:00"
        }
      },
      "execution_count": null,
      "source": "import plotly.express as px\n\n# Preparing data: Group by job title and skill, then get the top 10 skills for each job title\nfiltered_data = sql_df_arwr.groupby(['job_title_final', 'skill']).agg({'normalized_multiplier':'mean'}).reset_index()\nfiltered_data = filtered_data.sort_values(['job_title_final', 'normalized_multiplier'], ascending=[True, False])\nfiltered_data = filtered_data.groupby('job_title_final').head(10)\n\n# Creating the interactive bar plot with a filter for job_title_final\nfig = px.bar(filtered_data, x='normalized_multiplier', y='skill', color='job_title_final',\n             title='Top 10 Skills Based on Normalized Multiplier with Job Title Filter',\n             labels={'normalized_multiplier': 'Normalized Multiplier', 'skill': 'Skill'},\n             hover_data=['job_title_final'])\n\nfig.show()",
      "outputs": []
    },
    {
      "id": "f0b1f67d-9bd9-4858-af02-73d5840e44a2",
      "cell_type": "code",
      "metadata": {
        "noteable": {
          "cell_type": "code",
          "output_collection_id": "87469926-c116-4233-9e29-895d7594434b"
        },
        "ExecuteTime": {
          "end_time": "2023-12-15T13:15:49.649881+00:00",
          "start_time": "2023-12-15T13:15:49.441644+00:00"
        }
      },
      "execution_count": null,
      "source": "import plotly.express as px\n\n# Preparing data: Group by job title and skill, then get the top 10 skills for each job title\nfiltered_data = sql_df_arwr.groupby(['job_title_final', 'skill']).agg({'normalized_multiplier':'mean'}).reset_index()\nfiltered_data = filtered_data.sort_values(['job_title_final', 'normalized_multiplier'], ascending=[True, False])\nfiltered_data = filtered_data.groupby('job_title_final').head(10)\n\n# Creating the interactive bar plot with a filter for job_title_final\nfig = px.bar(filtered_data, x='normalized_multiplier', y='skill', color='job_title_final',\n             title='Top 10 Skills Based on Normalized Multiplier with Job Title Filter',\n             labels={'normalized_multiplier': 'Normalized Multiplier', 'skill': 'Skill'},\n             hover_data=['job_title_final'])\n\nfig.show()",
      "outputs": []
    },
    {
      "id": "ad1edcbc-100f-4b46-b4b7-39154a975aed",
      "cell_type": "code",
      "metadata": {
        "noteable": {
          "cell_type": "code",
          "output_collection_id": "3583247d-1358-4e95-a9ff-00d904e2f5c0"
        },
        "ExecuteTime": {
          "end_time": "2023-12-15T13:36:51.926257+00:00",
          "start_time": "2023-12-15T13:36:51.720937+00:00"
        }
      },
      "execution_count": null,
      "source": "import plotly.graph_objects as go\n\n# Preparing data\njob_titles = sql_df_arwr['job_title_final'].unique()\n\n# Create a figure for each job title\nfigures = {}\nfor job_title in job_titles:\n    df_filtered = sql_df_arwr[sql_df_arwr['job_title_final'] == job_title].sort_values('normalized_multiplier', ascending=False).head(10)\n    fig = go.Figure(data=[\n        go.Bar(\n            y=df_filtered['normalized_multiplier'],\n            x=df_filtered['skill'],\n            text=df_filtered['skill_count'],\n            hoverinfo='y+x+text',\n            hovertext=df_filtered['median_salary'],\n            orientation='v'\n        )\n    ])\n    fig.update_layout(\n        title=f'Top 10 Skills for {job_title}',\n        yaxis_title='Normalized Multiplier',\n        xaxis_title='Skill',\n        hovermode='closest'\n    )\n    figures[job_title] = fig\n\n# Display the first figure as an example\nfor job in job_titles:\n    figures[job].show()",
      "outputs": []
    }
  ]
}