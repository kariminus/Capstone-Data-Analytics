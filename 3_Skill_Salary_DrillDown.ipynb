{
  "nbformat": 4,
  "nbformat_minor": 5,
  "metadata": {
    "noteable-chatgpt": {
      "create_notebook": {
        "openai_conversation_id": "b8c660a9-3cfc-5729-b43d-ca288118fc61",
        "openai_ephemeral_user_id": "600d468a-95bd-5429-9594-324b8b86d60a",
        "openai_subdivision1_iso_code": "FR-ARA"
      }
    },
    "kernel_info": {
      "name": "python3"
    },
    "kernelspec": {
      "display_name": "Python 3.9",
      "identifier": "legacy",
      "language": "python",
      "language_version": "3.9",
      "name": "python3"
    },
    "selected_hardware_size": "small"
  },
  "cells": [
    {
      "id": "189687ab-e5ff-4a09-b493-9844c3b1c46d",
      "cell_type": "code",
      "metadata": {
        "jupyter": {
          "outputs_hidden": false,
          "source_hidden": false
        },
        "noteable": {
          "cell_type": "code"
        }
      },
      "execution_count": null,
      "source": "",
      "outputs": []
    },
    {
      "id": "38b04a5c-931d-4c65-8328-9ef9f458a168",
      "cell_type": "code",
      "metadata": {
        "noteable": {
          "assign_results_to": "sql_df_nvnx",
          "cell_type": "sql",
          "db_connection": "@81bbd42db3724191a3fc03e3b17e2d77",
          "output_collection_id": "ddbdd29d-9092-40cf-9896-13f07231969d"
        },
        "ExecuteTime": {
          "end_time": "2023-12-15T08:28:55.646004+00:00",
          "start_time": "2023-12-15T08:28:53.763026+00:00"
        },
        "datalink": {
          "1757af41-fc4e-4a1e-ac87-e2f23e70cbd0": {
            "applied_filters": [],
            "dataframe_info": {
              "default_index_used": true,
              "orig_num_cols": 3,
              "orig_num_rows": 1,
              "orig_size_bytes": 32,
              "truncated_num_cols": 3,
              "truncated_num_rows": 1,
              "truncated_size_bytes": 32,
              "truncated_string_columns": []
            },
            "display_id": "1757af41-fc4e-4a1e-ac87-e2f23e70cbd0",
            "dx_settings": {
              "ALLOW_NOTEABLE_ATTRS": true,
              "COLUMN_SAMPLING_METHOD": "outer",
              "DB_LOCATION": ":memory:",
              "DEV_MODE": false,
              "DISPLAY_MAX_COLUMNS": 100,
              "DISPLAY_MAX_ROWS": 50000,
              "DISPLAY_MODE": "simple",
              "ENABLE_ASSIGNMENT": true,
              "ENABLE_DATALINK": true,
              "FLATTEN_COLUMN_VALUES": true,
              "FLATTEN_INDEX_VALUES": false,
              "GENERATE_DEX_METADATA": false,
              "HTML_TABLE_SCHEMA": false,
              "LOG_LEVEL": 30,
              "MAX_RENDER_SIZE_BYTES": 104857600,
              "MAX_STRING_LENGTH": 250,
              "NUM_PAST_SAMPLES_TRACKED": 3,
              "RANDOM_STATE": 12648430,
              "RESET_INDEX_VALUES": false,
              "ROW_SAMPLING_METHOD": "random",
              "SAMPLING_FACTOR": 0.1,
              "SAMPLING_METHOD": "random",
              "STRINGIFY_COLUMN_VALUES": true,
              "STRINGIFY_INDEX_VALUES": false
            },
            "sample_history": [],
            "sampling_time": "2023-12-15T08:28:55.483810",
            "user_variable_name": null,
            "variable_name": "unk_dataframe_3b7737f9f97740038fe39a0870105b97"
          }
        }
      },
      "execution_count": null,
      "source": "\\list",
      "outputs": []
    },
    {
      "id": "266e9b06-827a-4ad6-b27b-3978db50fb6e",
      "cell_type": "code",
      "metadata": {
        "noteable": {
          "assign_results_to": "sql_df_nfkb",
          "cell_type": "sql",
          "db_connection": "@81bbd42db3724191a3fc03e3b17e2d77",
          "output_collection_id": "a7325fe7-938b-4bda-ac2f-5dc40b208428"
        },
        "ExecuteTime": null
      },
      "execution_count": null,
      "source": "SELECT keywords_all FROM public_job_listings.data_nerd_jobs LIMIT 100;",
      "outputs": []
    }
  ]
}