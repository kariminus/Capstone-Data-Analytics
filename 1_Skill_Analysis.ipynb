{
  "nbformat": 4,
  "nbformat_minor": 5,
  "metadata": {
    "noteable-chatgpt": {
      "create_notebook": {
        "openai_conversation_id": "4ee20473-c4d8-5ef3-95b1-55bb07e7955f",
        "openai_ephemeral_user_id": "304c6152-ad2f-5383-ab4b-fc7ce3ed78a1",
        "openai_subdivision1_iso_code": "FR-ARA"
      }
    },
    "kernel_info": {
      "name": "python3"
    },
    "kernelspec": {
      "display_name": "Python 3.9",
      "identifier": "legacy",
      "language": "python",
      "language_version": "3.9",
      "name": "python3"
    },
    "selected_hardware_size": "small"
  },
  "cells": [
    {
      "id": "38a84286-4a26-4d86-a357-5bd11ad96eea",
      "cell_type": "code",
      "metadata": {
        "noteable": {
          "assign_results_to": "sql_df_xdua",
          "cell_type": "sql",
          "db_connection": "@81bbd42db3724191a3fc03e3b17e2d77",
          "output_collection_id": "987fb104-cc3e-4684-900c-810dae42d560"
        },
        "ExecuteTime": {
          "end_time": "2023-12-13T13:06:45.576008+00:00",
          "start_time": "2023-12-13T13:06:43.574387+00:00"
        },
        "datalink": {
          "7d19a4a0-13a1-4abb-ba86-27925f3219bf": {
            "applied_filters": [],
            "dataframe_info": {
              "default_index_used": true,
              "orig_num_cols": 3,
              "orig_num_rows": 1,
              "orig_size_bytes": 32,
              "truncated_num_cols": 3,
              "truncated_num_rows": 1,
              "truncated_size_bytes": 32,
              "truncated_string_columns": []
            },
            "display_id": "7d19a4a0-13a1-4abb-ba86-27925f3219bf",
            "dx_settings": {
              "ALLOW_NOTEABLE_ATTRS": true,
              "COLUMN_SAMPLING_METHOD": "outer",
              "DB_LOCATION": ":memory:",
              "DEV_MODE": false,
              "DISPLAY_MAX_COLUMNS": 100,
              "DISPLAY_MAX_ROWS": 50000,
              "DISPLAY_MODE": "simple",
              "ENABLE_ASSIGNMENT": true,
              "ENABLE_DATALINK": true,
              "FLATTEN_COLUMN_VALUES": true,
              "FLATTEN_INDEX_VALUES": false,
              "GENERATE_DEX_METADATA": false,
              "HTML_TABLE_SCHEMA": false,
              "LOG_LEVEL": 30,
              "MAX_RENDER_SIZE_BYTES": 104857600,
              "MAX_STRING_LENGTH": 250,
              "NUM_PAST_SAMPLES_TRACKED": 3,
              "RANDOM_STATE": 12648430,
              "RESET_INDEX_VALUES": false,
              "ROW_SAMPLING_METHOD": "random",
              "SAMPLING_FACTOR": 0.1,
              "SAMPLING_METHOD": "random",
              "STRINGIFY_COLUMN_VALUES": true,
              "STRINGIFY_INDEX_VALUES": false
            },
            "sample_history": [],
            "sampling_time": "2023-12-13T08:16:46.685593",
            "user_variable_name": null,
            "variable_name": "unk_dataframe_8efb4e69a15e4a72a134fca98bee0ad4"
          },
          "b0cf799a-11bf-442a-b4a9-705150a78ff3": {
            "applied_filters": [],
            "dataframe_info": {
              "default_index_used": true,
              "orig_num_cols": 3,
              "orig_num_rows": 1,
              "orig_size_bytes": 32,
              "truncated_num_cols": 3,
              "truncated_num_rows": 1,
              "truncated_size_bytes": 32,
              "truncated_string_columns": []
            },
            "display_id": "b0cf799a-11bf-442a-b4a9-705150a78ff3",
            "dx_settings": {
              "ALLOW_NOTEABLE_ATTRS": true,
              "COLUMN_SAMPLING_METHOD": "outer",
              "DB_LOCATION": ":memory:",
              "DEV_MODE": false,
              "DISPLAY_MAX_COLUMNS": 100,
              "DISPLAY_MAX_ROWS": 50000,
              "DISPLAY_MODE": "simple",
              "ENABLE_ASSIGNMENT": true,
              "ENABLE_DATALINK": true,
              "FLATTEN_COLUMN_VALUES": true,
              "FLATTEN_INDEX_VALUES": false,
              "GENERATE_DEX_METADATA": false,
              "HTML_TABLE_SCHEMA": false,
              "LOG_LEVEL": 30,
              "MAX_RENDER_SIZE_BYTES": 104857600,
              "MAX_STRING_LENGTH": 250,
              "NUM_PAST_SAMPLES_TRACKED": 3,
              "RANDOM_STATE": 12648430,
              "RESET_INDEX_VALUES": false,
              "ROW_SAMPLING_METHOD": "random",
              "SAMPLING_FACTOR": 0.1,
              "SAMPLING_METHOD": "random",
              "STRINGIFY_COLUMN_VALUES": true,
              "STRINGIFY_INDEX_VALUES": false
            },
            "sample_history": [],
            "sampling_time": "2023-12-13T13:06:45.411149",
            "user_variable_name": null,
            "variable_name": "unk_dataframe_06feb37e515945f7964ef88ed92c99a1"
          }
        }
      },
      "execution_count": null,
      "source": "\\list",
      "outputs": []
    },
    {
      "id": "7e981de0-dc3f-4526-a232-15f07b2f3d74",
      "cell_type": "code",
      "metadata": {
        "noteable": {
          "assign_results_to": "sql_df_deoy",
          "cell_type": "sql",
          "db_connection": "@81bbd42db3724191a3fc03e3b17e2d77",
          "output_collection_id": "ec7f6077-a440-425d-b7a3-ffd90804a088"
        },
        "ExecuteTime": {
          "end_time": "2023-12-13T13:06:47.087179+00:00",
          "start_time": "2023-12-13T13:06:45.771003+00:00"
        },
        "datalink": {
          "a33317ae-5afd-4dfe-bc80-3de14ca59075": {
            "applied_filters": [],
            "dataframe_info": {
              "default_index_used": true,
              "orig_num_cols": 1,
              "orig_num_rows": 100,
              "orig_size_bytes": 1600,
              "truncated_num_cols": 1,
              "truncated_num_rows": 100,
              "truncated_size_bytes": 1600,
              "truncated_string_columns": [
                "keywords_all"
              ]
            },
            "display_id": "a33317ae-5afd-4dfe-bc80-3de14ca59075",
            "dx_settings": {
              "ALLOW_NOTEABLE_ATTRS": true,
              "COLUMN_SAMPLING_METHOD": "outer",
              "DB_LOCATION": ":memory:",
              "DEV_MODE": false,
              "DISPLAY_MAX_COLUMNS": 100,
              "DISPLAY_MAX_ROWS": 50000,
              "DISPLAY_MODE": "simple",
              "ENABLE_ASSIGNMENT": true,
              "ENABLE_DATALINK": true,
              "FLATTEN_COLUMN_VALUES": true,
              "FLATTEN_INDEX_VALUES": false,
              "GENERATE_DEX_METADATA": false,
              "HTML_TABLE_SCHEMA": false,
              "LOG_LEVEL": 30,
              "MAX_RENDER_SIZE_BYTES": 104857600,
              "MAX_STRING_LENGTH": 250,
              "NUM_PAST_SAMPLES_TRACKED": 3,
              "RANDOM_STATE": 12648430,
              "RESET_INDEX_VALUES": false,
              "ROW_SAMPLING_METHOD": "random",
              "SAMPLING_FACTOR": 0.1,
              "SAMPLING_METHOD": "random",
              "STRINGIFY_COLUMN_VALUES": true,
              "STRINGIFY_INDEX_VALUES": false
            },
            "sample_history": [],
            "sampling_time": "2023-12-13T08:18:41.144786",
            "user_variable_name": "sql_df_deoy",
            "variable_name": "sql_df_deoy"
          },
          "1ffbadba-951d-4d87-8c6f-37d58def5975": {
            "applied_filters": [],
            "dataframe_info": {
              "default_index_used": true,
              "orig_num_cols": 1,
              "orig_num_rows": 100,
              "orig_size_bytes": 1600,
              "truncated_num_cols": 1,
              "truncated_num_rows": 100,
              "truncated_size_bytes": 1600,
              "truncated_string_columns": [
                "keywords_all"
              ]
            },
            "display_id": "1ffbadba-951d-4d87-8c6f-37d58def5975",
            "dx_settings": {
              "ALLOW_NOTEABLE_ATTRS": true,
              "COLUMN_SAMPLING_METHOD": "outer",
              "DB_LOCATION": ":memory:",
              "DEV_MODE": false,
              "DISPLAY_MAX_COLUMNS": 100,
              "DISPLAY_MAX_ROWS": 50000,
              "DISPLAY_MODE": "simple",
              "ENABLE_ASSIGNMENT": true,
              "ENABLE_DATALINK": true,
              "FLATTEN_COLUMN_VALUES": true,
              "FLATTEN_INDEX_VALUES": false,
              "GENERATE_DEX_METADATA": false,
              "HTML_TABLE_SCHEMA": false,
              "LOG_LEVEL": 30,
              "MAX_RENDER_SIZE_BYTES": 104857600,
              "MAX_STRING_LENGTH": 250,
              "NUM_PAST_SAMPLES_TRACKED": 3,
              "RANDOM_STATE": 12648430,
              "RESET_INDEX_VALUES": false,
              "ROW_SAMPLING_METHOD": "random",
              "SAMPLING_FACTOR": 0.1,
              "SAMPLING_METHOD": "random",
              "STRINGIFY_COLUMN_VALUES": true,
              "STRINGIFY_INDEX_VALUES": false
            },
            "sample_history": [],
            "sampling_time": "2023-12-13T13:06:46.925728",
            "user_variable_name": "sql_df_deoy",
            "variable_name": "sql_df_deoy"
          }
        }
      },
      "execution_count": null,
      "source": "SELECT keywords_all FROM public_job_listings.data_nerd_jobs LIMIT 100;",
      "outputs": []
    },
    {
      "id": "8ae8ed7d-179a-4a11-8a08-4eac843a6466",
      "cell_type": "markdown",
      "source": "## Extracting Keywords from JSON\nExtracting the entire `keywords_all` column and processing it in Python due to SQL extraction challenges.",
      "metadata": {
        "noteable": {
          "cell_type": "markdown"
        }
      }
    },
    {
      "id": "c9ae8d55-5f45-4b24-8ab8-1edb4fe5d1fa",
      "cell_type": "code",
      "metadata": {
        "noteable": {
          "assign_results_to": "sql_df_tron",
          "cell_type": "sql",
          "db_connection": "@81bbd42db3724191a3fc03e3b17e2d77",
          "output_collection_id": "56fd9986-744c-43a4-9f8e-fa71e92f147b"
        },
        "ExecuteTime": {
          "end_time": "2023-12-13T13:06:48.461731+00:00",
          "start_time": "2023-12-13T13:06:47.094447+00:00"
        },
        "datalink": {
          "c94a267b-c1a4-4978-80ef-32c7309870e0": {
            "applied_filters": [],
            "dataframe_info": {
              "default_index_used": true,
              "orig_num_cols": 1,
              "orig_num_rows": 100,
              "orig_size_bytes": 1600,
              "truncated_num_cols": 1,
              "truncated_num_rows": 100,
              "truncated_size_bytes": 1600,
              "truncated_string_columns": [
                "keywords_all"
              ]
            },
            "display_id": "c94a267b-c1a4-4978-80ef-32c7309870e0",
            "dx_settings": {
              "ALLOW_NOTEABLE_ATTRS": true,
              "COLUMN_SAMPLING_METHOD": "outer",
              "DB_LOCATION": ":memory:",
              "DEV_MODE": false,
              "DISPLAY_MAX_COLUMNS": 100,
              "DISPLAY_MAX_ROWS": 50000,
              "DISPLAY_MODE": "simple",
              "ENABLE_ASSIGNMENT": true,
              "ENABLE_DATALINK": true,
              "FLATTEN_COLUMN_VALUES": true,
              "FLATTEN_INDEX_VALUES": false,
              "GENERATE_DEX_METADATA": false,
              "HTML_TABLE_SCHEMA": false,
              "LOG_LEVEL": 30,
              "MAX_RENDER_SIZE_BYTES": 104857600,
              "MAX_STRING_LENGTH": 250,
              "NUM_PAST_SAMPLES_TRACKED": 3,
              "RANDOM_STATE": 12648430,
              "RESET_INDEX_VALUES": false,
              "ROW_SAMPLING_METHOD": "random",
              "SAMPLING_FACTOR": 0.1,
              "SAMPLING_METHOD": "random",
              "STRINGIFY_COLUMN_VALUES": true,
              "STRINGIFY_INDEX_VALUES": false
            },
            "sample_history": [],
            "sampling_time": "2023-12-13T09:44:11.993050",
            "user_variable_name": "sql_df_tron",
            "variable_name": "sql_df_tron"
          },
          "6ec5f6c0-0ca5-4ed6-bafb-b5f0c1caa580": {
            "applied_filters": [],
            "dataframe_info": {
              "default_index_used": true,
              "orig_num_cols": 1,
              "orig_num_rows": 100,
              "orig_size_bytes": 1600,
              "truncated_num_cols": 1,
              "truncated_num_rows": 100,
              "truncated_size_bytes": 1600,
              "truncated_string_columns": [
                "keywords_all"
              ]
            },
            "display_id": "6ec5f6c0-0ca5-4ed6-bafb-b5f0c1caa580",
            "dx_settings": {
              "ALLOW_NOTEABLE_ATTRS": true,
              "COLUMN_SAMPLING_METHOD": "outer",
              "DB_LOCATION": ":memory:",
              "DEV_MODE": false,
              "DISPLAY_MAX_COLUMNS": 100,
              "DISPLAY_MAX_ROWS": 50000,
              "DISPLAY_MODE": "simple",
              "ENABLE_ASSIGNMENT": true,
              "ENABLE_DATALINK": true,
              "FLATTEN_COLUMN_VALUES": true,
              "FLATTEN_INDEX_VALUES": false,
              "GENERATE_DEX_METADATA": false,
              "HTML_TABLE_SCHEMA": false,
              "LOG_LEVEL": 30,
              "MAX_RENDER_SIZE_BYTES": 104857600,
              "MAX_STRING_LENGTH": 250,
              "NUM_PAST_SAMPLES_TRACKED": 3,
              "RANDOM_STATE": 12648430,
              "RESET_INDEX_VALUES": false,
              "ROW_SAMPLING_METHOD": "random",
              "SAMPLING_FACTOR": 0.1,
              "SAMPLING_METHOD": "random",
              "STRINGIFY_COLUMN_VALUES": true,
              "STRINGIFY_INDEX_VALUES": false
            },
            "sample_history": [],
            "sampling_time": "2023-12-13T13:06:48.300874",
            "user_variable_name": "sql_df_deoy",
            "variable_name": "sql_df_deoy"
          }
        }
      },
      "execution_count": null,
      "source": "SELECT keywords_all\nFROM public_job_listings.data_nerd_jobs\nLIMIT 100;",
      "outputs": []
    },
    {
      "id": "31053fac-aae8-4ff3-9c89-f4ab9b1be53d",
      "cell_type": "code",
      "metadata": {
        "noteable": {
          "assign_results_to": "sql_df_ovxd",
          "cell_type": "sql",
          "db_connection": "@81bbd42db3724191a3fc03e3b17e2d77",
          "output_collection_id": "3cc23dd6-9bc9-476c-ba40-0b738c1113ed"
        },
        "ExecuteTime": {
          "end_time": "2023-12-13T13:06:49.712037+00:00",
          "start_time": "2023-12-13T13:06:48.467685+00:00"
        },
        "datalink": {
          "c8664322-e9ad-41c8-88c1-f01a7b91d274": {
            "applied_filters": [],
            "dataframe_info": {
              "default_index_used": true,
              "orig_num_cols": 1,
              "orig_num_rows": 5,
              "orig_size_bytes": 80,
              "truncated_num_cols": 1,
              "truncated_num_rows": 5,
              "truncated_size_bytes": 80,
              "truncated_string_columns": []
            },
            "display_id": "c8664322-e9ad-41c8-88c1-f01a7b91d274",
            "dx_settings": {
              "ALLOW_NOTEABLE_ATTRS": true,
              "COLUMN_SAMPLING_METHOD": "outer",
              "DB_LOCATION": ":memory:",
              "DEV_MODE": false,
              "DISPLAY_MAX_COLUMNS": 100,
              "DISPLAY_MAX_ROWS": 50000,
              "DISPLAY_MODE": "simple",
              "ENABLE_ASSIGNMENT": true,
              "ENABLE_DATALINK": true,
              "FLATTEN_COLUMN_VALUES": true,
              "FLATTEN_INDEX_VALUES": false,
              "GENERATE_DEX_METADATA": false,
              "HTML_TABLE_SCHEMA": false,
              "LOG_LEVEL": 30,
              "MAX_RENDER_SIZE_BYTES": 104857600,
              "MAX_STRING_LENGTH": 250,
              "NUM_PAST_SAMPLES_TRACKED": 3,
              "RANDOM_STATE": 12648430,
              "RESET_INDEX_VALUES": false,
              "ROW_SAMPLING_METHOD": "random",
              "SAMPLING_FACTOR": 0.1,
              "SAMPLING_METHOD": "random",
              "STRINGIFY_COLUMN_VALUES": true,
              "STRINGIFY_INDEX_VALUES": false
            },
            "sample_history": [],
            "sampling_time": "2023-12-13T10:38:02.099804",
            "user_variable_name": "sql_df_ovxd",
            "variable_name": "sql_df_ovxd"
          },
          "7b76109f-dc32-4ed6-84e6-cc62698b6b9c": {
            "applied_filters": [],
            "dataframe_info": {
              "default_index_used": true,
              "orig_num_cols": 1,
              "orig_num_rows": 5,
              "orig_size_bytes": 80,
              "truncated_num_cols": 1,
              "truncated_num_rows": 5,
              "truncated_size_bytes": 80,
              "truncated_string_columns": []
            },
            "display_id": "7b76109f-dc32-4ed6-84e6-cc62698b6b9c",
            "dx_settings": {
              "ALLOW_NOTEABLE_ATTRS": true,
              "COLUMN_SAMPLING_METHOD": "outer",
              "DB_LOCATION": ":memory:",
              "DEV_MODE": false,
              "DISPLAY_MAX_COLUMNS": 100,
              "DISPLAY_MAX_ROWS": 50000,
              "DISPLAY_MODE": "simple",
              "ENABLE_ASSIGNMENT": true,
              "ENABLE_DATALINK": true,
              "FLATTEN_COLUMN_VALUES": true,
              "FLATTEN_INDEX_VALUES": false,
              "GENERATE_DEX_METADATA": false,
              "HTML_TABLE_SCHEMA": false,
              "LOG_LEVEL": 30,
              "MAX_RENDER_SIZE_BYTES": 104857600,
              "MAX_STRING_LENGTH": 250,
              "NUM_PAST_SAMPLES_TRACKED": 3,
              "RANDOM_STATE": 12648430,
              "RESET_INDEX_VALUES": false,
              "ROW_SAMPLING_METHOD": "random",
              "SAMPLING_FACTOR": 0.1,
              "SAMPLING_METHOD": "random",
              "STRINGIFY_COLUMN_VALUES": true,
              "STRINGIFY_INDEX_VALUES": false
            },
            "sample_history": [],
            "sampling_time": "2023-12-13T13:06:49.553987",
            "user_variable_name": "sql_df_ovxd",
            "variable_name": "sql_df_ovxd"
          }
        }
      },
      "execution_count": null,
      "source": "SELECT list.element AS unpacked_keywords\nFROM  public_job_listings.data_nerd_jobs, UNNEST (keywords_all.list) AS  list\nLIMIT 5;",
      "outputs": []
    },
    {
      "id": "5c618083-3965-4ddf-ae31-c2817e0975b2",
      "cell_type": "markdown",
      "source": "## Bar Graph of Top 10 Skills\nThis graph visualizes the frequency of the top 10 skills found in the job listings.",
      "metadata": {
        "noteable": {
          "cell_type": "markdown"
        }
      }
    },
    {
      "id": "a3c5de7a-c77e-4afa-981b-1ea3ee363a6d",
      "cell_type": "code",
      "metadata": {
        "noteable": {
          "assign_results_to": "sql_df_jtsj",
          "cell_type": "sql",
          "db_connection": "@81bbd42db3724191a3fc03e3b17e2d77",
          "output_collection_id": "3ccafb93-b273-44f4-a327-82f6f619eb68"
        },
        "ExecuteTime": {
          "end_time": "2023-12-13T13:06:50.950762+00:00",
          "start_time": "2023-12-13T13:06:49.718610+00:00"
        },
        "datalink": {
          "4fc5de34-2b07-4c7b-b7c8-6903895ce6d0": {
            "applied_filters": [],
            "dataframe_info": {
              "default_index_used": true,
              "orig_num_cols": 2,
              "orig_num_rows": 10,
              "orig_size_bytes": 240,
              "truncated_num_cols": 2,
              "truncated_num_rows": 10,
              "truncated_size_bytes": 240,
              "truncated_string_columns": []
            },
            "display_id": "4fc5de34-2b07-4c7b-b7c8-6903895ce6d0",
            "dx_settings": {
              "ALLOW_NOTEABLE_ATTRS": true,
              "COLUMN_SAMPLING_METHOD": "outer",
              "DB_LOCATION": ":memory:",
              "DEV_MODE": false,
              "DISPLAY_MAX_COLUMNS": 100,
              "DISPLAY_MAX_ROWS": 50000,
              "DISPLAY_MODE": "simple",
              "ENABLE_ASSIGNMENT": true,
              "ENABLE_DATALINK": true,
              "FLATTEN_COLUMN_VALUES": true,
              "FLATTEN_INDEX_VALUES": false,
              "GENERATE_DEX_METADATA": false,
              "HTML_TABLE_SCHEMA": false,
              "LOG_LEVEL": 30,
              "MAX_RENDER_SIZE_BYTES": 104857600,
              "MAX_STRING_LENGTH": 250,
              "NUM_PAST_SAMPLES_TRACKED": 3,
              "RANDOM_STATE": 12648430,
              "RESET_INDEX_VALUES": false,
              "ROW_SAMPLING_METHOD": "random",
              "SAMPLING_FACTOR": 0.1,
              "SAMPLING_METHOD": "random",
              "STRINGIFY_COLUMN_VALUES": true,
              "STRINGIFY_INDEX_VALUES": false
            },
            "sample_history": [],
            "sampling_time": "2023-12-13T10:42:26.791395",
            "user_variable_name": "sql_df_jtsj",
            "variable_name": "sql_df_jtsj"
          },
          "7b189bdf-c6b3-488f-b7ad-4ef633077963": {
            "applied_filters": [],
            "dataframe_info": {
              "default_index_used": true,
              "orig_num_cols": 2,
              "orig_num_rows": 10,
              "orig_size_bytes": 240,
              "truncated_num_cols": 2,
              "truncated_num_rows": 10,
              "truncated_size_bytes": 240,
              "truncated_string_columns": []
            },
            "display_id": "7b189bdf-c6b3-488f-b7ad-4ef633077963",
            "dx_settings": {
              "ALLOW_NOTEABLE_ATTRS": true,
              "COLUMN_SAMPLING_METHOD": "outer",
              "DB_LOCATION": ":memory:",
              "DEV_MODE": false,
              "DISPLAY_MAX_COLUMNS": 100,
              "DISPLAY_MAX_ROWS": 50000,
              "DISPLAY_MODE": "simple",
              "ENABLE_ASSIGNMENT": true,
              "ENABLE_DATALINK": true,
              "FLATTEN_COLUMN_VALUES": true,
              "FLATTEN_INDEX_VALUES": false,
              "GENERATE_DEX_METADATA": false,
              "HTML_TABLE_SCHEMA": false,
              "LOG_LEVEL": 30,
              "MAX_RENDER_SIZE_BYTES": 104857600,
              "MAX_STRING_LENGTH": 250,
              "NUM_PAST_SAMPLES_TRACKED": 3,
              "RANDOM_STATE": 12648430,
              "RESET_INDEX_VALUES": false,
              "ROW_SAMPLING_METHOD": "random",
              "SAMPLING_FACTOR": 0.1,
              "SAMPLING_METHOD": "random",
              "STRINGIFY_COLUMN_VALUES": true,
              "STRINGIFY_INDEX_VALUES": false
            },
            "sample_history": [],
            "sampling_time": "2023-12-13T13:06:50.791878",
            "user_variable_name": "sql_df_jtsj",
            "variable_name": "sql_df_jtsj"
          }
        }
      },
      "execution_count": null,
      "source": "SELECT list.element AS skill, COUNT(*) AS frequency\nFROM public_job_listings.data_nerd_jobs, UNNEST(keywords_all.list) AS list\nGROUP BY list.element\nORDER BY frequency DESC\nLIMIT 10;",
      "outputs": []
    },
    {
      "id": "ffa57594-cc74-415b-8b0e-4428e3ffc8ba",
      "cell_type": "code",
      "metadata": {
        "noteable": {
          "cell_type": "code",
          "output_collection_id": "13ee2aa0-6396-4b67-8c50-d683185ee8ba"
        },
        "ExecuteTime": {
          "end_time": "2023-12-13T13:06:51.828242+00:00",
          "start_time": "2023-12-13T13:06:50.955336+00:00"
        }
      },
      "execution_count": null,
      "source": "import seaborn as sns\nimport matplotlib.pyplot as plt\n\n# Load the data from the previous SQL query\nskill_data = sql_df_jtsj\n\n# Create the bar plot\nplt.figure(figsize=(10, 6))\nsns.barplot(x='frequency', y='skill', data=skill_data, palette='Blues_r')\nplt.title('Top 10 Skills in Job Listings')\nplt.xlabel('Frequency')\nplt.ylabel('Skill')\nplt.show()",
      "outputs": []
    },
    {
      "id": "116ea898-03aa-43c3-9e6f-8b29c955f118",
      "cell_type": "code",
      "metadata": {
        "noteable": {
          "assign_results_to": "sql_df_xnar",
          "cell_type": "sql",
          "db_connection": "@81bbd42db3724191a3fc03e3b17e2d77",
          "output_collection_id": "fac4bc31-6ccd-4d01-a591-f01efeb5d7fa"
        },
        "ExecuteTime": {
          "end_time": "2023-12-13T13:06:53.400333+00:00",
          "start_time": "2023-12-13T13:06:52.076983+00:00"
        },
        "datalink": {
          "df7a3225-7ef0-40ce-85f7-99a6b44347dd": {
            "applied_filters": [],
            "dataframe_info": {
              "default_index_used": true,
              "orig_num_cols": 2,
              "orig_num_rows": 3,
              "orig_size_bytes": 72,
              "truncated_num_cols": 2,
              "truncated_num_rows": 3,
              "truncated_size_bytes": 72,
              "truncated_string_columns": []
            },
            "display_id": "df7a3225-7ef0-40ce-85f7-99a6b44347dd",
            "dx_settings": {
              "ALLOW_NOTEABLE_ATTRS": true,
              "COLUMN_SAMPLING_METHOD": "outer",
              "DB_LOCATION": ":memory:",
              "DEV_MODE": false,
              "DISPLAY_MAX_COLUMNS": 100,
              "DISPLAY_MAX_ROWS": 50000,
              "DISPLAY_MODE": "simple",
              "ENABLE_ASSIGNMENT": true,
              "ENABLE_DATALINK": true,
              "FLATTEN_COLUMN_VALUES": true,
              "FLATTEN_INDEX_VALUES": false,
              "GENERATE_DEX_METADATA": false,
              "HTML_TABLE_SCHEMA": false,
              "LOG_LEVEL": 30,
              "MAX_RENDER_SIZE_BYTES": 104857600,
              "MAX_STRING_LENGTH": 250,
              "NUM_PAST_SAMPLES_TRACKED": 3,
              "RANDOM_STATE": 12648430,
              "RESET_INDEX_VALUES": false,
              "ROW_SAMPLING_METHOD": "random",
              "SAMPLING_FACTOR": 0.1,
              "SAMPLING_METHOD": "random",
              "STRINGIFY_COLUMN_VALUES": true,
              "STRINGIFY_INDEX_VALUES": false
            },
            "sample_history": [],
            "sampling_time": "2023-12-13T10:47:50.780250",
            "user_variable_name": "sql_df_xnar",
            "variable_name": "sql_df_xnar"
          },
          "93d95479-fc03-4bca-a372-21e60661b3f9": {
            "applied_filters": [],
            "dataframe_info": {
              "default_index_used": true,
              "orig_num_cols": 2,
              "orig_num_rows": 3,
              "orig_size_bytes": 72,
              "truncated_num_cols": 2,
              "truncated_num_rows": 3,
              "truncated_size_bytes": 72,
              "truncated_string_columns": []
            },
            "display_id": "93d95479-fc03-4bca-a372-21e60661b3f9",
            "dx_settings": {
              "ALLOW_NOTEABLE_ATTRS": true,
              "COLUMN_SAMPLING_METHOD": "outer",
              "DB_LOCATION": ":memory:",
              "DEV_MODE": false,
              "DISPLAY_MAX_COLUMNS": 100,
              "DISPLAY_MAX_ROWS": 50000,
              "DISPLAY_MODE": "simple",
              "ENABLE_ASSIGNMENT": true,
              "ENABLE_DATALINK": true,
              "FLATTEN_COLUMN_VALUES": true,
              "FLATTEN_INDEX_VALUES": false,
              "GENERATE_DEX_METADATA": false,
              "HTML_TABLE_SCHEMA": false,
              "LOG_LEVEL": 30,
              "MAX_RENDER_SIZE_BYTES": 104857600,
              "MAX_STRING_LENGTH": 250,
              "NUM_PAST_SAMPLES_TRACKED": 3,
              "RANDOM_STATE": 12648430,
              "RESET_INDEX_VALUES": false,
              "ROW_SAMPLING_METHOD": "random",
              "SAMPLING_FACTOR": 0.1,
              "SAMPLING_METHOD": "random",
              "STRINGIFY_COLUMN_VALUES": true,
              "STRINGIFY_INDEX_VALUES": false
            },
            "sample_history": [],
            "sampling_time": "2023-12-13T13:06:53.241845",
            "user_variable_name": "sql_df_xnar",
            "variable_name": "sql_df_xnar"
          }
        }
      },
      "execution_count": null,
      "source": "SELECT job_title_final, COUNT(*) AS job_count\nFROM public_job_listings.data_nerd_jobs\nGROUP BY job_title_final\nORDER BY job_count DESC\nLIMIT 3;",
      "outputs": []
    },
    {
      "id": "b8ebdec7-ea6a-43bb-b4fb-289c0f0218cc",
      "cell_type": "code",
      "metadata": {
        "noteable": {
          "assign_results_to": "sql_df_wjqm",
          "cell_type": "sql",
          "db_connection": "@81bbd42db3724191a3fc03e3b17e2d77",
          "output_collection_id": "6982f55e-6a16-4dcb-b8df-2bea1431c4b0"
        },
        "ExecuteTime": {
          "end_time": "2023-12-13T13:06:54.713592+00:00",
          "start_time": "2023-12-13T13:06:53.405002+00:00"
        },
        "datalink": {
          "e2dbd87f-aaed-41fb-ad7c-94c73b0d38d8": {
            "applied_filters": [],
            "dataframe_info": {
              "default_index_used": true,
              "orig_num_cols": 3,
              "orig_num_rows": 716,
              "orig_size_bytes": 22912,
              "truncated_num_cols": 3,
              "truncated_num_rows": 716,
              "truncated_size_bytes": 22912,
              "truncated_string_columns": []
            },
            "display_id": "e2dbd87f-aaed-41fb-ad7c-94c73b0d38d8",
            "dx_settings": {
              "ALLOW_NOTEABLE_ATTRS": true,
              "COLUMN_SAMPLING_METHOD": "outer",
              "DB_LOCATION": ":memory:",
              "DEV_MODE": false,
              "DISPLAY_MAX_COLUMNS": 100,
              "DISPLAY_MAX_ROWS": 50000,
              "DISPLAY_MODE": "simple",
              "ENABLE_ASSIGNMENT": true,
              "ENABLE_DATALINK": true,
              "FLATTEN_COLUMN_VALUES": true,
              "FLATTEN_INDEX_VALUES": false,
              "GENERATE_DEX_METADATA": false,
              "HTML_TABLE_SCHEMA": false,
              "LOG_LEVEL": 30,
              "MAX_RENDER_SIZE_BYTES": 104857600,
              "MAX_STRING_LENGTH": 250,
              "NUM_PAST_SAMPLES_TRACKED": 3,
              "RANDOM_STATE": 12648430,
              "RESET_INDEX_VALUES": false,
              "ROW_SAMPLING_METHOD": "random",
              "SAMPLING_FACTOR": 0.1,
              "SAMPLING_METHOD": "random",
              "STRINGIFY_COLUMN_VALUES": true,
              "STRINGIFY_INDEX_VALUES": false
            },
            "sample_history": [],
            "sampling_time": "2023-12-13T10:48:19.818619",
            "user_variable_name": "sql_df_wjqm",
            "variable_name": "sql_df_wjqm"
          },
          "9461b28d-3f57-4642-a5c1-78ddf611e25b": {
            "applied_filters": [],
            "dataframe_info": {
              "default_index_used": true,
              "orig_num_cols": 3,
              "orig_num_rows": 716,
              "orig_size_bytes": 22912,
              "truncated_num_cols": 3,
              "truncated_num_rows": 716,
              "truncated_size_bytes": 22912,
              "truncated_string_columns": []
            },
            "display_id": "9461b28d-3f57-4642-a5c1-78ddf611e25b",
            "dx_settings": {
              "ALLOW_NOTEABLE_ATTRS": true,
              "COLUMN_SAMPLING_METHOD": "outer",
              "DB_LOCATION": ":memory:",
              "DEV_MODE": false,
              "DISPLAY_MAX_COLUMNS": 100,
              "DISPLAY_MAX_ROWS": 50000,
              "DISPLAY_MODE": "simple",
              "ENABLE_ASSIGNMENT": true,
              "ENABLE_DATALINK": true,
              "FLATTEN_COLUMN_VALUES": true,
              "FLATTEN_INDEX_VALUES": false,
              "GENERATE_DEX_METADATA": false,
              "HTML_TABLE_SCHEMA": false,
              "LOG_LEVEL": 30,
              "MAX_RENDER_SIZE_BYTES": 104857600,
              "MAX_STRING_LENGTH": 250,
              "NUM_PAST_SAMPLES_TRACKED": 3,
              "RANDOM_STATE": 12648430,
              "RESET_INDEX_VALUES": false,
              "ROW_SAMPLING_METHOD": "random",
              "SAMPLING_FACTOR": 0.1,
              "SAMPLING_METHOD": "random",
              "STRINGIFY_COLUMN_VALUES": true,
              "STRINGIFY_INDEX_VALUES": false
            },
            "sample_history": [],
            "sampling_time": "2023-12-13T13:06:54.552450",
            "user_variable_name": "sql_df_wjqm",
            "variable_name": "sql_df_wjqm"
          }
        }
      },
      "execution_count": null,
      "source": "WITH top_titles AS (\n    SELECT job_title_final\n    FROM public_job_listings.data_nerd_jobs\n    GROUP BY job_title_final\n    ORDER BY COUNT(*) DESC\n    LIMIT 3\n)\nSELECT tt.job_title_final, list.element AS skill, COUNT(*) AS frequency\nFROM public_job_listings.data_nerd_jobs\nJOIN top_titles tt ON data_nerd_jobs.job_title_final = tt.job_title_final\nCROSS JOIN UNNEST(keywords_all.list) AS list\nGROUP BY tt.job_title_final, list.element\nORDER BY tt.job_title_final, frequency DESC;",
      "outputs": []
    },
    {
      "id": "48d039a8-4ddc-4f18-b0f3-022bdde87f15",
      "cell_type": "code",
      "metadata": {
        "noteable": {
          "cell_type": "code",
          "output_collection_id": "89643da0-07c3-44f7-8b9e-49d4887db555"
        },
        "ExecuteTime": {
          "end_time": "2023-12-13T13:06:55.311119+00:00",
          "start_time": "2023-12-13T13:06:54.733596+00:00"
        }
      },
      "execution_count": null,
      "source": "import pandas as pd\n\n# Transforming the data to get top 5 skills for each of the top 3 job titles\ntransformed_data = sql_df_wjqm.groupby('job_title_final').apply(lambda x: x.nlargest(5, 'frequency')).reset_index(drop=True)\n\n# Plotting\nplt.figure(figsize=(12, 8))\nsns.barplot(x='frequency', y='skill', hue='job_title_final', data=transformed_data, palette='Blues_r')\nplt.title('Top 5 Skills for Top 3 Job Titles')\nplt.xlabel('Frequency')\nplt.ylabel('Skill')\nplt.legend(title='Job Title')\nplt.show()",
      "outputs": []
    },
    {
      "id": "3b9bd939-b07e-4c17-88c7-68e94471e576",
      "cell_type": "code",
      "metadata": {
        "noteable": {
          "cell_type": "code",
          "output_collection_id": "05027664-b0e0-4448-8889-0ad96bc9cf52"
        },
        "ExecuteTime": {
          "end_time": "2023-12-13T13:06:56.107260+00:00",
          "start_time": "2023-12-13T13:06:55.425744+00:00"
        }
      },
      "execution_count": null,
      "source": "# Calculating the percentage of each skill for the top 3 job titles\ntransformed_data['percent'] = transformed_data.groupby('job_title_final')['frequency'].apply(lambda x: x / x.sum() * 100)\n\n# Plotting\nplt.figure(figsize=(12, 8))\nsns.barplot(x='percent', y='skill', hue='job_title_final', data=transformed_data, palette='Blues_r')\nplt.title('Top 5 Skills for Top 3 Job Titles (Percentage)')\nplt.xlabel('Percentage')\nplt.ylabel('Skill')\nplt.legend(title='Job Title')\nplt.show()",
      "outputs": []
    },
    {
      "id": "0ff877c7-a6fb-4892-8040-6f63deb3e9b1",
      "cell_type": "code",
      "metadata": {
        "noteable": {
          "cell_type": "code",
          "output_collection_id": "0410c63e-b613-4387-868a-6eb7dfd902c5"
        },
        "ExecuteTime": {
          "end_time": "2023-12-13T13:06:56.783164+00:00",
          "start_time": "2023-12-13T13:06:56.269911+00:00"
        }
      },
      "execution_count": null,
      "source": "# Ensuring top 5 skills for each job title\ntransformed_data = sql_df_wjqm.groupby('job_title_final').apply(lambda x: x.nlargest(5, 'frequency')).reset_index(drop=True)\n\n# Adding missing skills for job titles with less than 5 skills\njob_titles = transformed_data['job_title_final'].unique()\nfor title in job_titles:\n    current_skills = transformed_data[transformed_data['job_title_final'] == title]['skill'].tolist()\n    if len(current_skills) < 5:\n        missing_skills = 5 - len(current_skills)\n        for i in range(missing_skills):\n            transformed_data = transformed_data.append({'job_title_final': title, 'skill': 'No additional skill', 'frequency': 0}, ignore_index=True)\n\n# Calculating the percentage of each skill for the top 3 job titles\ntransformed_data['percent'] = transformed_data.groupby('job_title_final')['frequency'].apply(lambda x: x / x.sum() * 100)\n\n# Plotting\nplt.figure(figsize=(12, 8))\nsns.barplot(x='percent', y='skill', hue='job_title_final', data=transformed_data, palette='Blues_r')\nplt.title('Top 5 Skills for Top 3 Job Titles (Percentage)')\nplt.xlabel('Percentage')\nplt.ylabel('Skill')\nplt.legend(title='Job Title')\nplt.show()",
      "outputs": []
    },
    {
      "id": "87f280f8-a282-4e99-9da6-db7ffe6878c7",
      "cell_type": "code",
      "metadata": {
        "noteable": {
          "cell_type": "code",
          "output_collection_id": "5adde6a0-1090-4406-92c6-a44851951324"
        },
        "ExecuteTime": {
          "end_time": "2023-12-13T13:06:57.344874+00:00",
          "start_time": "2023-12-13T13:06:56.878404+00:00"
        }
      },
      "execution_count": null,
      "source": "# Filtering for specific skills\nselected_skills = ['sql', 'excel', 'python', 'r', 'tableau', 'power bi']\nfiltered_data = transformed_data[transformed_data['skill'].isin(selected_skills)]\n\n# Calculating the percentage of each skill for the top 3 job titles\nfiltered_data['percent'] = filtered_data.groupby('job_title_final')['frequency'].apply(lambda x: x / x.sum() * 100)\n\n# Plotting\nplt.figure(figsize=(12, 8))\nsns.barplot(x='percent', y='skill', hue='job_title_final', data=filtered_data, palette='Blues_r')\nplt.title('Selected Skills for Top 3 Job Titles (Percentage)')\nplt.xlabel('Percentage')\nplt.ylabel('Skill')\nplt.legend(title='Job Title')\nplt.show()",
      "outputs": []
    },
    {
      "id": "35fa9022-9d3a-43a8-8996-26acf634da10",
      "cell_type": "code",
      "metadata": {
        "noteable": {
          "cell_type": "code",
          "output_collection_id": "b6f687d0-13db-4dcc-88d7-fa45982aafc2"
        },
        "ExecuteTime": {
          "end_time": "2023-12-13T13:06:58.010352+00:00",
          "start_time": "2023-12-13T13:06:57.552914+00:00"
        }
      },
      "execution_count": null,
      "source": "# Ensuring all selected skills are represented for each job title\nfor title in job_titles:\n    for skill in selected_skills:\n        if not ((filtered_data['job_title_final'] == title) & (filtered_data['skill'] == skill)).any():\n            filtered_data = filtered_data.append({'job_title_final': title, 'skill': skill, 'frequency': 0}, ignore_index=True)\n\n# Calculating the percentage of each skill for the top 3 job titles\nfiltered_data['percent'] = filtered_data.groupby('job_title_final')['frequency'].apply(lambda x: x / x.sum() * 100)\n\n# Plotting\nplt.figure(figsize=(12, 8))\nsns.barplot(x='percent', y='skill', hue='job_title_final', data=filtered_data, palette='Blues_r')\nplt.title('Selected Skills for Top 3 Job Titles (Percentage)')\nplt.xlabel('Percentage')\nplt.ylabel('Skill')\nplt.legend(title='Job Title')\nplt.show()",
      "outputs": []
    },
    {
      "id": "25eee0dc-0fac-479e-9c9f-1eb45026b13b",
      "cell_type": "markdown",
      "source": "## Bar Graph of Top 3 Job Titles\nThis graph visualizes the three most popular job titles in the job listings, based on their frequency.",
      "metadata": {
        "noteable": {
          "cell_type": "markdown"
        }
      }
    },
    {
      "id": "9f934478-b43e-495f-ad66-8b7741f0eca3",
      "cell_type": "code",
      "metadata": {
        "noteable": {
          "assign_results_to": "sql_df_mdrq",
          "cell_type": "sql",
          "db_connection": "@81bbd42db3724191a3fc03e3b17e2d77",
          "output_collection_id": "9d729db3-1d78-4d3c-bc13-db1c5378f468"
        },
        "ExecuteTime": {
          "end_time": "2023-12-13T13:06:59.388217+00:00",
          "start_time": "2023-12-13T13:06:58.214072+00:00"
        },
        "datalink": {
          "86cd635b-7d67-45ab-93b0-ef2f7a870d6e": {
            "applied_filters": [],
            "dataframe_info": {
              "default_index_used": true,
              "orig_num_cols": 2,
              "orig_num_rows": 3,
              "orig_size_bytes": 72,
              "truncated_num_cols": 2,
              "truncated_num_rows": 3,
              "truncated_size_bytes": 72,
              "truncated_string_columns": []
            },
            "display_id": "86cd635b-7d67-45ab-93b0-ef2f7a870d6e",
            "dx_settings": {
              "ALLOW_NOTEABLE_ATTRS": true,
              "COLUMN_SAMPLING_METHOD": "outer",
              "DB_LOCATION": ":memory:",
              "DEV_MODE": false,
              "DISPLAY_MAX_COLUMNS": 100,
              "DISPLAY_MAX_ROWS": 50000,
              "DISPLAY_MODE": "simple",
              "ENABLE_ASSIGNMENT": true,
              "ENABLE_DATALINK": true,
              "FLATTEN_COLUMN_VALUES": true,
              "FLATTEN_INDEX_VALUES": false,
              "GENERATE_DEX_METADATA": false,
              "HTML_TABLE_SCHEMA": false,
              "LOG_LEVEL": 30,
              "MAX_RENDER_SIZE_BYTES": 104857600,
              "MAX_STRING_LENGTH": 250,
              "NUM_PAST_SAMPLES_TRACKED": 3,
              "RANDOM_STATE": 12648430,
              "RESET_INDEX_VALUES": false,
              "ROW_SAMPLING_METHOD": "random",
              "SAMPLING_FACTOR": 0.1,
              "SAMPLING_METHOD": "random",
              "STRINGIFY_COLUMN_VALUES": true,
              "STRINGIFY_INDEX_VALUES": false
            },
            "sample_history": [],
            "sampling_time": "2023-12-13T11:00:46.959347",
            "user_variable_name": "sql_df_mdrq",
            "variable_name": "sql_df_mdrq"
          },
          "0c83552d-300c-46f1-84de-faab91a60a61": {
            "applied_filters": [],
            "dataframe_info": {
              "default_index_used": true,
              "orig_num_cols": 2,
              "orig_num_rows": 3,
              "orig_size_bytes": 72,
              "truncated_num_cols": 2,
              "truncated_num_rows": 3,
              "truncated_size_bytes": 72,
              "truncated_string_columns": []
            },
            "display_id": "0c83552d-300c-46f1-84de-faab91a60a61",
            "dx_settings": {
              "ALLOW_NOTEABLE_ATTRS": true,
              "COLUMN_SAMPLING_METHOD": "outer",
              "DB_LOCATION": ":memory:",
              "DEV_MODE": false,
              "DISPLAY_MAX_COLUMNS": 100,
              "DISPLAY_MAX_ROWS": 50000,
              "DISPLAY_MODE": "simple",
              "ENABLE_ASSIGNMENT": true,
              "ENABLE_DATALINK": true,
              "FLATTEN_COLUMN_VALUES": true,
              "FLATTEN_INDEX_VALUES": false,
              "GENERATE_DEX_METADATA": false,
              "HTML_TABLE_SCHEMA": false,
              "LOG_LEVEL": 30,
              "MAX_RENDER_SIZE_BYTES": 104857600,
              "MAX_STRING_LENGTH": 250,
              "NUM_PAST_SAMPLES_TRACKED": 3,
              "RANDOM_STATE": 12648430,
              "RESET_INDEX_VALUES": false,
              "ROW_SAMPLING_METHOD": "random",
              "SAMPLING_FACTOR": 0.1,
              "SAMPLING_METHOD": "random",
              "STRINGIFY_COLUMN_VALUES": true,
              "STRINGIFY_INDEX_VALUES": false
            },
            "sample_history": [],
            "sampling_time": "2023-12-13T13:06:59.230220",
            "user_variable_name": "sql_df_mdrq",
            "variable_name": "sql_df_mdrq"
          }
        }
      },
      "execution_count": null,
      "source": "SELECT job_title_final, COUNT(*) AS count\nFROM public_job_listings.data_nerd_jobs\nGROUP BY job_title_final\nORDER BY count DESC\nLIMIT 3;",
      "outputs": []
    },
    {
      "id": "5401912b-38f0-45d1-b4d6-5cd50b49d787",
      "cell_type": "code",
      "metadata": {
        "noteable": {
          "cell_type": "code",
          "output_collection_id": "eb807ec6-db5b-4d0a-8de7-06a9e6064bd7"
        },
        "ExecuteTime": {
          "end_time": "2023-12-13T13:06:59.696274+00:00",
          "start_time": "2023-12-13T13:06:59.394243+00:00"
        }
      },
      "execution_count": null,
      "source": "import matplotlib.pyplot as plt\nimport seaborn as sns\n\n# Load the data from the previous SQL query\njob_title_data = sql_df_mdrq\n\n# Create the bar plot\nplt.figure(figsize=(10, 6))\nsns.barplot(x='count', y='job_title_final', data=job_title_data, palette='Blues_r')\nplt.title('Top 3 Job Titles in Job Listings')\nplt.xlabel('Count')\nplt.ylabel('Job Title')\nplt.show()",
      "outputs": []
    },
    {
      "id": "5c7d50d4-b73c-41ec-bef5-faa98adca4a5",
      "cell_type": "code",
      "metadata": {
        "noteable": {
          "assign_results_to": "sql_df_xley",
          "cell_type": "sql",
          "db_connection": "@81bbd42db3724191a3fc03e3b17e2d77",
          "output_collection_id": "03e9c9e3-4cf5-4da9-9320-2e8a5bc4b928"
        },
        "ExecuteTime": {
          "end_time": "2023-12-13T13:07:00.894583+00:00",
          "start_time": "2023-12-13T13:06:59.796572+00:00"
        },
        "datalink": {
          "44606d7c-1dd5-4d98-a41e-9503676e495d": {
            "applied_filters": [],
            "dataframe_info": {
              "default_index_used": true,
              "orig_num_cols": 3,
              "orig_num_rows": 716,
              "orig_size_bytes": 22912,
              "truncated_num_cols": 3,
              "truncated_num_rows": 716,
              "truncated_size_bytes": 22912,
              "truncated_string_columns": []
            },
            "display_id": "44606d7c-1dd5-4d98-a41e-9503676e495d",
            "dx_settings": {
              "ALLOW_NOTEABLE_ATTRS": true,
              "COLUMN_SAMPLING_METHOD": "outer",
              "DB_LOCATION": ":memory:",
              "DEV_MODE": false,
              "DISPLAY_MAX_COLUMNS": 100,
              "DISPLAY_MAX_ROWS": 50000,
              "DISPLAY_MODE": "simple",
              "ENABLE_ASSIGNMENT": true,
              "ENABLE_DATALINK": true,
              "FLATTEN_COLUMN_VALUES": true,
              "FLATTEN_INDEX_VALUES": false,
              "GENERATE_DEX_METADATA": false,
              "HTML_TABLE_SCHEMA": false,
              "LOG_LEVEL": 30,
              "MAX_RENDER_SIZE_BYTES": 104857600,
              "MAX_STRING_LENGTH": 250,
              "NUM_PAST_SAMPLES_TRACKED": 3,
              "RANDOM_STATE": 12648430,
              "RESET_INDEX_VALUES": false,
              "ROW_SAMPLING_METHOD": "random",
              "SAMPLING_FACTOR": 0.1,
              "SAMPLING_METHOD": "random",
              "STRINGIFY_COLUMN_VALUES": true,
              "STRINGIFY_INDEX_VALUES": false
            },
            "sample_history": [],
            "sampling_time": "2023-12-13T11:03:19.057780",
            "user_variable_name": "sql_df_wjqm",
            "variable_name": "sql_df_wjqm"
          },
          "8e4abeb4-9c7d-496f-b626-e28d7d8f00e1": {
            "applied_filters": [],
            "dataframe_info": {
              "default_index_used": true,
              "orig_num_cols": 3,
              "orig_num_rows": 716,
              "orig_size_bytes": 22912,
              "truncated_num_cols": 3,
              "truncated_num_rows": 716,
              "truncated_size_bytes": 22912,
              "truncated_string_columns": []
            },
            "display_id": "8e4abeb4-9c7d-496f-b626-e28d7d8f00e1",
            "dx_settings": {
              "ALLOW_NOTEABLE_ATTRS": true,
              "COLUMN_SAMPLING_METHOD": "outer",
              "DB_LOCATION": ":memory:",
              "DEV_MODE": false,
              "DISPLAY_MAX_COLUMNS": 100,
              "DISPLAY_MAX_ROWS": 50000,
              "DISPLAY_MODE": "simple",
              "ENABLE_ASSIGNMENT": true,
              "ENABLE_DATALINK": true,
              "FLATTEN_COLUMN_VALUES": true,
              "FLATTEN_INDEX_VALUES": false,
              "GENERATE_DEX_METADATA": false,
              "HTML_TABLE_SCHEMA": false,
              "LOG_LEVEL": 30,
              "MAX_RENDER_SIZE_BYTES": 104857600,
              "MAX_STRING_LENGTH": 250,
              "NUM_PAST_SAMPLES_TRACKED": 3,
              "RANDOM_STATE": 12648430,
              "RESET_INDEX_VALUES": false,
              "ROW_SAMPLING_METHOD": "random",
              "SAMPLING_FACTOR": 0.1,
              "SAMPLING_METHOD": "random",
              "STRINGIFY_COLUMN_VALUES": true,
              "STRINGIFY_INDEX_VALUES": false
            },
            "sample_history": [],
            "sampling_time": "2023-12-13T13:07:00.733789",
            "user_variable_name": "sql_df_wjqm",
            "variable_name": "sql_df_wjqm"
          }
        }
      },
      "execution_count": null,
      "source": "WITH top_titles AS (\n    SELECT job_title_final\n    FROM public_job_listings.data_nerd_jobs\n    GROUP BY job_title_final\n    ORDER BY COUNT(*) DESC\n    LIMIT 3\n)\nSELECT tt.job_title_final, list.element AS skill, COUNT(*) AS frequency\nFROM public_job_listings.data_nerd_jobs\nJOIN top_titles tt ON data_nerd_jobs.job_title_final = tt.job_title_final\nCROSS JOIN UNNEST(keywords_all.list) AS list\nGROUP BY tt.job_title_final, list.element\nORDER BY tt.job_title_final, frequency DESC;",
      "outputs": []
    },
    {
      "id": "8e4747e0-af3d-465e-9afc-e979191102fb",
      "cell_type": "markdown",
      "source": "## Bar Graph of Most Demanded Skills in Percentage for Top 3 Job Titles\nThis graph shows the distribution of skills in percentage for the top three job titles, providing insights into the most demanded skills for each title.",
      "metadata": {
        "noteable": {
          "cell_type": "markdown"
        }
      }
    },
    {
      "id": "5f3c396d-cdaa-45ae-9873-865993fec9fb",
      "cell_type": "code",
      "metadata": {
        "noteable": {
          "cell_type": "code",
          "output_collection_id": "b16c6183-b248-40a0-8030-a9c69be864ec"
        },
        "ExecuteTime": {
          "end_time": "2023-12-13T13:07:04.546820+00:00",
          "start_time": "2023-12-13T13:07:00.902002+00:00"
        }
      },
      "execution_count": null,
      "source": "# Calculating the percentage of each skill for the top 3 job titles\nskill_data = sql_df_xley\nskill_data['percent'] = skill_data.groupby('job_title_final')['frequency'].apply(lambda x: x / x.sum() * 100)\n\n# Plotting\nplt.figure(figsize=(12, 8))\nsns.barplot(x='percent', y='skill', hue='job_title_final', data=skill_data, palette='Blues_r')\nplt.title('Most Demanded Skills in Percentage for Top 3 Job Titles')\nplt.xlabel('Percentage')\nplt.ylabel('Skill')\nplt.legend(title='Job Title')\nplt.show()",
      "outputs": []
    },
    {
      "id": "d658b038-6e7d-4189-bbb4-7f817123d157",
      "cell_type": "code",
      "metadata": {
        "noteable": {
          "cell_type": "code",
          "output_collection_id": "afcf7033-912c-470c-a806-30553f090dcc"
        },
        "ExecuteTime": {
          "end_time": "2023-12-13T13:07:05.303180+00:00",
          "start_time": "2023-12-13T13:07:04.761160+00:00"
        }
      },
      "execution_count": null,
      "source": "# Keeping only the top 6 skills for each job title\ntop_skills_data = skill_data.groupby('job_title_final').apply(lambda x: x.nlargest(6, 'percent')).reset_index(drop=True)\n\n# Plotting\nplt.figure(figsize=(12, 8))\nsns.barplot(x='percent', y='skill', hue='job_title_final', data=top_skills_data, palette='Blues_r')\nplt.title('Top 6 Most Demanded Skills in Percentage for Top 3 Job Titles')\nplt.xlabel('Percentage')\nplt.ylabel('Skill')\nplt.legend(title='Job Title')\nplt.show()",
      "outputs": []
    },
    {
      "id": "57ca3d1a-7186-457e-ac8d-89af1cb48b5b",
      "cell_type": "code",
      "metadata": {
        "noteable": {
          "cell_type": "code",
          "output_collection_id": "97d59aba-ca90-4800-89b0-72d8b6942957"
        },
        "ExecuteTime": {
          "end_time": "2023-12-13T13:07:05.972072+00:00",
          "start_time": "2023-12-13T13:07:05.515751+00:00"
        }
      },
      "execution_count": null,
      "source": "# Filtering for specific skills\nselected_skills = ['sql', 'excel', 'python', 'r', 'tableau', 'power bi']\nfiltered_skills_data = top_skills_data[top_skills_data['skill'].isin(selected_skills)]\n\n# Plotting\nplt.figure(figsize=(12, 8))\nsns.barplot(x='percent', y='skill', hue='job_title_final', data=filtered_skills_data, palette='Blues_r')\nplt.title('Selected Skills in Percentage for Top 3 Job Titles')\nplt.xlabel('Percentage')\nplt.ylabel('Skill')\nplt.legend(title='Job Title')\nplt.show()",
      "outputs": []
    },
    {
      "id": "053b8f1b-33e9-4f24-bbd6-eda3bec9179c",
      "cell_type": "code",
      "metadata": {
        "noteable": {
          "cell_type": "code",
          "output_collection_id": "36fa0f37-aa7a-41ec-b645-324bf5d340b6"
        },
        "ExecuteTime": {
          "end_time": "2023-12-13T13:07:06.832247+00:00",
          "start_time": "2023-12-13T13:07:06.128432+00:00"
        }
      },
      "execution_count": null,
      "source": "# Ensuring all selected skills are represented for each job title\nfor title in job_titles:\n    for skill in selected_skills:\n        if not ((filtered_skills_data['job_title_final'] == title) & (filtered_skills_data['skill'] == skill)).any():\n            filtered_skills_data = filtered_skills_data.append({'job_title_final': title, 'skill': skill, 'frequency': 0}, ignore_index=True)\n\n# Calculating the percentage of each skill for the top 3 job titles\nfiltered_skills_data['percent'] = filtered_skills_data.groupby('job_title_final')['frequency'].apply(lambda x: x / x.sum() * 100)\n\n# Plotting\nplt.figure(figsize=(12, 8))\nsns.barplot(x='percent', y='skill', hue='job_title_final', data=filtered_skills_data, palette='Blues_r')\nplt.title('Selected Skills in Percentage for Top 3 Job Titles (Adjusted)')\nplt.xlabel('Percentage')\nplt.ylabel('Skill')\nplt.legend(title='Job Title')\nplt.show()",
      "outputs": []
    },
    {
      "id": "19786435-94f3-48b4-9e7f-7217b48fb120",
      "cell_type": "code",
      "metadata": {
        "noteable": {
          "assign_results_to": "sql_df_rwct",
          "cell_type": "sql",
          "db_connection": "@81bbd42db3724191a3fc03e3b17e2d77",
          "output_collection_id": "4acfbe58-31f1-4987-9f94-cac1c4a94a11"
        },
        "ExecuteTime": {
          "end_time": "2023-12-13T13:07:08.430576+00:00",
          "start_time": "2023-12-13T13:07:07.010789+00:00"
        },
        "datalink": {
          "e59c93cc-8521-4fca-93a0-c30d48afd69a": {
            "applied_filters": [],
            "dataframe_info": {
              "default_index_used": true,
              "orig_num_cols": 3,
              "orig_num_rows": 18,
              "orig_size_bytes": 576,
              "truncated_num_cols": 3,
              "truncated_num_rows": 18,
              "truncated_size_bytes": 576,
              "truncated_string_columns": []
            },
            "display_id": "e59c93cc-8521-4fca-93a0-c30d48afd69a",
            "dx_settings": {
              "ALLOW_NOTEABLE_ATTRS": true,
              "COLUMN_SAMPLING_METHOD": "outer",
              "DB_LOCATION": ":memory:",
              "DEV_MODE": false,
              "DISPLAY_MAX_COLUMNS": 100,
              "DISPLAY_MAX_ROWS": 50000,
              "DISPLAY_MODE": "simple",
              "ENABLE_ASSIGNMENT": true,
              "ENABLE_DATALINK": true,
              "FLATTEN_COLUMN_VALUES": true,
              "FLATTEN_INDEX_VALUES": false,
              "GENERATE_DEX_METADATA": false,
              "HTML_TABLE_SCHEMA": false,
              "LOG_LEVEL": 30,
              "MAX_RENDER_SIZE_BYTES": 104857600,
              "MAX_STRING_LENGTH": 250,
              "NUM_PAST_SAMPLES_TRACKED": 3,
              "RANDOM_STATE": 12648430,
              "RESET_INDEX_VALUES": false,
              "ROW_SAMPLING_METHOD": "random",
              "SAMPLING_FACTOR": 0.1,
              "SAMPLING_METHOD": "random",
              "STRINGIFY_COLUMN_VALUES": true,
              "STRINGIFY_INDEX_VALUES": false
            },
            "sample_history": [],
            "sampling_time": "2023-12-13T11:14:07.805795",
            "user_variable_name": "sql_df_rwct",
            "variable_name": "sql_df_rwct"
          },
          "4d2aa5b0-1bcd-4097-a07f-0d903b505d61": {
            "applied_filters": [],
            "dataframe_info": {
              "default_index_used": true,
              "orig_num_cols": 3,
              "orig_num_rows": 18,
              "orig_size_bytes": 576,
              "truncated_num_cols": 3,
              "truncated_num_rows": 18,
              "truncated_size_bytes": 576,
              "truncated_string_columns": []
            },
            "display_id": "4d2aa5b0-1bcd-4097-a07f-0d903b505d61",
            "dx_settings": {
              "ALLOW_NOTEABLE_ATTRS": true,
              "COLUMN_SAMPLING_METHOD": "outer",
              "DB_LOCATION": ":memory:",
              "DEV_MODE": false,
              "DISPLAY_MAX_COLUMNS": 100,
              "DISPLAY_MAX_ROWS": 50000,
              "DISPLAY_MODE": "simple",
              "ENABLE_ASSIGNMENT": true,
              "ENABLE_DATALINK": true,
              "FLATTEN_COLUMN_VALUES": true,
              "FLATTEN_INDEX_VALUES": false,
              "GENERATE_DEX_METADATA": false,
              "HTML_TABLE_SCHEMA": false,
              "LOG_LEVEL": 30,
              "MAX_RENDER_SIZE_BYTES": 104857600,
              "MAX_STRING_LENGTH": 250,
              "NUM_PAST_SAMPLES_TRACKED": 3,
              "RANDOM_STATE": 12648430,
              "RESET_INDEX_VALUES": false,
              "ROW_SAMPLING_METHOD": "random",
              "SAMPLING_FACTOR": 0.1,
              "SAMPLING_METHOD": "random",
              "STRINGIFY_COLUMN_VALUES": true,
              "STRINGIFY_INDEX_VALUES": false
            },
            "sample_history": [],
            "sampling_time": "2023-12-13T13:07:08.269005",
            "user_variable_name": "sql_df_rwct",
            "variable_name": "sql_df_rwct"
          }
        }
      },
      "execution_count": null,
      "source": "SELECT job_title_final, list.element AS skill, COUNT(*) AS count\nFROM public_job_listings.data_nerd_jobs\nJOIN UNNEST(keywords_all.list) AS list\nWHERE job_title_final IN ('Data Analyst', 'Data Engineer', 'Data Scientist') AND list.element IN ('sql', 'excel', 'python', 'tableau', 'r', 'power bi')\nGROUP BY job_title_final, list.element\nORDER BY job_title_final, list.element;",
      "outputs": []
    },
    {
      "id": "a2e331fa-6c6d-43db-b158-bf0e9c3963a4",
      "cell_type": "code",
      "metadata": {
        "noteable": {
          "cell_type": "code",
          "output_collection_id": "566606bd-c3ee-476b-affb-fd653fe1a7ac"
        },
        "ExecuteTime": {
          "end_time": "2023-12-13T13:07:08.843512+00:00",
          "start_time": "2023-12-13T13:07:08.437192+00:00"
        }
      },
      "execution_count": null,
      "source": "import matplotlib.pyplot as plt\nimport seaborn as sns\n\n# Load the data from the previous SQL query\nskill_count_data = sql_df_rwct\n\n# Create the bar plot\nplt.figure(figsize=(12, 8))\nsns.barplot(x='count', y='skill', hue='job_title_final', data=skill_count_data, palette='Blues_r')\nplt.title('Count of Selected Skills in Job Postings for Top 3 Job Titles')\nplt.xlabel('Count')\nplt.ylabel('Skill')\nplt.legend(title='Job Title')\nplt.show()",
      "outputs": []
    },
    {
      "id": "85118515-519c-4744-bf9f-81948bea07ee",
      "cell_type": "code",
      "metadata": {
        "noteable": {
          "cell_type": "code",
          "output_collection_id": "0680a71f-2f86-44f3-8d0e-f07e3f56899c"
        },
        "ExecuteTime": {
          "end_time": "2023-12-13T13:07:09.444528+00:00",
          "start_time": "2023-12-13T13:07:09.002318+00:00"
        }
      },
      "execution_count": null,
      "source": "# Calculating the percentage of each skill for the top 3 job titles\nskill_count_data['percent'] = skill_count_data.groupby('job_title_final')['count'].apply(lambda x: x / x.sum() * 100)\n\n# Plotting\nplt.figure(figsize=(12, 8))\nsns.barplot(x='percent', y='skill', hue='job_title_final', data=skill_count_data, palette='Blues_r')\nplt.title('Percentage of Selected Skills in Job Postings for Top 3 Job Titles')\nplt.xlabel('Percentage')\nplt.ylabel('Skill')\nplt.legend(title='Job Title')\nplt.show()",
      "outputs": []
    },
    {
      "id": "f18c9c95-2094-4ec5-8759-f5d84d225bb6",
      "cell_type": "markdown",
      "source": "## Bar Graph of Count of Selected Skills in Job Postings for Top 3 Job Titles\nThis graph shows the count of selected skills (SQL, Excel, Python, Tableau, R, Power BI) in job postings for the job titles 'Data Analyst', 'Data Engineer', and 'Data Scientist'.",
      "metadata": {
        "noteable": {
          "cell_type": "markdown"
        }
      }
    },
    {
      "id": "2d5feb12-d86f-4fbc-99c3-6e1669e73963",
      "cell_type": "code",
      "metadata": {
        "noteable": {
          "cell_type": "code",
          "output_collection_id": "491f02dc-7040-49d4-91e7-5978f5c284d4"
        },
        "ExecuteTime": {
          "end_time": "2023-12-13T13:07:10.461193+00:00",
          "start_time": "2023-12-13T13:07:10.030745+00:00"
        }
      },
      "execution_count": null,
      "source": "# Summing up the counts for each skill across all job titles\ntotal_skill_counts = skill_count_data.groupby('skill')['count'].sum().reset_index()\n\n# Merging with the percentage data\nmerged_data = skill_count_data.merge(total_skill_counts, on='skill', suffixes=('', '_total'))\n\n# Sorting by total count\nmerged_data = merged_data.sort_values(by='count_total', ascending=False)\n\n# Plotting\nplt.figure(figsize=(12, 8))\nsns.barplot(x='percent', y='skill', hue='job_title_final', data=merged_data, palette='Blues_r')\nplt.title('Percentage of Selected Skills in Job Postings (Ordered by Total Demand)')\nplt.xlabel('Percentage')\nplt.ylabel('Skill')\nplt.legend(title='Job Title')\nplt.show()",
      "outputs": []
    }
  ]
}