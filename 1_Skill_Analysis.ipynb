{
  "nbformat": 4,
  "nbformat_minor": 5,
  "metadata": {
    "noteable-chatgpt": {
      "create_notebook": {
        "openai_conversation_id": "4ee20473-c4d8-5ef3-95b1-55bb07e7955f",
        "openai_ephemeral_user_id": "304c6152-ad2f-5383-ab4b-fc7ce3ed78a1",
        "openai_subdivision1_iso_code": "FR-ARA"
      }
    },
    "kernel_info": {
      "name": "python3"
    },
    "kernelspec": {
      "display_name": "Python 3.9",
      "identifier": "legacy",
      "language": "python",
      "language_version": "3.9",
      "name": "python3"
    },
    "selected_hardware_size": "small"
  },
  "cells": [
    {
      "id": "75adc504-07f8-4a74-9048-7386e90cc64f",
      "cell_type": "code",
      "metadata": {
        "jupyter": {
          "outputs_hidden": false,
          "source_hidden": false
        },
        "noteable": {
          "cell_type": "code"
        }
      },
      "execution_count": null,
      "source": "",
      "outputs": []
    },
    {
      "id": "38a84286-4a26-4d86-a357-5bd11ad96eea",
      "cell_type": "code",
      "metadata": {
        "noteable": {
          "assign_results_to": "sql_df_xdua",
          "cell_type": "sql",
          "db_connection": "@81bbd42db3724191a3fc03e3b17e2d77",
          "output_collection_id": "c78a7d31-238e-4d71-b7b3-102ce6381cf2"
        },
        "ExecuteTime": {
          "end_time": "2023-12-13T08:16:46.847112+00:00",
          "start_time": "2023-12-13T08:16:45.117927+00:00"
        },
        "datalink": {
          "7d19a4a0-13a1-4abb-ba86-27925f3219bf": {
            "applied_filters": [],
            "dataframe_info": {
              "default_index_used": true,
              "orig_num_cols": 3,
              "orig_num_rows": 1,
              "orig_size_bytes": 32,
              "truncated_num_cols": 3,
              "truncated_num_rows": 1,
              "truncated_size_bytes": 32,
              "truncated_string_columns": []
            },
            "display_id": "7d19a4a0-13a1-4abb-ba86-27925f3219bf",
            "dx_settings": {
              "ALLOW_NOTEABLE_ATTRS": true,
              "COLUMN_SAMPLING_METHOD": "outer",
              "DB_LOCATION": ":memory:",
              "DEV_MODE": false,
              "DISPLAY_MAX_COLUMNS": 100,
              "DISPLAY_MAX_ROWS": 50000,
              "DISPLAY_MODE": "simple",
              "ENABLE_ASSIGNMENT": true,
              "ENABLE_DATALINK": true,
              "FLATTEN_COLUMN_VALUES": true,
              "FLATTEN_INDEX_VALUES": false,
              "GENERATE_DEX_METADATA": false,
              "HTML_TABLE_SCHEMA": false,
              "LOG_LEVEL": 30,
              "MAX_RENDER_SIZE_BYTES": 104857600,
              "MAX_STRING_LENGTH": 250,
              "NUM_PAST_SAMPLES_TRACKED": 3,
              "RANDOM_STATE": 12648430,
              "RESET_INDEX_VALUES": false,
              "ROW_SAMPLING_METHOD": "random",
              "SAMPLING_FACTOR": 0.1,
              "SAMPLING_METHOD": "random",
              "STRINGIFY_COLUMN_VALUES": true,
              "STRINGIFY_INDEX_VALUES": false
            },
            "sample_history": [],
            "sampling_time": "2023-12-13T08:16:46.685593",
            "user_variable_name": null,
            "variable_name": "unk_dataframe_8efb4e69a15e4a72a134fca98bee0ad4"
          }
        }
      },
      "execution_count": null,
      "source": "\\list",
      "outputs": []
    },
    {
      "id": "7e981de0-dc3f-4526-a232-15f07b2f3d74",
      "cell_type": "code",
      "metadata": {
        "noteable": {
          "assign_results_to": "sql_df_deoy",
          "cell_type": "sql",
          "db_connection": "@81bbd42db3724191a3fc03e3b17e2d77",
          "output_collection_id": "389b71e8-95f1-42bc-ba03-ea7843476292"
        },
        "ExecuteTime": {
          "end_time": "2023-12-13T08:18:41.303208+00:00",
          "start_time": "2023-12-13T08:18:39.588300+00:00"
        },
        "datalink": {
          "a33317ae-5afd-4dfe-bc80-3de14ca59075": {
            "applied_filters": [],
            "dataframe_info": {
              "default_index_used": true,
              "orig_num_cols": 1,
              "orig_num_rows": 100,
              "orig_size_bytes": 1600,
              "truncated_num_cols": 1,
              "truncated_num_rows": 100,
              "truncated_size_bytes": 1600,
              "truncated_string_columns": [
                "keywords_all"
              ]
            },
            "display_id": "a33317ae-5afd-4dfe-bc80-3de14ca59075",
            "dx_settings": {
              "ALLOW_NOTEABLE_ATTRS": true,
              "COLUMN_SAMPLING_METHOD": "outer",
              "DB_LOCATION": ":memory:",
              "DEV_MODE": false,
              "DISPLAY_MAX_COLUMNS": 100,
              "DISPLAY_MAX_ROWS": 50000,
              "DISPLAY_MODE": "simple",
              "ENABLE_ASSIGNMENT": true,
              "ENABLE_DATALINK": true,
              "FLATTEN_COLUMN_VALUES": true,
              "FLATTEN_INDEX_VALUES": false,
              "GENERATE_DEX_METADATA": false,
              "HTML_TABLE_SCHEMA": false,
              "LOG_LEVEL": 30,
              "MAX_RENDER_SIZE_BYTES": 104857600,
              "MAX_STRING_LENGTH": 250,
              "NUM_PAST_SAMPLES_TRACKED": 3,
              "RANDOM_STATE": 12648430,
              "RESET_INDEX_VALUES": false,
              "ROW_SAMPLING_METHOD": "random",
              "SAMPLING_FACTOR": 0.1,
              "SAMPLING_METHOD": "random",
              "STRINGIFY_COLUMN_VALUES": true,
              "STRINGIFY_INDEX_VALUES": false
            },
            "sample_history": [],
            "sampling_time": "2023-12-13T08:18:41.144786",
            "user_variable_name": "sql_df_deoy",
            "variable_name": "sql_df_deoy"
          }
        }
      },
      "execution_count": null,
      "source": "SELECT keywords_all FROM public_job_listings.data_nerd_jobs LIMIT 100;",
      "outputs": []
    },
    {
      "id": "068f89d3-cb08-44c8-83f8-26270e649dc6",
      "cell_type": "code",
      "metadata": {
        "noteable": {
          "assign_results_to": "sql_df_xfme",
          "cell_type": "sql",
          "db_connection": "@81bbd42db3724191a3fc03e3b17e2d77",
          "output_collection_id": "83f44dfc-6dbf-4e28-b572-b526cf668971"
        },
        "ExecuteTime": {
          "end_time": "2023-12-13T08:31:54.925466+00:00",
          "start_time": "2023-12-13T08:31:54.231601+00:00"
        }
      },
      "execution_count": null,
      "source": "SELECT\n  job_id,\n  JSON_EXTRACT_SCALAR(keyword, '$.element') AS keyword\nFROM\n  public_job_listings.data_nerd_jobs,\n  UNNEST(JSON_EXTRACT_ARRAY(keywords_all, '$.list')) AS keyword\nLIMIT 100;",
      "outputs": []
    },
    {
      "id": "37729304-438e-42e7-86e7-adc5309c8354",
      "cell_type": "code",
      "metadata": {
        "noteable": {
          "assign_results_to": "sql_df_zbnc",
          "cell_type": "sql",
          "db_connection": "@81bbd42db3724191a3fc03e3b17e2d77"
        }
      },
      "execution_count": null,
      "source": "SELECT\n  job_id,\n  REGEXP_EXTRACT_ALL(TO_JSON_STRING(keywords_all), r'\"element\": \"([^\"]+)\"') AS keywords\nFROM\n  public_job_listings.data_nerd_jobs\nLIMIT 100;",
      "outputs": []
    },
    {
      "id": "ddc85e85-5a57-4d99-b585-339babd029e4",
      "cell_type": "code",
      "metadata": {
        "noteable": {
          "assign_results_to": "sql_df_ntci",
          "cell_type": "sql",
          "db_connection": "@81bbd42db3724191a3fc03e3b17e2d77",
          "output_collection_id": "b0f1d578-77b8-41e1-a6ff-7689c8428bc1"
        },
        "ExecuteTime": {
          "end_time": "2023-12-13T08:38:28.947449+00:00",
          "start_time": "2023-12-13T08:38:27.513598+00:00"
        },
        "datalink": {
          "a448f8f0-1466-41b9-9181-413c81a24720": {
            "applied_filters": [],
            "dataframe_info": {
              "default_index_used": true,
              "orig_num_cols": 2,
              "orig_num_rows": 100,
              "orig_size_bytes": 2400,
              "truncated_num_cols": 2,
              "truncated_num_rows": 100,
              "truncated_size_bytes": 2400,
              "truncated_string_columns": [
                "job_id"
              ]
            },
            "display_id": "a448f8f0-1466-41b9-9181-413c81a24720",
            "dx_settings": {
              "ALLOW_NOTEABLE_ATTRS": true,
              "COLUMN_SAMPLING_METHOD": "outer",
              "DB_LOCATION": ":memory:",
              "DEV_MODE": false,
              "DISPLAY_MAX_COLUMNS": 100,
              "DISPLAY_MAX_ROWS": 50000,
              "DISPLAY_MODE": "simple",
              "ENABLE_ASSIGNMENT": true,
              "ENABLE_DATALINK": true,
              "FLATTEN_COLUMN_VALUES": true,
              "FLATTEN_INDEX_VALUES": false,
              "GENERATE_DEX_METADATA": false,
              "HTML_TABLE_SCHEMA": false,
              "LOG_LEVEL": 30,
              "MAX_RENDER_SIZE_BYTES": 104857600,
              "MAX_STRING_LENGTH": 250,
              "NUM_PAST_SAMPLES_TRACKED": 3,
              "RANDOM_STATE": 12648430,
              "RESET_INDEX_VALUES": false,
              "ROW_SAMPLING_METHOD": "random",
              "SAMPLING_FACTOR": 0.1,
              "SAMPLING_METHOD": "random",
              "STRINGIFY_COLUMN_VALUES": true,
              "STRINGIFY_INDEX_VALUES": false
            },
            "sample_history": [],
            "sampling_time": "2023-12-13T08:38:28.788000",
            "user_variable_name": "sql_df_sffl",
            "variable_name": "sql_df_sffl"
          }
        }
      },
      "execution_count": null,
      "source": "SELECT\n  job_id,\n  REGEXP_EXTRACT_ALL(TO_JSON_STRING(keywords_all), r'\"element\": \"([^\"]+)\"') AS keywords\nFROM\n  public_job_listings.data_nerd_jobs\nLIMIT 100;",
      "outputs": []
    },
    {
      "id": "6db0ec24-19b1-4955-b898-c9e2a2d09134",
      "cell_type": "code",
      "metadata": {
        "noteable": {
          "assign_results_to": "sql_df_zzkl",
          "cell_type": "sql",
          "db_connection": "@81bbd42db3724191a3fc03e3b17e2d77",
          "output_collection_id": "a413e744-e3e5-4e35-87f4-db22b0ee2e81"
        },
        "ExecuteTime": {
          "end_time": "2023-12-13T08:40:00.635515+00:00",
          "start_time": "2023-12-13T08:39:59.125979+00:00"
        },
        "datalink": {
          "da0428f4-5f6a-4bec-aa99-c5db77384215": {
            "applied_filters": [],
            "dataframe_info": {
              "default_index_used": true,
              "orig_num_cols": 2,
              "orig_num_rows": 100,
              "orig_size_bytes": 2400,
              "truncated_num_cols": 2,
              "truncated_num_rows": 100,
              "truncated_size_bytes": 2400,
              "truncated_string_columns": [
                "job_id",
                "keywords_json"
              ]
            },
            "display_id": "da0428f4-5f6a-4bec-aa99-c5db77384215",
            "dx_settings": {
              "ALLOW_NOTEABLE_ATTRS": true,
              "COLUMN_SAMPLING_METHOD": "outer",
              "DB_LOCATION": ":memory:",
              "DEV_MODE": false,
              "DISPLAY_MAX_COLUMNS": 100,
              "DISPLAY_MAX_ROWS": 50000,
              "DISPLAY_MODE": "simple",
              "ENABLE_ASSIGNMENT": true,
              "ENABLE_DATALINK": true,
              "FLATTEN_COLUMN_VALUES": true,
              "FLATTEN_INDEX_VALUES": false,
              "GENERATE_DEX_METADATA": false,
              "HTML_TABLE_SCHEMA": false,
              "LOG_LEVEL": 30,
              "MAX_RENDER_SIZE_BYTES": 104857600,
              "MAX_STRING_LENGTH": 250,
              "NUM_PAST_SAMPLES_TRACKED": 3,
              "RANDOM_STATE": 12648430,
              "RESET_INDEX_VALUES": false,
              "ROW_SAMPLING_METHOD": "random",
              "SAMPLING_FACTOR": 0.1,
              "SAMPLING_METHOD": "random",
              "STRINGIFY_COLUMN_VALUES": true,
              "STRINGIFY_INDEX_VALUES": false
            },
            "sample_history": [],
            "sampling_time": "2023-12-13T08:40:00.475931",
            "user_variable_name": "sql_df_zzkl",
            "variable_name": "sql_df_zzkl"
          }
        }
      },
      "execution_count": null,
      "source": "SELECT\n  job_id,\n  TO_JSON_STRING(keywords_all) AS keywords_json\nFROM\n  public_job_listings.data_nerd_jobs\nLIMIT 100;",
      "outputs": []
    },
    {
      "id": "0b3ef772-fd4a-4109-9453-f6ec68decc48",
      "cell_type": "code",
      "metadata": {
        "noteable": {
          "assign_results_to": "sql_df_xdlz",
          "cell_type": "sql",
          "db_connection": "@81bbd42db3724191a3fc03e3b17e2d77",
          "output_collection_id": "beb68e6c-7141-42d8-8fa5-16a2ceafce12"
        },
        "ExecuteTime": {
          "end_time": "2023-12-13T08:40:43.306187+00:00",
          "start_time": "2023-12-13T08:40:42.004065+00:00"
        },
        "datalink": {
          "a39ffcee-722a-4f28-8ce0-224a8aa19910": {
            "applied_filters": [],
            "dataframe_info": {
              "default_index_used": true,
              "orig_num_cols": 2,
              "orig_num_rows": 100,
              "orig_size_bytes": 2400,
              "truncated_num_cols": 2,
              "truncated_num_rows": 100,
              "truncated_size_bytes": 2400,
              "truncated_string_columns": [
                "job_id"
              ]
            },
            "display_id": "a39ffcee-722a-4f28-8ce0-224a8aa19910",
            "dx_settings": {
              "ALLOW_NOTEABLE_ATTRS": true,
              "COLUMN_SAMPLING_METHOD": "outer",
              "DB_LOCATION": ":memory:",
              "DEV_MODE": false,
              "DISPLAY_MAX_COLUMNS": 100,
              "DISPLAY_MAX_ROWS": 50000,
              "DISPLAY_MODE": "simple",
              "ENABLE_ASSIGNMENT": true,
              "ENABLE_DATALINK": true,
              "FLATTEN_COLUMN_VALUES": true,
              "FLATTEN_INDEX_VALUES": false,
              "GENERATE_DEX_METADATA": false,
              "HTML_TABLE_SCHEMA": false,
              "LOG_LEVEL": 30,
              "MAX_RENDER_SIZE_BYTES": 104857600,
              "MAX_STRING_LENGTH": 250,
              "NUM_PAST_SAMPLES_TRACKED": 3,
              "RANDOM_STATE": 12648430,
              "RESET_INDEX_VALUES": false,
              "ROW_SAMPLING_METHOD": "random",
              "SAMPLING_FACTOR": 0.1,
              "SAMPLING_METHOD": "random",
              "STRINGIFY_COLUMN_VALUES": true,
              "STRINGIFY_INDEX_VALUES": false
            },
            "sample_history": [],
            "sampling_time": "2023-12-13T08:40:43.145012",
            "user_variable_name": "sql_df_sffl",
            "variable_name": "sql_df_sffl"
          }
        }
      },
      "execution_count": null,
      "source": "SELECT\n  job_id,\n  REGEXP_EXTRACT_ALL(TO_JSON_STRING(keywords_all), r'\"element\": \"([^\"]+)\"') AS keywords\nFROM\n  public_job_listings.data_nerd_jobs\nLIMIT 100;",
      "outputs": []
    },
    {
      "id": "e87db74d-3bd9-4bfd-bfa1-abe3c908fc37",
      "cell_type": "code",
      "metadata": {
        "noteable": {
          "cell_type": "code",
          "output_collection_id": "d837eca4-5b6c-4db7-a0f7-be85723509ff"
        },
        "ExecuteTime": {
          "end_time": "2023-12-13T08:46:11.284963+00:00",
          "start_time": "2023-12-13T08:46:11.081930+00:00"
        },
        "datalink": {
          "e32af04f-d7f2-45bd-9301-72bbdddec740": {
            "applied_filters": [],
            "dataframe_info": {
              "default_index_used": true,
              "orig_num_cols": 1,
              "orig_num_rows": 5,
              "orig_size_bytes": 80,
              "truncated_num_cols": 1,
              "truncated_num_rows": 5,
              "truncated_size_bytes": 80,
              "truncated_string_columns": []
            },
            "display_id": "e32af04f-d7f2-45bd-9301-72bbdddec740",
            "dx_settings": {
              "ALLOW_NOTEABLE_ATTRS": true,
              "COLUMN_SAMPLING_METHOD": "outer",
              "DB_LOCATION": ":memory:",
              "DEV_MODE": false,
              "DISPLAY_MAX_COLUMNS": 100,
              "DISPLAY_MAX_ROWS": 50000,
              "DISPLAY_MODE": "simple",
              "ENABLE_ASSIGNMENT": true,
              "ENABLE_DATALINK": true,
              "FLATTEN_COLUMN_VALUES": true,
              "FLATTEN_INDEX_VALUES": false,
              "GENERATE_DEX_METADATA": false,
              "HTML_TABLE_SCHEMA": false,
              "LOG_LEVEL": 30,
              "MAX_RENDER_SIZE_BYTES": 104857600,
              "MAX_STRING_LENGTH": 250,
              "NUM_PAST_SAMPLES_TRACKED": 3,
              "RANDOM_STATE": 12648430,
              "RESET_INDEX_VALUES": false,
              "ROW_SAMPLING_METHOD": "random",
              "SAMPLING_FACTOR": 0.1,
              "SAMPLING_METHOD": "random",
              "STRINGIFY_COLUMN_VALUES": true,
              "STRINGIFY_INDEX_VALUES": false
            },
            "sample_history": [],
            "sampling_time": "2023-12-13T08:46:11.127372",
            "user_variable_name": null,
            "variable_name": "unk_dataframe_8053955fb9e24a928b3618ccd3e1fb75"
          }
        }
      },
      "execution_count": null,
      "source": "import pandas as pd\nimport json\n\ndef extract_keywords(row):\n    try:\n        keywords = json.loads(row['keywords_all'])['list']\n        return [kw['element'] for kw in keywords]\n    except:\n        return []\n\n# Load the data into a DataFrame\ndf = sql_df_deoy\n\n# Apply the function to extract keywords\ndf['keywords'] = df['keywords_all'].apply(extract_keywords)\ndf[['keywords']].head()",
      "outputs": []
    },
    {
      "id": "78ecded1-6a8c-4c40-b441-b9b37111fdb9",
      "cell_type": "code",
      "metadata": {
        "noteable": {
          "assign_results_to": "sql_df_uali",
          "cell_type": "sql",
          "db_connection": "@81bbd42db3724191a3fc03e3b17e2d77"
        }
      },
      "execution_count": null,
      "source": "SELECT JSON_EXTRACT_SCALAR(keywords_all, '$.list[0].element') AS first_keyword FROM public_job_listings.data_nerd_jobs LIMIT 100;",
      "outputs": []
    },
    {
      "id": "ef50dd53-d030-4129-b5e7-970581e98860",
      "cell_type": "code",
      "metadata": {
        "noteable": {
          "assign_results_to": "sql_df_oekb",
          "cell_type": "sql",
          "db_connection": "@81bbd42db3724191a3fc03e3b17e2d77",
          "output_collection_id": "b281b0a4-88c6-42f5-8537-d827f0a8aa92"
        },
        "ExecuteTime": {
          "end_time": "2023-12-13T08:58:22.705258+00:00",
          "start_time": "2023-12-13T08:58:21.963504+00:00"
        }
      },
      "execution_count": null,
      "source": "SELECT\n  JSON_EXTRACT(keywords_all, '$.list') AS keywords\nFROM public_job_listings.data_nerd_jobs\nLIMIT 100;",
      "outputs": []
    },
    {
      "id": "ec4db103-8a30-417e-999c-b9f5a80d8420",
      "cell_type": "code",
      "metadata": {
        "noteable": {
          "cell_type": "code"
        }
      },
      "execution_count": null,
      "source": "import pandas as pd\nimport json\n\n# Query to fetch the keywords_all column\nquery = \"\"\"\nSELECT keywords_all\nFROM public_job_listings.data_nerd_jobs\nLIMIT 100\n\"\"\"\n\n# Execute the query and load into a DataFrame\nkeywords_df = sql_df_deoy\n\n# Define a function to extract keywords\ndef extract_keywords(json_str):\n    try:\n        keywords_list = json.loads(json_str)['list']\n        return [kw['element'] for kw in keywords_list]\n    except (TypeError, json.JSONDecodeError):\n        return []\n\n# Apply the function to extract keywords\nkeywords_df['extracted_keywords'] = keywords_df['keywords_all'].apply(extract_keywords)\nkeywords_df",
      "outputs": []
    },
    {
      "id": "10c6d43f-0174-441a-a85d-7fc18f452de2",
      "cell_type": "code",
      "metadata": {
        "noteable": {
          "assign_results_to": "sql_df_iuow",
          "cell_type": "sql",
          "db_connection": "@81bbd42db3724191a3fc03e3b17e2d77",
          "output_collection_id": "673bfe61-790c-4ba6-bff6-54e62fab3583"
        },
        "ExecuteTime": {
          "end_time": "2023-12-13T09:01:12.485341+00:00",
          "start_time": "2023-12-13T09:01:11.711657+00:00"
        }
      },
      "execution_count": null,
      "source": "SELECT \n    JSON_EXTRACT_SCALAR(keyword, '$.element') AS keyword\nFROM \n    public_job_listings.data_nerd_jobs,\n    UNNEST(JSON_EXTRACT_ARRAY(keywords_all, '$.list')) AS keyword\nLIMIT 100;",
      "outputs": []
    },
    {
      "id": "74564259-16d1-41ef-9d1a-40dbefbb0d18",
      "cell_type": "code",
      "metadata": {
        "noteable": {
          "assign_results_to": "sql_df_kmpp",
          "cell_type": "sql",
          "db_connection": "@81bbd42db3724191a3fc03e3b17e2d77",
          "output_collection_id": "5b8d616c-c9f3-430f-ac92-1d30c0047f0c"
        },
        "ExecuteTime": {
          "end_time": "2023-12-13T09:08:53.695913+00:00",
          "start_time": "2023-12-13T09:08:52.913034+00:00"
        }
      },
      "execution_count": null,
      "source": "SELECT keyword.element\nFROM public_job_listings.data_nerd_jobs,\n     UNNEST(JSON_EXTRACT_ARRAY(keywords_all, '$.list')) AS keyword\nLIMIT 100;",
      "outputs": []
    },
    {
      "id": "02bacdcc-90ae-437a-a2a9-8f7d85db0b65",
      "cell_type": "code",
      "metadata": {
        "noteable": {
          "assign_results_to": "sql_df_rlug",
          "cell_type": "sql",
          "db_connection": "@81bbd42db3724191a3fc03e3b17e2d77",
          "output_collection_id": "fcc9e58c-bebb-489e-af29-a7d8031d38a3"
        },
        "ExecuteTime": {
          "end_time": "2023-12-13T09:35:21.043645+00:00",
          "start_time": "2023-12-13T09:35:20.240738+00:00"
        },
        "datalink": {
          "da84eba1-c26a-4ec5-9134-cafb7c41b567": {
            "applied_filters": [],
            "dataframe_info": {
              "default_index_used": false,
              "orig_num_cols": 1,
              "orig_num_rows": 0,
              "orig_size_bytes": 0,
              "truncated_num_cols": 1,
              "truncated_num_rows": 0,
              "truncated_size_bytes": 0,
              "truncated_string_columns": []
            },
            "display_id": "da84eba1-c26a-4ec5-9134-cafb7c41b567",
            "dx_settings": {
              "ALLOW_NOTEABLE_ATTRS": true,
              "COLUMN_SAMPLING_METHOD": "outer",
              "DB_LOCATION": ":memory:",
              "DEV_MODE": false,
              "DISPLAY_MAX_COLUMNS": 100,
              "DISPLAY_MAX_ROWS": 50000,
              "DISPLAY_MODE": "simple",
              "ENABLE_ASSIGNMENT": true,
              "ENABLE_DATALINK": true,
              "FLATTEN_COLUMN_VALUES": true,
              "FLATTEN_INDEX_VALUES": false,
              "GENERATE_DEX_METADATA": false,
              "HTML_TABLE_SCHEMA": false,
              "LOG_LEVEL": 30,
              "MAX_RENDER_SIZE_BYTES": 104857600,
              "MAX_STRING_LENGTH": 250,
              "NUM_PAST_SAMPLES_TRACKED": 3,
              "RANDOM_STATE": 12648430,
              "RESET_INDEX_VALUES": false,
              "ROW_SAMPLING_METHOD": "random",
              "SAMPLING_FACTOR": 0.1,
              "SAMPLING_METHOD": "random",
              "STRINGIFY_COLUMN_VALUES": true,
              "STRINGIFY_INDEX_VALUES": false
            },
            "sample_history": [],
            "sampling_time": "2023-12-13T09:35:04.050818",
            "user_variable_name": "sql_df_rlug",
            "variable_name": "sql_df_rlug"
          }
        }
      },
      "execution_count": null,
      "source": "SELECT keyword.element\nFROM public_job_listings.data_nerd_jobs,\nUNNEST(JSON_EXTRACT_ARRAY(keywords_all, '$.list')) AS keyword\nLIMIT 100;",
      "outputs": []
    },
    {
      "id": "65296a06-eada-4945-8471-06903c2f06ad",
      "cell_type": "code",
      "metadata": {
        "noteable": {
          "assign_results_to": "sql_df_xunw",
          "cell_type": "sql",
          "db_connection": "@81bbd42db3724191a3fc03e3b17e2d77",
          "output_collection_id": "3d561216-8d20-4798-b137-3d1519afe0a3"
        },
        "ExecuteTime": {
          "end_time": "2023-12-13T09:38:53.500301+00:00",
          "start_time": "2023-12-13T09:38:52.765428+00:00"
        }
      },
      "execution_count": null,
      "source": "SELECT JSON_QUERY(keywords_all, '$.list') AS keywords_json\nFROM public_job_listings.data_nerd_jobs\nLIMIT 100;",
      "outputs": []
    }
  ]
}