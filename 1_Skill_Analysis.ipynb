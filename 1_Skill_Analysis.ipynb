{
  "nbformat": 4,
  "nbformat_minor": 5,
  "metadata": {
    "noteable-chatgpt": {
      "create_notebook": {
        "openai_conversation_id": "4ee20473-c4d8-5ef3-95b1-55bb07e7955f",
        "openai_ephemeral_user_id": "304c6152-ad2f-5383-ab4b-fc7ce3ed78a1",
        "openai_subdivision1_iso_code": "FR-ARA"
      }
    },
    "kernel_info": {
      "name": "python3"
    },
    "kernelspec": {
      "display_name": "Python 3.9",
      "identifier": "legacy",
      "language": "python",
      "language_version": "3.9",
      "name": "python3"
    },
    "selected_hardware_size": "small"
  },
  "cells": [
    {
      "id": "f18c9c95-2094-4ec5-8759-f5d84d225bb6",
      "cell_type": "markdown",
      "source": "## Bar Graph of Count of Selected Skills in Job Postings for Top 3 Job Titles\nThis graph shows the count of selected skills (SQL, Excel, Python, Tableau, R, Power BI) in job postings for the job titles 'Data Analyst', 'Data Engineer', and 'Data Scientist'.",
      "metadata": {
        "noteable": {
          "cell_type": "markdown"
        }
      }
    },
    {
      "id": "25eee0dc-0fac-479e-9c9f-1eb45026b13b",
      "cell_type": "markdown",
      "source": "## Bar Graph of Top 3 Job Titles\nThis graph visualizes the three most popular job titles in the job listings, based on their frequency.",
      "metadata": {
        "noteable": {
          "cell_type": "markdown"
        }
      }
    },
    {
      "id": "4963ce5b-8102-4986-ae41-7c5884d0b711",
      "cell_type": "markdown",
      "source": "## Bar Graph of Top 5 Skills for Top 3 Job Titles\nThis graph displays the top 5 skills for each of the top 3 job titles based on their frequency in the job listings.",
      "metadata": {
        "noteable": {
          "cell_type": "markdown"
        }
      }
    },
    {
      "id": "38a84286-4a26-4d86-a357-5bd11ad96eea",
      "cell_type": "code",
      "metadata": {
        "noteable": {
          "assign_results_to": "sql_df_xdua",
          "cell_type": "sql",
          "db_connection": "@81bbd42db3724191a3fc03e3b17e2d77",
          "output_collection_id": "43f8ef98-6bb2-45e9-b9d1-ead5909b8fbf"
        },
        "ExecuteTime": {
          "end_time": "2023-12-13T13:01:40.560886+00:00",
          "start_time": "2023-12-13T13:01:38.954122+00:00"
        },
        "datalink": {
          "7d19a4a0-13a1-4abb-ba86-27925f3219bf": {
            "applied_filters": [],
            "dataframe_info": {
              "default_index_used": true,
              "orig_num_cols": 3,
              "orig_num_rows": 1,
              "orig_size_bytes": 32,
              "truncated_num_cols": 3,
              "truncated_num_rows": 1,
              "truncated_size_bytes": 32,
              "truncated_string_columns": []
            },
            "display_id": "7d19a4a0-13a1-4abb-ba86-27925f3219bf",
            "dx_settings": {
              "ALLOW_NOTEABLE_ATTRS": true,
              "COLUMN_SAMPLING_METHOD": "outer",
              "DB_LOCATION": ":memory:",
              "DEV_MODE": false,
              "DISPLAY_MAX_COLUMNS": 100,
              "DISPLAY_MAX_ROWS": 50000,
              "DISPLAY_MODE": "simple",
              "ENABLE_ASSIGNMENT": true,
              "ENABLE_DATALINK": true,
              "FLATTEN_COLUMN_VALUES": true,
              "FLATTEN_INDEX_VALUES": false,
              "GENERATE_DEX_METADATA": false,
              "HTML_TABLE_SCHEMA": false,
              "LOG_LEVEL": 30,
              "MAX_RENDER_SIZE_BYTES": 104857600,
              "MAX_STRING_LENGTH": 250,
              "NUM_PAST_SAMPLES_TRACKED": 3,
              "RANDOM_STATE": 12648430,
              "RESET_INDEX_VALUES": false,
              "ROW_SAMPLING_METHOD": "random",
              "SAMPLING_FACTOR": 0.1,
              "SAMPLING_METHOD": "random",
              "STRINGIFY_COLUMN_VALUES": true,
              "STRINGIFY_INDEX_VALUES": false
            },
            "sample_history": [],
            "sampling_time": "2023-12-13T08:16:46.685593",
            "user_variable_name": null,
            "variable_name": "unk_dataframe_8efb4e69a15e4a72a134fca98bee0ad4"
          },
          "5dca55a5-e5ec-4154-b0ef-9a1605eb3b3b": {
            "applied_filters": [],
            "dataframe_info": {
              "default_index_used": true,
              "orig_num_cols": 3,
              "orig_num_rows": 1,
              "orig_size_bytes": 32,
              "truncated_num_cols": 3,
              "truncated_num_rows": 1,
              "truncated_size_bytes": 32,
              "truncated_string_columns": []
            },
            "display_id": "5dca55a5-e5ec-4154-b0ef-9a1605eb3b3b",
            "dx_settings": {
              "ALLOW_NOTEABLE_ATTRS": true,
              "COLUMN_SAMPLING_METHOD": "outer",
              "DB_LOCATION": ":memory:",
              "DEV_MODE": false,
              "DISPLAY_MAX_COLUMNS": 100,
              "DISPLAY_MAX_ROWS": 50000,
              "DISPLAY_MODE": "simple",
              "ENABLE_ASSIGNMENT": true,
              "ENABLE_DATALINK": true,
              "FLATTEN_COLUMN_VALUES": true,
              "FLATTEN_INDEX_VALUES": false,
              "GENERATE_DEX_METADATA": false,
              "HTML_TABLE_SCHEMA": false,
              "LOG_LEVEL": 30,
              "MAX_RENDER_SIZE_BYTES": 104857600,
              "MAX_STRING_LENGTH": 250,
              "NUM_PAST_SAMPLES_TRACKED": 3,
              "RANDOM_STATE": 12648430,
              "RESET_INDEX_VALUES": false,
              "ROW_SAMPLING_METHOD": "random",
              "SAMPLING_FACTOR": 0.1,
              "SAMPLING_METHOD": "random",
              "STRINGIFY_COLUMN_VALUES": true,
              "STRINGIFY_INDEX_VALUES": false
            },
            "sample_history": [],
            "sampling_time": "2023-12-13T12:55:03.194739",
            "user_variable_name": null,
            "variable_name": "unk_dataframe_1cef76cefa4d44bbaf8e58517f0a5849"
          },
          "5c63a19e-2ea2-4fe2-ac93-d29d85360f09": {
            "applied_filters": [],
            "dataframe_info": {
              "default_index_used": true,
              "orig_num_cols": 3,
              "orig_num_rows": 1,
              "orig_size_bytes": 32,
              "truncated_num_cols": 3,
              "truncated_num_rows": 1,
              "truncated_size_bytes": 32,
              "truncated_string_columns": []
            },
            "display_id": "5c63a19e-2ea2-4fe2-ac93-d29d85360f09",
            "dx_settings": {
              "ALLOW_NOTEABLE_ATTRS": true,
              "COLUMN_SAMPLING_METHOD": "outer",
              "DB_LOCATION": ":memory:",
              "DEV_MODE": false,
              "DISPLAY_MAX_COLUMNS": 100,
              "DISPLAY_MAX_ROWS": 50000,
              "DISPLAY_MODE": "simple",
              "ENABLE_ASSIGNMENT": true,
              "ENABLE_DATALINK": true,
              "FLATTEN_COLUMN_VALUES": true,
              "FLATTEN_INDEX_VALUES": false,
              "GENERATE_DEX_METADATA": false,
              "HTML_TABLE_SCHEMA": false,
              "LOG_LEVEL": 30,
              "MAX_RENDER_SIZE_BYTES": 104857600,
              "MAX_STRING_LENGTH": 250,
              "NUM_PAST_SAMPLES_TRACKED": 3,
              "RANDOM_STATE": 12648430,
              "RESET_INDEX_VALUES": false,
              "ROW_SAMPLING_METHOD": "random",
              "SAMPLING_FACTOR": 0.1,
              "SAMPLING_METHOD": "random",
              "STRINGIFY_COLUMN_VALUES": true,
              "STRINGIFY_INDEX_VALUES": false
            },
            "sample_history": [],
            "sampling_time": "2023-12-13T13:01:40.399144",
            "user_variable_name": null,
            "variable_name": "unk_dataframe_accba06f11e34adab8bf4dd64bbf8d33"
          }
        }
      },
      "execution_count": null,
      "source": "\\list",
      "outputs": []
    },
    {
      "id": "7e981de0-dc3f-4526-a232-15f07b2f3d74",
      "cell_type": "code",
      "metadata": {
        "noteable": {
          "assign_results_to": "sql_df_deoy",
          "cell_type": "sql",
          "db_connection": "@81bbd42db3724191a3fc03e3b17e2d77",
          "output_collection_id": "c98bad95-cdc5-47d8-bbba-77fd60d53ad2"
        },
        "ExecuteTime": {
          "end_time": "2023-12-13T13:01:41.928986+00:00",
          "start_time": "2023-12-13T13:01:40.722422+00:00"
        },
        "datalink": {
          "a33317ae-5afd-4dfe-bc80-3de14ca59075": {
            "applied_filters": [],
            "dataframe_info": {
              "default_index_used": true,
              "orig_num_cols": 1,
              "orig_num_rows": 100,
              "orig_size_bytes": 1600,
              "truncated_num_cols": 1,
              "truncated_num_rows": 100,
              "truncated_size_bytes": 1600,
              "truncated_string_columns": [
                "keywords_all"
              ]
            },
            "display_id": "a33317ae-5afd-4dfe-bc80-3de14ca59075",
            "dx_settings": {
              "ALLOW_NOTEABLE_ATTRS": true,
              "COLUMN_SAMPLING_METHOD": "outer",
              "DB_LOCATION": ":memory:",
              "DEV_MODE": false,
              "DISPLAY_MAX_COLUMNS": 100,
              "DISPLAY_MAX_ROWS": 50000,
              "DISPLAY_MODE": "simple",
              "ENABLE_ASSIGNMENT": true,
              "ENABLE_DATALINK": true,
              "FLATTEN_COLUMN_VALUES": true,
              "FLATTEN_INDEX_VALUES": false,
              "GENERATE_DEX_METADATA": false,
              "HTML_TABLE_SCHEMA": false,
              "LOG_LEVEL": 30,
              "MAX_RENDER_SIZE_BYTES": 104857600,
              "MAX_STRING_LENGTH": 250,
              "NUM_PAST_SAMPLES_TRACKED": 3,
              "RANDOM_STATE": 12648430,
              "RESET_INDEX_VALUES": false,
              "ROW_SAMPLING_METHOD": "random",
              "SAMPLING_FACTOR": 0.1,
              "SAMPLING_METHOD": "random",
              "STRINGIFY_COLUMN_VALUES": true,
              "STRINGIFY_INDEX_VALUES": false
            },
            "sample_history": [],
            "sampling_time": "2023-12-13T08:18:41.144786",
            "user_variable_name": "sql_df_deoy",
            "variable_name": "sql_df_deoy"
          },
          "a5230c5b-8d69-4599-9a85-99c3444b2b8c": {
            "applied_filters": [],
            "dataframe_info": {
              "default_index_used": true,
              "orig_num_cols": 1,
              "orig_num_rows": 100,
              "orig_size_bytes": 1600,
              "truncated_num_cols": 1,
              "truncated_num_rows": 100,
              "truncated_size_bytes": 1600,
              "truncated_string_columns": [
                "keywords_all"
              ]
            },
            "display_id": "a5230c5b-8d69-4599-9a85-99c3444b2b8c",
            "dx_settings": {
              "ALLOW_NOTEABLE_ATTRS": true,
              "COLUMN_SAMPLING_METHOD": "outer",
              "DB_LOCATION": ":memory:",
              "DEV_MODE": false,
              "DISPLAY_MAX_COLUMNS": 100,
              "DISPLAY_MAX_ROWS": 50000,
              "DISPLAY_MODE": "simple",
              "ENABLE_ASSIGNMENT": true,
              "ENABLE_DATALINK": true,
              "FLATTEN_COLUMN_VALUES": true,
              "FLATTEN_INDEX_VALUES": false,
              "GENERATE_DEX_METADATA": false,
              "HTML_TABLE_SCHEMA": false,
              "LOG_LEVEL": 30,
              "MAX_RENDER_SIZE_BYTES": 104857600,
              "MAX_STRING_LENGTH": 250,
              "NUM_PAST_SAMPLES_TRACKED": 3,
              "RANDOM_STATE": 12648430,
              "RESET_INDEX_VALUES": false,
              "ROW_SAMPLING_METHOD": "random",
              "SAMPLING_FACTOR": 0.1,
              "SAMPLING_METHOD": "random",
              "STRINGIFY_COLUMN_VALUES": true,
              "STRINGIFY_INDEX_VALUES": false
            },
            "sample_history": [],
            "sampling_time": "2023-12-13T12:55:04.627189",
            "user_variable_name": "sql_df_deoy",
            "variable_name": "sql_df_deoy"
          },
          "9a898699-c30a-472e-9b6d-b7d92a856e9c": {
            "applied_filters": [],
            "dataframe_info": {
              "default_index_used": true,
              "orig_num_cols": 1,
              "orig_num_rows": 100,
              "orig_size_bytes": 1600,
              "truncated_num_cols": 1,
              "truncated_num_rows": 100,
              "truncated_size_bytes": 1600,
              "truncated_string_columns": [
                "keywords_all"
              ]
            },
            "display_id": "9a898699-c30a-472e-9b6d-b7d92a856e9c",
            "dx_settings": {
              "ALLOW_NOTEABLE_ATTRS": true,
              "COLUMN_SAMPLING_METHOD": "outer",
              "DB_LOCATION": ":memory:",
              "DEV_MODE": false,
              "DISPLAY_MAX_COLUMNS": 100,
              "DISPLAY_MAX_ROWS": 50000,
              "DISPLAY_MODE": "simple",
              "ENABLE_ASSIGNMENT": true,
              "ENABLE_DATALINK": true,
              "FLATTEN_COLUMN_VALUES": true,
              "FLATTEN_INDEX_VALUES": false,
              "GENERATE_DEX_METADATA": false,
              "HTML_TABLE_SCHEMA": false,
              "LOG_LEVEL": 30,
              "MAX_RENDER_SIZE_BYTES": 104857600,
              "MAX_STRING_LENGTH": 250,
              "NUM_PAST_SAMPLES_TRACKED": 3,
              "RANDOM_STATE": 12648430,
              "RESET_INDEX_VALUES": false,
              "ROW_SAMPLING_METHOD": "random",
              "SAMPLING_FACTOR": 0.1,
              "SAMPLING_METHOD": "random",
              "STRINGIFY_COLUMN_VALUES": true,
              "STRINGIFY_INDEX_VALUES": false
            },
            "sample_history": [],
            "sampling_time": "2023-12-13T13:01:41.770745",
            "user_variable_name": "sql_df_deoy",
            "variable_name": "sql_df_deoy"
          }
        }
      },
      "execution_count": null,
      "source": "SELECT keywords_all FROM public_job_listings.data_nerd_jobs LIMIT 100;",
      "outputs": []
    },
    {
      "id": "8ae8ed7d-179a-4a11-8a08-4eac843a6466",
      "cell_type": "markdown",
      "source": "## Extracting Keywords from JSON\nExtracting the entire `keywords_all` column and processing it in Python due to SQL extraction challenges.",
      "metadata": {
        "noteable": {
          "cell_type": "markdown"
        }
      }
    },
    {
      "id": "c9ae8d55-5f45-4b24-8ab8-1edb4fe5d1fa",
      "cell_type": "code",
      "metadata": {
        "noteable": {
          "assign_results_to": "sql_df_tron",
          "cell_type": "sql",
          "db_connection": "@81bbd42db3724191a3fc03e3b17e2d77",
          "output_collection_id": "6169f873-6991-4e06-b3a4-ca9357406b8d"
        },
        "ExecuteTime": {
          "end_time": "2023-12-13T13:01:43.113493+00:00",
          "start_time": "2023-12-13T13:01:41.945275+00:00"
        },
        "datalink": {
          "c94a267b-c1a4-4978-80ef-32c7309870e0": {
            "applied_filters": [],
            "dataframe_info": {
              "default_index_used": true,
              "orig_num_cols": 1,
              "orig_num_rows": 100,
              "orig_size_bytes": 1600,
              "truncated_num_cols": 1,
              "truncated_num_rows": 100,
              "truncated_size_bytes": 1600,
              "truncated_string_columns": [
                "keywords_all"
              ]
            },
            "display_id": "c94a267b-c1a4-4978-80ef-32c7309870e0",
            "dx_settings": {
              "ALLOW_NOTEABLE_ATTRS": true,
              "COLUMN_SAMPLING_METHOD": "outer",
              "DB_LOCATION": ":memory:",
              "DEV_MODE": false,
              "DISPLAY_MAX_COLUMNS": 100,
              "DISPLAY_MAX_ROWS": 50000,
              "DISPLAY_MODE": "simple",
              "ENABLE_ASSIGNMENT": true,
              "ENABLE_DATALINK": true,
              "FLATTEN_COLUMN_VALUES": true,
              "FLATTEN_INDEX_VALUES": false,
              "GENERATE_DEX_METADATA": false,
              "HTML_TABLE_SCHEMA": false,
              "LOG_LEVEL": 30,
              "MAX_RENDER_SIZE_BYTES": 104857600,
              "MAX_STRING_LENGTH": 250,
              "NUM_PAST_SAMPLES_TRACKED": 3,
              "RANDOM_STATE": 12648430,
              "RESET_INDEX_VALUES": false,
              "ROW_SAMPLING_METHOD": "random",
              "SAMPLING_FACTOR": 0.1,
              "SAMPLING_METHOD": "random",
              "STRINGIFY_COLUMN_VALUES": true,
              "STRINGIFY_INDEX_VALUES": false
            },
            "sample_history": [],
            "sampling_time": "2023-12-13T09:44:11.993050",
            "user_variable_name": "sql_df_tron",
            "variable_name": "sql_df_tron"
          },
          "95448c1a-8bbf-403c-b064-18b72e9f3b8a": {
            "applied_filters": [],
            "dataframe_info": {
              "default_index_used": true,
              "orig_num_cols": 1,
              "orig_num_rows": 100,
              "orig_size_bytes": 1600,
              "truncated_num_cols": 1,
              "truncated_num_rows": 100,
              "truncated_size_bytes": 1600,
              "truncated_string_columns": [
                "keywords_all"
              ]
            },
            "display_id": "95448c1a-8bbf-403c-b064-18b72e9f3b8a",
            "dx_settings": {
              "ALLOW_NOTEABLE_ATTRS": true,
              "COLUMN_SAMPLING_METHOD": "outer",
              "DB_LOCATION": ":memory:",
              "DEV_MODE": false,
              "DISPLAY_MAX_COLUMNS": 100,
              "DISPLAY_MAX_ROWS": 50000,
              "DISPLAY_MODE": "simple",
              "ENABLE_ASSIGNMENT": true,
              "ENABLE_DATALINK": true,
              "FLATTEN_COLUMN_VALUES": true,
              "FLATTEN_INDEX_VALUES": false,
              "GENERATE_DEX_METADATA": false,
              "HTML_TABLE_SCHEMA": false,
              "LOG_LEVEL": 30,
              "MAX_RENDER_SIZE_BYTES": 104857600,
              "MAX_STRING_LENGTH": 250,
              "NUM_PAST_SAMPLES_TRACKED": 3,
              "RANDOM_STATE": 12648430,
              "RESET_INDEX_VALUES": false,
              "ROW_SAMPLING_METHOD": "random",
              "SAMPLING_FACTOR": 0.1,
              "SAMPLING_METHOD": "random",
              "STRINGIFY_COLUMN_VALUES": true,
              "STRINGIFY_INDEX_VALUES": false
            },
            "sample_history": [],
            "sampling_time": "2023-12-13T12:55:06.010174",
            "user_variable_name": "sql_df_deoy",
            "variable_name": "sql_df_deoy"
          },
          "afa25752-8fb0-4885-8e11-d70715be42e9": {
            "applied_filters": [],
            "dataframe_info": {
              "default_index_used": true,
              "orig_num_cols": 1,
              "orig_num_rows": 100,
              "orig_size_bytes": 1600,
              "truncated_num_cols": 1,
              "truncated_num_rows": 100,
              "truncated_size_bytes": 1600,
              "truncated_string_columns": [
                "keywords_all"
              ]
            },
            "display_id": "afa25752-8fb0-4885-8e11-d70715be42e9",
            "dx_settings": {
              "ALLOW_NOTEABLE_ATTRS": true,
              "COLUMN_SAMPLING_METHOD": "outer",
              "DB_LOCATION": ":memory:",
              "DEV_MODE": false,
              "DISPLAY_MAX_COLUMNS": 100,
              "DISPLAY_MAX_ROWS": 50000,
              "DISPLAY_MODE": "simple",
              "ENABLE_ASSIGNMENT": true,
              "ENABLE_DATALINK": true,
              "FLATTEN_COLUMN_VALUES": true,
              "FLATTEN_INDEX_VALUES": false,
              "GENERATE_DEX_METADATA": false,
              "HTML_TABLE_SCHEMA": false,
              "LOG_LEVEL": 30,
              "MAX_RENDER_SIZE_BYTES": 104857600,
              "MAX_STRING_LENGTH": 250,
              "NUM_PAST_SAMPLES_TRACKED": 3,
              "RANDOM_STATE": 12648430,
              "RESET_INDEX_VALUES": false,
              "ROW_SAMPLING_METHOD": "random",
              "SAMPLING_FACTOR": 0.1,
              "SAMPLING_METHOD": "random",
              "STRINGIFY_COLUMN_VALUES": true,
              "STRINGIFY_INDEX_VALUES": false
            },
            "sample_history": [],
            "sampling_time": "2023-12-13T13:01:42.952836",
            "user_variable_name": "sql_df_deoy",
            "variable_name": "sql_df_deoy"
          }
        }
      },
      "execution_count": null,
      "source": "SELECT keywords_all\nFROM public_job_listings.data_nerd_jobs\nLIMIT 100;",
      "outputs": []
    },
    {
      "id": "31053fac-aae8-4ff3-9c89-f4ab9b1be53d",
      "cell_type": "code",
      "metadata": {
        "noteable": {
          "assign_results_to": "sql_df_ovxd",
          "cell_type": "sql",
          "db_connection": "@81bbd42db3724191a3fc03e3b17e2d77",
          "output_collection_id": "d1c01286-7a7c-4d28-a622-735a8ae368e8"
        },
        "ExecuteTime": {
          "end_time": "2023-12-13T13:01:44.372594+00:00",
          "start_time": "2023-12-13T13:01:43.117786+00:00"
        },
        "datalink": {
          "c8664322-e9ad-41c8-88c1-f01a7b91d274": {
            "applied_filters": [],
            "dataframe_info": {
              "default_index_used": true,
              "orig_num_cols": 1,
              "orig_num_rows": 5,
              "orig_size_bytes": 80,
              "truncated_num_cols": 1,
              "truncated_num_rows": 5,
              "truncated_size_bytes": 80,
              "truncated_string_columns": []
            },
            "display_id": "c8664322-e9ad-41c8-88c1-f01a7b91d274",
            "dx_settings": {
              "ALLOW_NOTEABLE_ATTRS": true,
              "COLUMN_SAMPLING_METHOD": "outer",
              "DB_LOCATION": ":memory:",
              "DEV_MODE": false,
              "DISPLAY_MAX_COLUMNS": 100,
              "DISPLAY_MAX_ROWS": 50000,
              "DISPLAY_MODE": "simple",
              "ENABLE_ASSIGNMENT": true,
              "ENABLE_DATALINK": true,
              "FLATTEN_COLUMN_VALUES": true,
              "FLATTEN_INDEX_VALUES": false,
              "GENERATE_DEX_METADATA": false,
              "HTML_TABLE_SCHEMA": false,
              "LOG_LEVEL": 30,
              "MAX_RENDER_SIZE_BYTES": 104857600,
              "MAX_STRING_LENGTH": 250,
              "NUM_PAST_SAMPLES_TRACKED": 3,
              "RANDOM_STATE": 12648430,
              "RESET_INDEX_VALUES": false,
              "ROW_SAMPLING_METHOD": "random",
              "SAMPLING_FACTOR": 0.1,
              "SAMPLING_METHOD": "random",
              "STRINGIFY_COLUMN_VALUES": true,
              "STRINGIFY_INDEX_VALUES": false
            },
            "sample_history": [],
            "sampling_time": "2023-12-13T10:38:02.099804",
            "user_variable_name": "sql_df_ovxd",
            "variable_name": "sql_df_ovxd"
          },
          "ec8494ce-26f0-4668-b15e-0ab2d16d2f43": {
            "applied_filters": [],
            "dataframe_info": {
              "default_index_used": true,
              "orig_num_cols": 1,
              "orig_num_rows": 5,
              "orig_size_bytes": 80,
              "truncated_num_cols": 1,
              "truncated_num_rows": 5,
              "truncated_size_bytes": 80,
              "truncated_string_columns": []
            },
            "display_id": "ec8494ce-26f0-4668-b15e-0ab2d16d2f43",
            "dx_settings": {
              "ALLOW_NOTEABLE_ATTRS": true,
              "COLUMN_SAMPLING_METHOD": "outer",
              "DB_LOCATION": ":memory:",
              "DEV_MODE": false,
              "DISPLAY_MAX_COLUMNS": 100,
              "DISPLAY_MAX_ROWS": 50000,
              "DISPLAY_MODE": "simple",
              "ENABLE_ASSIGNMENT": true,
              "ENABLE_DATALINK": true,
              "FLATTEN_COLUMN_VALUES": true,
              "FLATTEN_INDEX_VALUES": false,
              "GENERATE_DEX_METADATA": false,
              "HTML_TABLE_SCHEMA": false,
              "LOG_LEVEL": 30,
              "MAX_RENDER_SIZE_BYTES": 104857600,
              "MAX_STRING_LENGTH": 250,
              "NUM_PAST_SAMPLES_TRACKED": 3,
              "RANDOM_STATE": 12648430,
              "RESET_INDEX_VALUES": false,
              "ROW_SAMPLING_METHOD": "random",
              "SAMPLING_FACTOR": 0.1,
              "SAMPLING_METHOD": "random",
              "STRINGIFY_COLUMN_VALUES": true,
              "STRINGIFY_INDEX_VALUES": false
            },
            "sample_history": [],
            "sampling_time": "2023-12-13T12:55:07.370048",
            "user_variable_name": "sql_df_ovxd",
            "variable_name": "sql_df_ovxd"
          },
          "845b211c-6968-483e-80a1-7698c28b1983": {
            "applied_filters": [],
            "dataframe_info": {
              "default_index_used": true,
              "orig_num_cols": 1,
              "orig_num_rows": 5,
              "orig_size_bytes": 80,
              "truncated_num_cols": 1,
              "truncated_num_rows": 5,
              "truncated_size_bytes": 80,
              "truncated_string_columns": []
            },
            "display_id": "845b211c-6968-483e-80a1-7698c28b1983",
            "dx_settings": {
              "ALLOW_NOTEABLE_ATTRS": true,
              "COLUMN_SAMPLING_METHOD": "outer",
              "DB_LOCATION": ":memory:",
              "DEV_MODE": false,
              "DISPLAY_MAX_COLUMNS": 100,
              "DISPLAY_MAX_ROWS": 50000,
              "DISPLAY_MODE": "simple",
              "ENABLE_ASSIGNMENT": true,
              "ENABLE_DATALINK": true,
              "FLATTEN_COLUMN_VALUES": true,
              "FLATTEN_INDEX_VALUES": false,
              "GENERATE_DEX_METADATA": false,
              "HTML_TABLE_SCHEMA": false,
              "LOG_LEVEL": 30,
              "MAX_RENDER_SIZE_BYTES": 104857600,
              "MAX_STRING_LENGTH": 250,
              "NUM_PAST_SAMPLES_TRACKED": 3,
              "RANDOM_STATE": 12648430,
              "RESET_INDEX_VALUES": false,
              "ROW_SAMPLING_METHOD": "random",
              "SAMPLING_FACTOR": 0.1,
              "SAMPLING_METHOD": "random",
              "STRINGIFY_COLUMN_VALUES": true,
              "STRINGIFY_INDEX_VALUES": false
            },
            "sample_history": [],
            "sampling_time": "2023-12-13T13:01:44.215124",
            "user_variable_name": "sql_df_ovxd",
            "variable_name": "sql_df_ovxd"
          }
        }
      },
      "execution_count": null,
      "source": "SELECT list.element AS unpacked_keywords\nFROM  public_job_listings.data_nerd_jobs, UNNEST (keywords_all.list) AS  list\nLIMIT 5;",
      "outputs": []
    },
    {
      "id": "5c618083-3965-4ddf-ae31-c2817e0975b2",
      "cell_type": "markdown",
      "source": "## Bar Graph of Top 10 Skills\nThis graph visualizes the frequency of the top 10 skills found in the job listings.",
      "metadata": {
        "noteable": {
          "cell_type": "markdown"
        }
      }
    },
    {
      "id": "a3c5de7a-c77e-4afa-981b-1ea3ee363a6d",
      "cell_type": "code",
      "metadata": {
        "noteable": {
          "assign_results_to": "sql_df_jtsj",
          "cell_type": "sql",
          "db_connection": "@81bbd42db3724191a3fc03e3b17e2d77",
          "output_collection_id": "510da6a8-26a2-4e47-badd-e69f62c9756d"
        },
        "ExecuteTime": {
          "end_time": "2023-12-13T13:01:45.632084+00:00",
          "start_time": "2023-12-13T13:01:44.378653+00:00"
        },
        "datalink": {
          "4fc5de34-2b07-4c7b-b7c8-6903895ce6d0": {
            "applied_filters": [],
            "dataframe_info": {
              "default_index_used": true,
              "orig_num_cols": 2,
              "orig_num_rows": 10,
              "orig_size_bytes": 240,
              "truncated_num_cols": 2,
              "truncated_num_rows": 10,
              "truncated_size_bytes": 240,
              "truncated_string_columns": []
            },
            "display_id": "4fc5de34-2b07-4c7b-b7c8-6903895ce6d0",
            "dx_settings": {
              "ALLOW_NOTEABLE_ATTRS": true,
              "COLUMN_SAMPLING_METHOD": "outer",
              "DB_LOCATION": ":memory:",
              "DEV_MODE": false,
              "DISPLAY_MAX_COLUMNS": 100,
              "DISPLAY_MAX_ROWS": 50000,
              "DISPLAY_MODE": "simple",
              "ENABLE_ASSIGNMENT": true,
              "ENABLE_DATALINK": true,
              "FLATTEN_COLUMN_VALUES": true,
              "FLATTEN_INDEX_VALUES": false,
              "GENERATE_DEX_METADATA": false,
              "HTML_TABLE_SCHEMA": false,
              "LOG_LEVEL": 30,
              "MAX_RENDER_SIZE_BYTES": 104857600,
              "MAX_STRING_LENGTH": 250,
              "NUM_PAST_SAMPLES_TRACKED": 3,
              "RANDOM_STATE": 12648430,
              "RESET_INDEX_VALUES": false,
              "ROW_SAMPLING_METHOD": "random",
              "SAMPLING_FACTOR": 0.1,
              "SAMPLING_METHOD": "random",
              "STRINGIFY_COLUMN_VALUES": true,
              "STRINGIFY_INDEX_VALUES": false
            },
            "sample_history": [],
            "sampling_time": "2023-12-13T10:42:26.791395",
            "user_variable_name": "sql_df_jtsj",
            "variable_name": "sql_df_jtsj"
          },
          "069028b2-06bc-419c-8d60-38c00be7d388": {
            "applied_filters": [],
            "dataframe_info": {
              "default_index_used": true,
              "orig_num_cols": 2,
              "orig_num_rows": 10,
              "orig_size_bytes": 240,
              "truncated_num_cols": 2,
              "truncated_num_rows": 10,
              "truncated_size_bytes": 240,
              "truncated_string_columns": []
            },
            "display_id": "069028b2-06bc-419c-8d60-38c00be7d388",
            "dx_settings": {
              "ALLOW_NOTEABLE_ATTRS": true,
              "COLUMN_SAMPLING_METHOD": "outer",
              "DB_LOCATION": ":memory:",
              "DEV_MODE": false,
              "DISPLAY_MAX_COLUMNS": 100,
              "DISPLAY_MAX_ROWS": 50000,
              "DISPLAY_MODE": "simple",
              "ENABLE_ASSIGNMENT": true,
              "ENABLE_DATALINK": true,
              "FLATTEN_COLUMN_VALUES": true,
              "FLATTEN_INDEX_VALUES": false,
              "GENERATE_DEX_METADATA": false,
              "HTML_TABLE_SCHEMA": false,
              "LOG_LEVEL": 30,
              "MAX_RENDER_SIZE_BYTES": 104857600,
              "MAX_STRING_LENGTH": 250,
              "NUM_PAST_SAMPLES_TRACKED": 3,
              "RANDOM_STATE": 12648430,
              "RESET_INDEX_VALUES": false,
              "ROW_SAMPLING_METHOD": "random",
              "SAMPLING_FACTOR": 0.1,
              "SAMPLING_METHOD": "random",
              "STRINGIFY_COLUMN_VALUES": true,
              "STRINGIFY_INDEX_VALUES": false
            },
            "sample_history": [],
            "sampling_time": "2023-12-13T12:55:08.909733",
            "user_variable_name": "sql_df_jtsj",
            "variable_name": "sql_df_jtsj"
          },
          "7056bb26-d3f1-4558-ac6f-19847fb400ad": {
            "applied_filters": [],
            "dataframe_info": {
              "default_index_used": true,
              "orig_num_cols": 2,
              "orig_num_rows": 10,
              "orig_size_bytes": 240,
              "truncated_num_cols": 2,
              "truncated_num_rows": 10,
              "truncated_size_bytes": 240,
              "truncated_string_columns": []
            },
            "display_id": "7056bb26-d3f1-4558-ac6f-19847fb400ad",
            "dx_settings": {
              "ALLOW_NOTEABLE_ATTRS": true,
              "COLUMN_SAMPLING_METHOD": "outer",
              "DB_LOCATION": ":memory:",
              "DEV_MODE": false,
              "DISPLAY_MAX_COLUMNS": 100,
              "DISPLAY_MAX_ROWS": 50000,
              "DISPLAY_MODE": "simple",
              "ENABLE_ASSIGNMENT": true,
              "ENABLE_DATALINK": true,
              "FLATTEN_COLUMN_VALUES": true,
              "FLATTEN_INDEX_VALUES": false,
              "GENERATE_DEX_METADATA": false,
              "HTML_TABLE_SCHEMA": false,
              "LOG_LEVEL": 30,
              "MAX_RENDER_SIZE_BYTES": 104857600,
              "MAX_STRING_LENGTH": 250,
              "NUM_PAST_SAMPLES_TRACKED": 3,
              "RANDOM_STATE": 12648430,
              "RESET_INDEX_VALUES": false,
              "ROW_SAMPLING_METHOD": "random",
              "SAMPLING_FACTOR": 0.1,
              "SAMPLING_METHOD": "random",
              "STRINGIFY_COLUMN_VALUES": true,
              "STRINGIFY_INDEX_VALUES": false
            },
            "sample_history": [],
            "sampling_time": "2023-12-13T13:01:45.474246",
            "user_variable_name": "sql_df_jtsj",
            "variable_name": "sql_df_jtsj"
          }
        }
      },
      "execution_count": null,
      "source": "SELECT list.element AS skill, COUNT(*) AS frequency\nFROM public_job_listings.data_nerd_jobs, UNNEST(keywords_all.list) AS list\nGROUP BY list.element\nORDER BY frequency DESC\nLIMIT 10;",
      "outputs": []
    },
    {
      "id": "ffa57594-cc74-415b-8b0e-4428e3ffc8ba",
      "cell_type": "code",
      "metadata": {
        "noteable": {
          "cell_type": "code",
          "output_collection_id": "a9e247aa-36c7-4d3e-bf0d-6313244c48b1"
        },
        "ExecuteTime": {
          "end_time": "2023-12-13T13:01:46.535139+00:00",
          "start_time": "2023-12-13T13:01:45.695003+00:00"
        }
      },
      "execution_count": null,
      "source": "import seaborn as sns\nimport matplotlib.pyplot as plt\n\n# Load the data from the previous SQL query\nskill_data = sql_df_jtsj\n\n# Create the bar plot\nplt.figure(figsize=(10, 6))\nsns.barplot(x='frequency', y='skill', data=skill_data, palette='Blues_r')\nplt.title('Top 10 Skills in Job Listings')\nplt.xlabel('Frequency')\nplt.ylabel('Skill')\nplt.show()",
      "outputs": []
    },
    {
      "id": "116ea898-03aa-43c3-9e6f-8b29c955f118",
      "cell_type": "code",
      "metadata": {
        "noteable": {
          "assign_results_to": "sql_df_xnar",
          "cell_type": "sql",
          "db_connection": "@81bbd42db3724191a3fc03e3b17e2d77",
          "output_collection_id": "226beaaa-d040-4295-8800-c6f3b73873ca"
        },
        "ExecuteTime": {
          "end_time": "2023-12-13T13:01:47.988285+00:00",
          "start_time": "2023-12-13T13:01:46.688777+00:00"
        },
        "datalink": {
          "df7a3225-7ef0-40ce-85f7-99a6b44347dd": {
            "applied_filters": [],
            "dataframe_info": {
              "default_index_used": true,
              "orig_num_cols": 2,
              "orig_num_rows": 3,
              "orig_size_bytes": 72,
              "truncated_num_cols": 2,
              "truncated_num_rows": 3,
              "truncated_size_bytes": 72,
              "truncated_string_columns": []
            },
            "display_id": "df7a3225-7ef0-40ce-85f7-99a6b44347dd",
            "dx_settings": {
              "ALLOW_NOTEABLE_ATTRS": true,
              "COLUMN_SAMPLING_METHOD": "outer",
              "DB_LOCATION": ":memory:",
              "DEV_MODE": false,
              "DISPLAY_MAX_COLUMNS": 100,
              "DISPLAY_MAX_ROWS": 50000,
              "DISPLAY_MODE": "simple",
              "ENABLE_ASSIGNMENT": true,
              "ENABLE_DATALINK": true,
              "FLATTEN_COLUMN_VALUES": true,
              "FLATTEN_INDEX_VALUES": false,
              "GENERATE_DEX_METADATA": false,
              "HTML_TABLE_SCHEMA": false,
              "LOG_LEVEL": 30,
              "MAX_RENDER_SIZE_BYTES": 104857600,
              "MAX_STRING_LENGTH": 250,
              "NUM_PAST_SAMPLES_TRACKED": 3,
              "RANDOM_STATE": 12648430,
              "RESET_INDEX_VALUES": false,
              "ROW_SAMPLING_METHOD": "random",
              "SAMPLING_FACTOR": 0.1,
              "SAMPLING_METHOD": "random",
              "STRINGIFY_COLUMN_VALUES": true,
              "STRINGIFY_INDEX_VALUES": false
            },
            "sample_history": [],
            "sampling_time": "2023-12-13T10:47:50.780250",
            "user_variable_name": "sql_df_xnar",
            "variable_name": "sql_df_xnar"
          },
          "42d6bafb-7bb6-43b6-a71f-6e045fbbd7b7": {
            "applied_filters": [],
            "dataframe_info": {
              "default_index_used": true,
              "orig_num_cols": 2,
              "orig_num_rows": 3,
              "orig_size_bytes": 72,
              "truncated_num_cols": 2,
              "truncated_num_rows": 3,
              "truncated_size_bytes": 72,
              "truncated_string_columns": []
            },
            "display_id": "42d6bafb-7bb6-43b6-a71f-6e045fbbd7b7",
            "dx_settings": {
              "ALLOW_NOTEABLE_ATTRS": true,
              "COLUMN_SAMPLING_METHOD": "outer",
              "DB_LOCATION": ":memory:",
              "DEV_MODE": false,
              "DISPLAY_MAX_COLUMNS": 100,
              "DISPLAY_MAX_ROWS": 50000,
              "DISPLAY_MODE": "simple",
              "ENABLE_ASSIGNMENT": true,
              "ENABLE_DATALINK": true,
              "FLATTEN_COLUMN_VALUES": true,
              "FLATTEN_INDEX_VALUES": false,
              "GENERATE_DEX_METADATA": false,
              "HTML_TABLE_SCHEMA": false,
              "LOG_LEVEL": 30,
              "MAX_RENDER_SIZE_BYTES": 104857600,
              "MAX_STRING_LENGTH": 250,
              "NUM_PAST_SAMPLES_TRACKED": 3,
              "RANDOM_STATE": 12648430,
              "RESET_INDEX_VALUES": false,
              "ROW_SAMPLING_METHOD": "random",
              "SAMPLING_FACTOR": 0.1,
              "SAMPLING_METHOD": "random",
              "STRINGIFY_COLUMN_VALUES": true,
              "STRINGIFY_INDEX_VALUES": false
            },
            "sample_history": [],
            "sampling_time": "2023-12-13T12:55:11.279973",
            "user_variable_name": "sql_df_xnar",
            "variable_name": "sql_df_xnar"
          },
          "3857767d-a5cc-43fc-83e8-95f13d59b37a": {
            "applied_filters": [],
            "dataframe_info": {
              "default_index_used": true,
              "orig_num_cols": 2,
              "orig_num_rows": 3,
              "orig_size_bytes": 72,
              "truncated_num_cols": 2,
              "truncated_num_rows": 3,
              "truncated_size_bytes": 72,
              "truncated_string_columns": []
            },
            "display_id": "3857767d-a5cc-43fc-83e8-95f13d59b37a",
            "dx_settings": {
              "ALLOW_NOTEABLE_ATTRS": true,
              "COLUMN_SAMPLING_METHOD": "outer",
              "DB_LOCATION": ":memory:",
              "DEV_MODE": false,
              "DISPLAY_MAX_COLUMNS": 100,
              "DISPLAY_MAX_ROWS": 50000,
              "DISPLAY_MODE": "simple",
              "ENABLE_ASSIGNMENT": true,
              "ENABLE_DATALINK": true,
              "FLATTEN_COLUMN_VALUES": true,
              "FLATTEN_INDEX_VALUES": false,
              "GENERATE_DEX_METADATA": false,
              "HTML_TABLE_SCHEMA": false,
              "LOG_LEVEL": 30,
              "MAX_RENDER_SIZE_BYTES": 104857600,
              "MAX_STRING_LENGTH": 250,
              "NUM_PAST_SAMPLES_TRACKED": 3,
              "RANDOM_STATE": 12648430,
              "RESET_INDEX_VALUES": false,
              "ROW_SAMPLING_METHOD": "random",
              "SAMPLING_FACTOR": 0.1,
              "SAMPLING_METHOD": "random",
              "STRINGIFY_COLUMN_VALUES": true,
              "STRINGIFY_INDEX_VALUES": false
            },
            "sample_history": [],
            "sampling_time": "2023-12-13T13:01:47.829963",
            "user_variable_name": "sql_df_xnar",
            "variable_name": "sql_df_xnar"
          }
        }
      },
      "execution_count": null,
      "source": "SELECT job_title_final, COUNT(*) AS job_count\nFROM public_job_listings.data_nerd_jobs\nGROUP BY job_title_final\nORDER BY job_count DESC\nLIMIT 3;",
      "outputs": []
    },
    {
      "id": "b8ebdec7-ea6a-43bb-b4fb-289c0f0218cc",
      "cell_type": "code",
      "metadata": {
        "noteable": {
          "assign_results_to": "sql_df_wjqm",
          "cell_type": "sql",
          "db_connection": "@81bbd42db3724191a3fc03e3b17e2d77",
          "output_collection_id": "136ef24f-67ff-4a45-a0be-d3fd42a75c58"
        },
        "ExecuteTime": {
          "end_time": "2023-12-13T13:01:49.300155+00:00",
          "start_time": "2023-12-13T13:01:47.995930+00:00"
        },
        "datalink": {
          "e2dbd87f-aaed-41fb-ad7c-94c73b0d38d8": {
            "applied_filters": [],
            "dataframe_info": {
              "default_index_used": true,
              "orig_num_cols": 3,
              "orig_num_rows": 716,
              "orig_size_bytes": 22912,
              "truncated_num_cols": 3,
              "truncated_num_rows": 716,
              "truncated_size_bytes": 22912,
              "truncated_string_columns": []
            },
            "display_id": "e2dbd87f-aaed-41fb-ad7c-94c73b0d38d8",
            "dx_settings": {
              "ALLOW_NOTEABLE_ATTRS": true,
              "COLUMN_SAMPLING_METHOD": "outer",
              "DB_LOCATION": ":memory:",
              "DEV_MODE": false,
              "DISPLAY_MAX_COLUMNS": 100,
              "DISPLAY_MAX_ROWS": 50000,
              "DISPLAY_MODE": "simple",
              "ENABLE_ASSIGNMENT": true,
              "ENABLE_DATALINK": true,
              "FLATTEN_COLUMN_VALUES": true,
              "FLATTEN_INDEX_VALUES": false,
              "GENERATE_DEX_METADATA": false,
              "HTML_TABLE_SCHEMA": false,
              "LOG_LEVEL": 30,
              "MAX_RENDER_SIZE_BYTES": 104857600,
              "MAX_STRING_LENGTH": 250,
              "NUM_PAST_SAMPLES_TRACKED": 3,
              "RANDOM_STATE": 12648430,
              "RESET_INDEX_VALUES": false,
              "ROW_SAMPLING_METHOD": "random",
              "SAMPLING_FACTOR": 0.1,
              "SAMPLING_METHOD": "random",
              "STRINGIFY_COLUMN_VALUES": true,
              "STRINGIFY_INDEX_VALUES": false
            },
            "sample_history": [],
            "sampling_time": "2023-12-13T10:48:19.818619",
            "user_variable_name": "sql_df_wjqm",
            "variable_name": "sql_df_wjqm"
          },
          "554e6746-87a2-43cd-a026-c8b6f0f0518b": {
            "applied_filters": [],
            "dataframe_info": {
              "default_index_used": true,
              "orig_num_cols": 3,
              "orig_num_rows": 716,
              "orig_size_bytes": 22912,
              "truncated_num_cols": 3,
              "truncated_num_rows": 716,
              "truncated_size_bytes": 22912,
              "truncated_string_columns": []
            },
            "display_id": "554e6746-87a2-43cd-a026-c8b6f0f0518b",
            "dx_settings": {
              "ALLOW_NOTEABLE_ATTRS": true,
              "COLUMN_SAMPLING_METHOD": "outer",
              "DB_LOCATION": ":memory:",
              "DEV_MODE": false,
              "DISPLAY_MAX_COLUMNS": 100,
              "DISPLAY_MAX_ROWS": 50000,
              "DISPLAY_MODE": "simple",
              "ENABLE_ASSIGNMENT": true,
              "ENABLE_DATALINK": true,
              "FLATTEN_COLUMN_VALUES": true,
              "FLATTEN_INDEX_VALUES": false,
              "GENERATE_DEX_METADATA": false,
              "HTML_TABLE_SCHEMA": false,
              "LOG_LEVEL": 30,
              "MAX_RENDER_SIZE_BYTES": 104857600,
              "MAX_STRING_LENGTH": 250,
              "NUM_PAST_SAMPLES_TRACKED": 3,
              "RANDOM_STATE": 12648430,
              "RESET_INDEX_VALUES": false,
              "ROW_SAMPLING_METHOD": "random",
              "SAMPLING_FACTOR": 0.1,
              "SAMPLING_METHOD": "random",
              "STRINGIFY_COLUMN_VALUES": true,
              "STRINGIFY_INDEX_VALUES": false
            },
            "sample_history": [],
            "sampling_time": "2023-12-13T12:55:12.560149",
            "user_variable_name": "sql_df_wjqm",
            "variable_name": "sql_df_wjqm"
          },
          "eff66d10-0088-4611-b7bf-a2475b1763a1": {
            "applied_filters": [],
            "dataframe_info": {
              "default_index_used": true,
              "orig_num_cols": 3,
              "orig_num_rows": 716,
              "orig_size_bytes": 22912,
              "truncated_num_cols": 3,
              "truncated_num_rows": 716,
              "truncated_size_bytes": 22912,
              "truncated_string_columns": []
            },
            "display_id": "eff66d10-0088-4611-b7bf-a2475b1763a1",
            "dx_settings": {
              "ALLOW_NOTEABLE_ATTRS": true,
              "COLUMN_SAMPLING_METHOD": "outer",
              "DB_LOCATION": ":memory:",
              "DEV_MODE": false,
              "DISPLAY_MAX_COLUMNS": 100,
              "DISPLAY_MAX_ROWS": 50000,
              "DISPLAY_MODE": "simple",
              "ENABLE_ASSIGNMENT": true,
              "ENABLE_DATALINK": true,
              "FLATTEN_COLUMN_VALUES": true,
              "FLATTEN_INDEX_VALUES": false,
              "GENERATE_DEX_METADATA": false,
              "HTML_TABLE_SCHEMA": false,
              "LOG_LEVEL": 30,
              "MAX_RENDER_SIZE_BYTES": 104857600,
              "MAX_STRING_LENGTH": 250,
              "NUM_PAST_SAMPLES_TRACKED": 3,
              "RANDOM_STATE": 12648430,
              "RESET_INDEX_VALUES": false,
              "ROW_SAMPLING_METHOD": "random",
              "SAMPLING_FACTOR": 0.1,
              "SAMPLING_METHOD": "random",
              "STRINGIFY_COLUMN_VALUES": true,
              "STRINGIFY_INDEX_VALUES": false
            },
            "sample_history": [],
            "sampling_time": "2023-12-13T13:01:49.138312",
            "user_variable_name": "sql_df_wjqm",
            "variable_name": "sql_df_wjqm"
          }
        }
      },
      "execution_count": null,
      "source": "WITH top_titles AS (\n    SELECT job_title_final\n    FROM public_job_listings.data_nerd_jobs\n    GROUP BY job_title_final\n    ORDER BY COUNT(*) DESC\n    LIMIT 3\n)\nSELECT tt.job_title_final, list.element AS skill, COUNT(*) AS frequency\nFROM public_job_listings.data_nerd_jobs\nJOIN top_titles tt ON data_nerd_jobs.job_title_final = tt.job_title_final\nCROSS JOIN UNNEST(keywords_all.list) AS list\nGROUP BY tt.job_title_final, list.element\nORDER BY tt.job_title_final, frequency DESC;",
      "outputs": []
    },
    {
      "id": "48d039a8-4ddc-4f18-b0f3-022bdde87f15",
      "cell_type": "code",
      "metadata": {
        "noteable": {
          "cell_type": "code",
          "output_collection_id": "733257b9-4bdc-4f92-8a9e-7495f9544902"
        },
        "ExecuteTime": {
          "end_time": "2023-12-13T13:01:49.901380+00:00",
          "start_time": "2023-12-13T13:01:49.406989+00:00"
        }
      },
      "execution_count": null,
      "source": "import pandas as pd\n\n# Transforming the data to get top 5 skills for each of the top 3 job titles\ntransformed_data = sql_df_wjqm.groupby('job_title_final').apply(lambda x: x.nlargest(5, 'frequency')).reset_index(drop=True)\n\n# Plotting\nplt.figure(figsize=(12, 8))\nsns.barplot(x='frequency', y='skill', hue='job_title_final', data=transformed_data, palette='Blues_r')\nplt.title('Top 5 Skills for Top 3 Job Titles')\nplt.xlabel('Frequency')\nplt.ylabel('Skill')\nplt.legend(title='Job Title')\nplt.show()",
      "outputs": []
    },
    {
      "id": "3b9bd939-b07e-4c17-88c7-68e94471e576",
      "cell_type": "code",
      "metadata": {
        "noteable": {
          "cell_type": "code",
          "output_collection_id": "fa14b7b6-5751-4403-ac28-8cccb70d6417"
        },
        "ExecuteTime": {
          "end_time": "2023-12-13T13:01:50.586281+00:00",
          "start_time": "2023-12-13T13:01:50.073109+00:00"
        }
      },
      "execution_count": null,
      "source": "# Calculating the percentage of each skill for the top 3 job titles\ntransformed_data['percent'] = transformed_data.groupby('job_title_final')['frequency'].apply(lambda x: x / x.sum() * 100)\n\n# Plotting\nplt.figure(figsize=(12, 8))\nsns.barplot(x='percent', y='skill', hue='job_title_final', data=transformed_data, palette='Blues_r')\nplt.title('Top 5 Skills for Top 3 Job Titles (Percentage)')\nplt.xlabel('Percentage')\nplt.ylabel('Skill')\nplt.legend(title='Job Title')\nplt.show()",
      "outputs": []
    },
    {
      "id": "0ff877c7-a6fb-4892-8040-6f63deb3e9b1",
      "cell_type": "code",
      "metadata": {
        "noteable": {
          "cell_type": "code",
          "output_collection_id": "bb2da0bb-d230-4b9a-ba25-74ea1d5aea4a"
        },
        "ExecuteTime": {
          "end_time": "2023-12-13T13:01:51.495859+00:00",
          "start_time": "2023-12-13T13:01:50.835907+00:00"
        }
      },
      "execution_count": null,
      "source": "# Ensuring top 5 skills for each job title\ntransformed_data = sql_df_wjqm.groupby('job_title_final').apply(lambda x: x.nlargest(5, 'frequency')).reset_index(drop=True)\n\n# Adding missing skills for job titles with less than 5 skills\njob_titles = transformed_data['job_title_final'].unique()\nfor title in job_titles:\n    current_skills = transformed_data[transformed_data['job_title_final'] == title]['skill'].tolist()\n    if len(current_skills) < 5:\n        missing_skills = 5 - len(current_skills)\n        for i in range(missing_skills):\n            transformed_data = transformed_data.append({'job_title_final': title, 'skill': 'No additional skill', 'frequency': 0}, ignore_index=True)\n\n# Calculating the percentage of each skill for the top 3 job titles\ntransformed_data['percent'] = transformed_data.groupby('job_title_final')['frequency'].apply(lambda x: x / x.sum() * 100)\n\n# Plotting\nplt.figure(figsize=(12, 8))\nsns.barplot(x='percent', y='skill', hue='job_title_final', data=transformed_data, palette='Blues_r')\nplt.title('Top 5 Skills for Top 3 Job Titles (Percentage)')\nplt.xlabel('Percentage')\nplt.ylabel('Skill')\nplt.legend(title='Job Title')\nplt.show()",
      "outputs": []
    },
    {
      "id": "87f280f8-a282-4e99-9da6-db7ffe6878c7",
      "cell_type": "code",
      "metadata": {
        "noteable": {
          "cell_type": "code",
          "output_collection_id": "a7043a0c-d73e-4394-bc7f-b985f6917def"
        },
        "ExecuteTime": {
          "end_time": "2023-12-13T13:01:52.157974+00:00",
          "start_time": "2023-12-13T13:01:51.686263+00:00"
        }
      },
      "execution_count": null,
      "source": "# Filtering for specific skills\nselected_skills = ['sql', 'excel', 'python', 'r', 'tableau', 'power bi']\nfiltered_data = transformed_data[transformed_data['skill'].isin(selected_skills)]\n\n# Calculating the percentage of each skill for the top 3 job titles\nfiltered_data['percent'] = filtered_data.groupby('job_title_final')['frequency'].apply(lambda x: x / x.sum() * 100)\n\n# Plotting\nplt.figure(figsize=(12, 8))\nsns.barplot(x='percent', y='skill', hue='job_title_final', data=filtered_data, palette='Blues_r')\nplt.title('Selected Skills for Top 3 Job Titles (Percentage)')\nplt.xlabel('Percentage')\nplt.ylabel('Skill')\nplt.legend(title='Job Title')\nplt.show()",
      "outputs": []
    },
    {
      "id": "35fa9022-9d3a-43a8-8996-26acf634da10",
      "cell_type": "code",
      "metadata": {
        "noteable": {
          "cell_type": "code",
          "output_collection_id": "d5580193-36c3-4e2d-a56c-4354f48c0b53"
        },
        "ExecuteTime": {
          "end_time": "2023-12-13T13:01:52.741573+00:00",
          "start_time": "2023-12-13T13:01:52.331098+00:00"
        }
      },
      "execution_count": null,
      "source": "# Ensuring all selected skills are represented for each job title\nfor title in job_titles:\n    for skill in selected_skills:\n        if not ((filtered_data['job_title_final'] == title) & (filtered_data['skill'] == skill)).any():\n            filtered_data = filtered_data.append({'job_title_final': title, 'skill': skill, 'frequency': 0}, ignore_index=True)\n\n# Calculating the percentage of each skill for the top 3 job titles\nfiltered_data['percent'] = filtered_data.groupby('job_title_final')['frequency'].apply(lambda x: x / x.sum() * 100)\n\n# Plotting\nplt.figure(figsize=(12, 8))\nsns.barplot(x='percent', y='skill', hue='job_title_final', data=filtered_data, palette='Blues_r')\nplt.title('Selected Skills for Top 3 Job Titles (Percentage)')\nplt.xlabel('Percentage')\nplt.ylabel('Skill')\nplt.legend(title='Job Title')\nplt.show()",
      "outputs": []
    },
    {
      "id": "9f934478-b43e-495f-ad66-8b7741f0eca3",
      "cell_type": "code",
      "metadata": {
        "noteable": {
          "assign_results_to": "sql_df_mdrq",
          "cell_type": "sql",
          "db_connection": "@81bbd42db3724191a3fc03e3b17e2d77",
          "output_collection_id": "5536fb2e-89d9-4ae4-b5ec-c95da2694b6f"
        },
        "ExecuteTime": {
          "end_time": "2023-12-13T13:01:54.020188+00:00",
          "start_time": "2023-12-13T13:01:52.877423+00:00"
        },
        "datalink": {
          "86cd635b-7d67-45ab-93b0-ef2f7a870d6e": {
            "applied_filters": [],
            "dataframe_info": {
              "default_index_used": true,
              "orig_num_cols": 2,
              "orig_num_rows": 3,
              "orig_size_bytes": 72,
              "truncated_num_cols": 2,
              "truncated_num_rows": 3,
              "truncated_size_bytes": 72,
              "truncated_string_columns": []
            },
            "display_id": "86cd635b-7d67-45ab-93b0-ef2f7a870d6e",
            "dx_settings": {
              "ALLOW_NOTEABLE_ATTRS": true,
              "COLUMN_SAMPLING_METHOD": "outer",
              "DB_LOCATION": ":memory:",
              "DEV_MODE": false,
              "DISPLAY_MAX_COLUMNS": 100,
              "DISPLAY_MAX_ROWS": 50000,
              "DISPLAY_MODE": "simple",
              "ENABLE_ASSIGNMENT": true,
              "ENABLE_DATALINK": true,
              "FLATTEN_COLUMN_VALUES": true,
              "FLATTEN_INDEX_VALUES": false,
              "GENERATE_DEX_METADATA": false,
              "HTML_TABLE_SCHEMA": false,
              "LOG_LEVEL": 30,
              "MAX_RENDER_SIZE_BYTES": 104857600,
              "MAX_STRING_LENGTH": 250,
              "NUM_PAST_SAMPLES_TRACKED": 3,
              "RANDOM_STATE": 12648430,
              "RESET_INDEX_VALUES": false,
              "ROW_SAMPLING_METHOD": "random",
              "SAMPLING_FACTOR": 0.1,
              "SAMPLING_METHOD": "random",
              "STRINGIFY_COLUMN_VALUES": true,
              "STRINGIFY_INDEX_VALUES": false
            },
            "sample_history": [],
            "sampling_time": "2023-12-13T11:00:46.959347",
            "user_variable_name": "sql_df_mdrq",
            "variable_name": "sql_df_mdrq"
          },
          "9a8d6dcf-87ac-4c53-99b1-1b99f879dc12": {
            "applied_filters": [],
            "dataframe_info": {
              "default_index_used": true,
              "orig_num_cols": 2,
              "orig_num_rows": 3,
              "orig_size_bytes": 72,
              "truncated_num_cols": 2,
              "truncated_num_rows": 3,
              "truncated_size_bytes": 72,
              "truncated_string_columns": []
            },
            "display_id": "9a8d6dcf-87ac-4c53-99b1-1b99f879dc12",
            "dx_settings": {
              "ALLOW_NOTEABLE_ATTRS": true,
              "COLUMN_SAMPLING_METHOD": "outer",
              "DB_LOCATION": ":memory:",
              "DEV_MODE": false,
              "DISPLAY_MAX_COLUMNS": 100,
              "DISPLAY_MAX_ROWS": 50000,
              "DISPLAY_MODE": "simple",
              "ENABLE_ASSIGNMENT": true,
              "ENABLE_DATALINK": true,
              "FLATTEN_COLUMN_VALUES": true,
              "FLATTEN_INDEX_VALUES": false,
              "GENERATE_DEX_METADATA": false,
              "HTML_TABLE_SCHEMA": false,
              "LOG_LEVEL": 30,
              "MAX_RENDER_SIZE_BYTES": 104857600,
              "MAX_STRING_LENGTH": 250,
              "NUM_PAST_SAMPLES_TRACKED": 3,
              "RANDOM_STATE": 12648430,
              "RESET_INDEX_VALUES": false,
              "ROW_SAMPLING_METHOD": "random",
              "SAMPLING_FACTOR": 0.1,
              "SAMPLING_METHOD": "random",
              "STRINGIFY_COLUMN_VALUES": true,
              "STRINGIFY_INDEX_VALUES": false
            },
            "sample_history": [],
            "sampling_time": "2023-12-13T12:55:17.809660",
            "user_variable_name": "sql_df_mdrq",
            "variable_name": "sql_df_mdrq"
          },
          "5ad2c47e-53d7-46cd-9b59-edb6876b6813": {
            "applied_filters": [],
            "dataframe_info": {
              "default_index_used": true,
              "orig_num_cols": 2,
              "orig_num_rows": 3,
              "orig_size_bytes": 72,
              "truncated_num_cols": 2,
              "truncated_num_rows": 3,
              "truncated_size_bytes": 72,
              "truncated_string_columns": []
            },
            "display_id": "5ad2c47e-53d7-46cd-9b59-edb6876b6813",
            "dx_settings": {
              "ALLOW_NOTEABLE_ATTRS": true,
              "COLUMN_SAMPLING_METHOD": "outer",
              "DB_LOCATION": ":memory:",
              "DEV_MODE": false,
              "DISPLAY_MAX_COLUMNS": 100,
              "DISPLAY_MAX_ROWS": 50000,
              "DISPLAY_MODE": "simple",
              "ENABLE_ASSIGNMENT": true,
              "ENABLE_DATALINK": true,
              "FLATTEN_COLUMN_VALUES": true,
              "FLATTEN_INDEX_VALUES": false,
              "GENERATE_DEX_METADATA": false,
              "HTML_TABLE_SCHEMA": false,
              "LOG_LEVEL": 30,
              "MAX_RENDER_SIZE_BYTES": 104857600,
              "MAX_STRING_LENGTH": 250,
              "NUM_PAST_SAMPLES_TRACKED": 3,
              "RANDOM_STATE": 12648430,
              "RESET_INDEX_VALUES": false,
              "ROW_SAMPLING_METHOD": "random",
              "SAMPLING_FACTOR": 0.1,
              "SAMPLING_METHOD": "random",
              "STRINGIFY_COLUMN_VALUES": true,
              "STRINGIFY_INDEX_VALUES": false
            },
            "sample_history": [],
            "sampling_time": "2023-12-13T13:01:53.861678",
            "user_variable_name": "sql_df_mdrq",
            "variable_name": "sql_df_mdrq"
          }
        }
      },
      "execution_count": null,
      "source": "SELECT job_title_final, COUNT(*) AS count\nFROM public_job_listings.data_nerd_jobs\nGROUP BY job_title_final\nORDER BY count DESC\nLIMIT 3;",
      "outputs": []
    },
    {
      "id": "5401912b-38f0-45d1-b4d6-5cd50b49d787",
      "cell_type": "code",
      "metadata": {
        "noteable": {
          "cell_type": "code",
          "output_collection_id": "424026aa-fa9f-491d-9d2e-b2613ec7b3aa"
        },
        "ExecuteTime": {
          "end_time": "2023-12-13T13:01:54.375946+00:00",
          "start_time": "2023-12-13T13:01:54.024397+00:00"
        }
      },
      "execution_count": null,
      "source": "import matplotlib.pyplot as plt\nimport seaborn as sns\n\n# Load the data from the previous SQL query\njob_title_data = sql_df_mdrq\n\n# Create the bar plot\nplt.figure(figsize=(10, 6))\nsns.barplot(x='count', y='job_title_final', data=job_title_data, palette='Blues_r')\nplt.title('Top 3 Job Titles in Job Listings')\nplt.xlabel('Count')\nplt.ylabel('Job Title')\nplt.show()",
      "outputs": []
    },
    {
      "id": "5c7d50d4-b73c-41ec-bef5-faa98adca4a5",
      "cell_type": "code",
      "metadata": {
        "noteable": {
          "assign_results_to": "sql_df_xley",
          "cell_type": "sql",
          "db_connection": "@81bbd42db3724191a3fc03e3b17e2d77",
          "output_collection_id": "5132a5ca-2116-4429-94ce-4ea7d3e9a429"
        },
        "ExecuteTime": {
          "end_time": "2023-12-13T13:01:55.715959+00:00",
          "start_time": "2023-12-13T13:01:54.563258+00:00"
        },
        "datalink": {
          "44606d7c-1dd5-4d98-a41e-9503676e495d": {
            "applied_filters": [],
            "dataframe_info": {
              "default_index_used": true,
              "orig_num_cols": 3,
              "orig_num_rows": 716,
              "orig_size_bytes": 22912,
              "truncated_num_cols": 3,
              "truncated_num_rows": 716,
              "truncated_size_bytes": 22912,
              "truncated_string_columns": []
            },
            "display_id": "44606d7c-1dd5-4d98-a41e-9503676e495d",
            "dx_settings": {
              "ALLOW_NOTEABLE_ATTRS": true,
              "COLUMN_SAMPLING_METHOD": "outer",
              "DB_LOCATION": ":memory:",
              "DEV_MODE": false,
              "DISPLAY_MAX_COLUMNS": 100,
              "DISPLAY_MAX_ROWS": 50000,
              "DISPLAY_MODE": "simple",
              "ENABLE_ASSIGNMENT": true,
              "ENABLE_DATALINK": true,
              "FLATTEN_COLUMN_VALUES": true,
              "FLATTEN_INDEX_VALUES": false,
              "GENERATE_DEX_METADATA": false,
              "HTML_TABLE_SCHEMA": false,
              "LOG_LEVEL": 30,
              "MAX_RENDER_SIZE_BYTES": 104857600,
              "MAX_STRING_LENGTH": 250,
              "NUM_PAST_SAMPLES_TRACKED": 3,
              "RANDOM_STATE": 12648430,
              "RESET_INDEX_VALUES": false,
              "ROW_SAMPLING_METHOD": "random",
              "SAMPLING_FACTOR": 0.1,
              "SAMPLING_METHOD": "random",
              "STRINGIFY_COLUMN_VALUES": true,
              "STRINGIFY_INDEX_VALUES": false
            },
            "sample_history": [],
            "sampling_time": "2023-12-13T11:03:19.057780",
            "user_variable_name": "sql_df_wjqm",
            "variable_name": "sql_df_wjqm"
          },
          "2839fa42-21e5-4325-a2be-8b6d62c884ba": {
            "applied_filters": [],
            "dataframe_info": {
              "default_index_used": true,
              "orig_num_cols": 3,
              "orig_num_rows": 716,
              "orig_size_bytes": 22912,
              "truncated_num_cols": 3,
              "truncated_num_rows": 716,
              "truncated_size_bytes": 22912,
              "truncated_string_columns": []
            },
            "display_id": "2839fa42-21e5-4325-a2be-8b6d62c884ba",
            "dx_settings": {
              "ALLOW_NOTEABLE_ATTRS": true,
              "COLUMN_SAMPLING_METHOD": "outer",
              "DB_LOCATION": ":memory:",
              "DEV_MODE": false,
              "DISPLAY_MAX_COLUMNS": 100,
              "DISPLAY_MAX_ROWS": 50000,
              "DISPLAY_MODE": "simple",
              "ENABLE_ASSIGNMENT": true,
              "ENABLE_DATALINK": true,
              "FLATTEN_COLUMN_VALUES": true,
              "FLATTEN_INDEX_VALUES": false,
              "GENERATE_DEX_METADATA": false,
              "HTML_TABLE_SCHEMA": false,
              "LOG_LEVEL": 30,
              "MAX_RENDER_SIZE_BYTES": 104857600,
              "MAX_STRING_LENGTH": 250,
              "NUM_PAST_SAMPLES_TRACKED": 3,
              "RANDOM_STATE": 12648430,
              "RESET_INDEX_VALUES": false,
              "ROW_SAMPLING_METHOD": "random",
              "SAMPLING_FACTOR": 0.1,
              "SAMPLING_METHOD": "random",
              "STRINGIFY_COLUMN_VALUES": true,
              "STRINGIFY_INDEX_VALUES": false
            },
            "sample_history": [],
            "sampling_time": "2023-12-13T12:55:19.407794",
            "user_variable_name": "sql_df_wjqm",
            "variable_name": "sql_df_wjqm"
          },
          "88eac662-49f1-47f0-a459-611e055a4237": {
            "applied_filters": [],
            "dataframe_info": {
              "default_index_used": true,
              "orig_num_cols": 3,
              "orig_num_rows": 716,
              "orig_size_bytes": 22912,
              "truncated_num_cols": 3,
              "truncated_num_rows": 716,
              "truncated_size_bytes": 22912,
              "truncated_string_columns": []
            },
            "display_id": "88eac662-49f1-47f0-a459-611e055a4237",
            "dx_settings": {
              "ALLOW_NOTEABLE_ATTRS": true,
              "COLUMN_SAMPLING_METHOD": "outer",
              "DB_LOCATION": ":memory:",
              "DEV_MODE": false,
              "DISPLAY_MAX_COLUMNS": 100,
              "DISPLAY_MAX_ROWS": 50000,
              "DISPLAY_MODE": "simple",
              "ENABLE_ASSIGNMENT": true,
              "ENABLE_DATALINK": true,
              "FLATTEN_COLUMN_VALUES": true,
              "FLATTEN_INDEX_VALUES": false,
              "GENERATE_DEX_METADATA": false,
              "HTML_TABLE_SCHEMA": false,
              "LOG_LEVEL": 30,
              "MAX_RENDER_SIZE_BYTES": 104857600,
              "MAX_STRING_LENGTH": 250,
              "NUM_PAST_SAMPLES_TRACKED": 3,
              "RANDOM_STATE": 12648430,
              "RESET_INDEX_VALUES": false,
              "ROW_SAMPLING_METHOD": "random",
              "SAMPLING_FACTOR": 0.1,
              "SAMPLING_METHOD": "random",
              "STRINGIFY_COLUMN_VALUES": true,
              "STRINGIFY_INDEX_VALUES": false
            },
            "sample_history": [],
            "sampling_time": "2023-12-13T13:01:55.555445",
            "user_variable_name": "sql_df_wjqm",
            "variable_name": "sql_df_wjqm"
          }
        }
      },
      "execution_count": null,
      "source": "WITH top_titles AS (\n    SELECT job_title_final\n    FROM public_job_listings.data_nerd_jobs\n    GROUP BY job_title_final\n    ORDER BY COUNT(*) DESC\n    LIMIT 3\n)\nSELECT tt.job_title_final, list.element AS skill, COUNT(*) AS frequency\nFROM public_job_listings.data_nerd_jobs\nJOIN top_titles tt ON data_nerd_jobs.job_title_final = tt.job_title_final\nCROSS JOIN UNNEST(keywords_all.list) AS list\nGROUP BY tt.job_title_final, list.element\nORDER BY tt.job_title_final, frequency DESC;",
      "outputs": []
    },
    {
      "id": "5f3c396d-cdaa-45ae-9873-865993fec9fb",
      "cell_type": "code",
      "metadata": {
        "noteable": {
          "cell_type": "code",
          "output_collection_id": "3b64ac67-bbf8-4f45-888d-1eea6a911d31"
        },
        "ExecuteTime": {
          "end_time": "2023-12-13T13:01:59.379782+00:00",
          "start_time": "2023-12-13T13:01:55.732858+00:00"
        }
      },
      "execution_count": null,
      "source": "# Calculating the percentage of each skill for the top 3 job titles\nskill_data = sql_df_xley\nskill_data['percent'] = skill_data.groupby('job_title_final')['frequency'].apply(lambda x: x / x.sum() * 100)\n\n# Plotting\nplt.figure(figsize=(12, 8))\nsns.barplot(x='percent', y='skill', hue='job_title_final', data=skill_data, palette='Blues_r')\nplt.title('Most Demanded Skills in Percentage for Top 3 Job Titles')\nplt.xlabel('Percentage')\nplt.ylabel('Skill')\nplt.legend(title='Job Title')\nplt.show()",
      "outputs": []
    },
    {
      "id": "d658b038-6e7d-4189-bbb4-7f817123d157",
      "cell_type": "code",
      "metadata": {
        "noteable": {
          "cell_type": "code",
          "output_collection_id": "1eaca5b8-5ed7-4b3c-bf4d-e5db2fa2d9ea"
        },
        "ExecuteTime": {
          "end_time": "2023-12-13T13:02:00.210699+00:00",
          "start_time": "2023-12-13T13:01:59.698016+00:00"
        }
      },
      "execution_count": null,
      "source": "# Keeping only the top 6 skills for each job title\ntop_skills_data = skill_data.groupby('job_title_final').apply(lambda x: x.nlargest(6, 'percent')).reset_index(drop=True)\n\n# Plotting\nplt.figure(figsize=(12, 8))\nsns.barplot(x='percent', y='skill', hue='job_title_final', data=top_skills_data, palette='Blues_r')\nplt.title('Top 6 Most Demanded Skills in Percentage for Top 3 Job Titles')\nplt.xlabel('Percentage')\nplt.ylabel('Skill')\nplt.legend(title='Job Title')\nplt.show()",
      "outputs": []
    },
    {
      "id": "57ca3d1a-7186-457e-ac8d-89af1cb48b5b",
      "cell_type": "code",
      "metadata": {
        "noteable": {
          "cell_type": "code",
          "output_collection_id": "e9e777ed-2a3e-4b0a-b038-4ba5aae9e2fc"
        },
        "ExecuteTime": {
          "end_time": "2023-12-13T13:02:00.787290+00:00",
          "start_time": "2023-12-13T13:02:00.361010+00:00"
        }
      },
      "execution_count": null,
      "source": "# Filtering for specific skills\nselected_skills = ['sql', 'excel', 'python', 'r', 'tableau', 'power bi']\nfiltered_skills_data = top_skills_data[top_skills_data['skill'].isin(selected_skills)]\n\n# Plotting\nplt.figure(figsize=(12, 8))\nsns.barplot(x='percent', y='skill', hue='job_title_final', data=filtered_skills_data, palette='Blues_r')\nplt.title('Selected Skills in Percentage for Top 3 Job Titles')\nplt.xlabel('Percentage')\nplt.ylabel('Skill')\nplt.legend(title='Job Title')\nplt.show()",
      "outputs": []
    },
    {
      "id": "053b8f1b-33e9-4f24-bbd6-eda3bec9179c",
      "cell_type": "code",
      "metadata": {
        "noteable": {
          "cell_type": "code",
          "output_collection_id": "44f1f780-a45b-4f52-9f56-9488bc68503c"
        },
        "ExecuteTime": {
          "end_time": "2023-12-13T13:02:01.742964+00:00",
          "start_time": "2023-12-13T13:02:01.292049+00:00"
        }
      },
      "execution_count": null,
      "source": "# Ensuring all selected skills are represented for each job title\nfor title in job_titles:\n    for skill in selected_skills:\n        if not ((filtered_skills_data['job_title_final'] == title) & (filtered_skills_data['skill'] == skill)).any():\n            filtered_skills_data = filtered_skills_data.append({'job_title_final': title, 'skill': skill, 'frequency': 0}, ignore_index=True)\n\n# Calculating the percentage of each skill for the top 3 job titles\nfiltered_skills_data['percent'] = filtered_skills_data.groupby('job_title_final')['frequency'].apply(lambda x: x / x.sum() * 100)\n\n# Plotting\nplt.figure(figsize=(12, 8))\nsns.barplot(x='percent', y='skill', hue='job_title_final', data=filtered_skills_data, palette='Blues_r')\nplt.title('Selected Skills in Percentage for Top 3 Job Titles (Adjusted)')\nplt.xlabel('Percentage')\nplt.ylabel('Skill')\nplt.legend(title='Job Title')\nplt.show()",
      "outputs": []
    },
    {
      "id": "19786435-94f3-48b4-9e7f-7217b48fb120",
      "cell_type": "code",
      "metadata": {
        "noteable": {
          "assign_results_to": "sql_df_rwct",
          "cell_type": "sql",
          "db_connection": "@81bbd42db3724191a3fc03e3b17e2d77",
          "output_collection_id": "b8d6625b-7202-4e73-91e9-648919c8464e"
        },
        "ExecuteTime": {
          "end_time": "2023-12-13T13:02:03.245344+00:00",
          "start_time": "2023-12-13T13:02:01.935203+00:00"
        },
        "datalink": {
          "e59c93cc-8521-4fca-93a0-c30d48afd69a": {
            "applied_filters": [],
            "dataframe_info": {
              "default_index_used": true,
              "orig_num_cols": 3,
              "orig_num_rows": 18,
              "orig_size_bytes": 576,
              "truncated_num_cols": 3,
              "truncated_num_rows": 18,
              "truncated_size_bytes": 576,
              "truncated_string_columns": []
            },
            "display_id": "e59c93cc-8521-4fca-93a0-c30d48afd69a",
            "dx_settings": {
              "ALLOW_NOTEABLE_ATTRS": true,
              "COLUMN_SAMPLING_METHOD": "outer",
              "DB_LOCATION": ":memory:",
              "DEV_MODE": false,
              "DISPLAY_MAX_COLUMNS": 100,
              "DISPLAY_MAX_ROWS": 50000,
              "DISPLAY_MODE": "simple",
              "ENABLE_ASSIGNMENT": true,
              "ENABLE_DATALINK": true,
              "FLATTEN_COLUMN_VALUES": true,
              "FLATTEN_INDEX_VALUES": false,
              "GENERATE_DEX_METADATA": false,
              "HTML_TABLE_SCHEMA": false,
              "LOG_LEVEL": 30,
              "MAX_RENDER_SIZE_BYTES": 104857600,
              "MAX_STRING_LENGTH": 250,
              "NUM_PAST_SAMPLES_TRACKED": 3,
              "RANDOM_STATE": 12648430,
              "RESET_INDEX_VALUES": false,
              "ROW_SAMPLING_METHOD": "random",
              "SAMPLING_FACTOR": 0.1,
              "SAMPLING_METHOD": "random",
              "STRINGIFY_COLUMN_VALUES": true,
              "STRINGIFY_INDEX_VALUES": false
            },
            "sample_history": [],
            "sampling_time": "2023-12-13T11:14:07.805795",
            "user_variable_name": "sql_df_rwct",
            "variable_name": "sql_df_rwct"
          },
          "0b056cb0-d686-4948-b750-1cac55e63bc0": {
            "applied_filters": [],
            "dataframe_info": {
              "default_index_used": true,
              "orig_num_cols": 3,
              "orig_num_rows": 18,
              "orig_size_bytes": 576,
              "truncated_num_cols": 3,
              "truncated_num_rows": 18,
              "truncated_size_bytes": 576,
              "truncated_string_columns": []
            },
            "display_id": "0b056cb0-d686-4948-b750-1cac55e63bc0",
            "dx_settings": {
              "ALLOW_NOTEABLE_ATTRS": true,
              "COLUMN_SAMPLING_METHOD": "outer",
              "DB_LOCATION": ":memory:",
              "DEV_MODE": false,
              "DISPLAY_MAX_COLUMNS": 100,
              "DISPLAY_MAX_ROWS": 50000,
              "DISPLAY_MODE": "simple",
              "ENABLE_ASSIGNMENT": true,
              "ENABLE_DATALINK": true,
              "FLATTEN_COLUMN_VALUES": true,
              "FLATTEN_INDEX_VALUES": false,
              "GENERATE_DEX_METADATA": false,
              "HTML_TABLE_SCHEMA": false,
              "LOG_LEVEL": 30,
              "MAX_RENDER_SIZE_BYTES": 104857600,
              "MAX_STRING_LENGTH": 250,
              "NUM_PAST_SAMPLES_TRACKED": 3,
              "RANDOM_STATE": 12648430,
              "RESET_INDEX_VALUES": false,
              "ROW_SAMPLING_METHOD": "random",
              "SAMPLING_FACTOR": 0.1,
              "SAMPLING_METHOD": "random",
              "STRINGIFY_COLUMN_VALUES": true,
              "STRINGIFY_INDEX_VALUES": false
            },
            "sample_history": [],
            "sampling_time": "2023-12-13T12:55:26.472773",
            "user_variable_name": "sql_df_rwct",
            "variable_name": "sql_df_rwct"
          },
          "5ee467e8-0e62-45db-982c-5840419aa0ec": {
            "applied_filters": [],
            "dataframe_info": {
              "default_index_used": true,
              "orig_num_cols": 3,
              "orig_num_rows": 18,
              "orig_size_bytes": 576,
              "truncated_num_cols": 3,
              "truncated_num_rows": 18,
              "truncated_size_bytes": 576,
              "truncated_string_columns": []
            },
            "display_id": "5ee467e8-0e62-45db-982c-5840419aa0ec",
            "dx_settings": {
              "ALLOW_NOTEABLE_ATTRS": true,
              "COLUMN_SAMPLING_METHOD": "outer",
              "DB_LOCATION": ":memory:",
              "DEV_MODE": false,
              "DISPLAY_MAX_COLUMNS": 100,
              "DISPLAY_MAX_ROWS": 50000,
              "DISPLAY_MODE": "simple",
              "ENABLE_ASSIGNMENT": true,
              "ENABLE_DATALINK": true,
              "FLATTEN_COLUMN_VALUES": true,
              "FLATTEN_INDEX_VALUES": false,
              "GENERATE_DEX_METADATA": false,
              "HTML_TABLE_SCHEMA": false,
              "LOG_LEVEL": 30,
              "MAX_RENDER_SIZE_BYTES": 104857600,
              "MAX_STRING_LENGTH": 250,
              "NUM_PAST_SAMPLES_TRACKED": 3,
              "RANDOM_STATE": 12648430,
              "RESET_INDEX_VALUES": false,
              "ROW_SAMPLING_METHOD": "random",
              "SAMPLING_FACTOR": 0.1,
              "SAMPLING_METHOD": "random",
              "STRINGIFY_COLUMN_VALUES": true,
              "STRINGIFY_INDEX_VALUES": false
            },
            "sample_history": [],
            "sampling_time": "2023-12-13T13:02:03.086249",
            "user_variable_name": "sql_df_rwct",
            "variable_name": "sql_df_rwct"
          }
        },
        "scrolled": true
      },
      "execution_count": null,
      "source": "SELECT job_title_final, list.element AS skill, COUNT(*) AS count\nFROM public_job_listings.data_nerd_jobs\nJOIN UNNEST(keywords_all.list) AS list\nWHERE job_title_final IN ('Data Analyst', 'Data Engineer', 'Data Scientist') AND list.element IN ('sql', 'excel', 'python', 'tableau', 'r', 'power bi')\nGROUP BY job_title_final, list.element\nORDER BY job_title_final, list.element;",
      "outputs": []
    },
    {
      "id": "8e4747e0-af3d-465e-9afc-e979191102fb",
      "cell_type": "markdown",
      "source": "## Bar Graph of Most Demanded Skills in Percentage for Top 3 Job Titles\nThis graph shows the distribution of skills in percentage for the top three job titles, providing insights into the most demanded skills for each title.",
      "metadata": {
        "noteable": {
          "cell_type": "markdown"
        }
      }
    },
    {
      "id": "2d5feb12-d86f-4fbc-99c3-6e1669e73963",
      "cell_type": "code",
      "metadata": {
        "noteable": {
          "cell_type": "code",
          "output_collection_id": "491aeb8e-1294-486f-b6ca-0d4bc099b836"
        },
        "ExecuteTime": {
          "end_time": "2023-12-13T13:02:03.872750+00:00",
          "start_time": "2023-12-13T13:02:03.278186+00:00"
        }
      },
      "execution_count": null,
      "source": "# Summing up the counts for each skill across all job titles\ntotal_skill_counts = skill_count_data.groupby('skill')['count'].sum().reset_index()\n\n# Merging with the percentage data\nmerged_data = skill_count_data.merge(total_skill_counts, on='skill', suffixes=('', '_total'))\n\n# Sorting by total count\nmerged_data = merged_data.sort_values(by='count_total', ascending=False)\n\n# Plotting\nplt.figure(figsize=(12, 8))\nsns.barplot(x='percent', y='skill', hue='job_title_final', data=merged_data, palette='Blues_r')\nplt.title('Percentage of Selected Skills in Job Postings (Ordered by Total Demand)')\nplt.xlabel('Percentage')\nplt.ylabel('Skill')\nplt.legend(title='Job Title')\nplt.show()",
      "outputs": []
    }
  ]
}