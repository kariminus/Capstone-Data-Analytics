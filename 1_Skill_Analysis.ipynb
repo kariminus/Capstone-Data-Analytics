{
  "nbformat": 4,
  "nbformat_minor": 5,
  "metadata": {
    "noteable-chatgpt": {
      "create_notebook": {
        "openai_conversation_id": "4ee20473-c4d8-5ef3-95b1-55bb07e7955f",
        "openai_ephemeral_user_id": "304c6152-ad2f-5383-ab4b-fc7ce3ed78a1",
        "openai_subdivision1_iso_code": "FR-ARA"
      }
    },
    "kernel_info": {
      "name": "python3"
    },
    "kernelspec": {
      "display_name": "Python 3.9",
      "identifier": "legacy",
      "language": "python",
      "language_version": "3.9",
      "name": "python3"
    },
    "selected_hardware_size": "small"
  },
  "cells": [
    {
      "id": "8e4747e0-af3d-465e-9afc-e979191102fb",
      "cell_type": "markdown",
      "source": "## Bar Graph of Most Demanded Skills in Percentage for Top 3 Job Titles\nThis graph shows the distribution of skills in percentage for the top three job titles, providing insights into the most demanded skills for each title.",
      "metadata": {
        "noteable": {
          "cell_type": "markdown"
        }
      }
    },
    {
      "id": "25eee0dc-0fac-479e-9c9f-1eb45026b13b",
      "cell_type": "markdown",
      "source": "## Bar Graph of Top 3 Job Titles\nThis graph visualizes the three most popular job titles in the job listings, based on their frequency.",
      "metadata": {
        "noteable": {
          "cell_type": "markdown"
        }
      }
    },
    {
      "id": "4963ce5b-8102-4986-ae41-7c5884d0b711",
      "cell_type": "markdown",
      "source": "## Bar Graph of Top 5 Skills for Top 3 Job Titles\nThis graph displays the top 5 skills for each of the top 3 job titles based on their frequency in the job listings.",
      "metadata": {
        "noteable": {
          "cell_type": "markdown"
        }
      }
    },
    {
      "id": "38a84286-4a26-4d86-a357-5bd11ad96eea",
      "cell_type": "code",
      "metadata": {
        "noteable": {
          "assign_results_to": "sql_df_xdua",
          "cell_type": "sql",
          "db_connection": "@81bbd42db3724191a3fc03e3b17e2d77",
          "output_collection_id": "c78a7d31-238e-4d71-b7b3-102ce6381cf2"
        },
        "ExecuteTime": {
          "end_time": "2023-12-13T08:16:46.847112+00:00",
          "start_time": "2023-12-13T08:16:45.117927+00:00"
        },
        "datalink": {
          "7d19a4a0-13a1-4abb-ba86-27925f3219bf": {
            "applied_filters": [],
            "dataframe_info": {
              "default_index_used": true,
              "orig_num_cols": 3,
              "orig_num_rows": 1,
              "orig_size_bytes": 32,
              "truncated_num_cols": 3,
              "truncated_num_rows": 1,
              "truncated_size_bytes": 32,
              "truncated_string_columns": []
            },
            "display_id": "7d19a4a0-13a1-4abb-ba86-27925f3219bf",
            "dx_settings": {
              "ALLOW_NOTEABLE_ATTRS": true,
              "COLUMN_SAMPLING_METHOD": "outer",
              "DB_LOCATION": ":memory:",
              "DEV_MODE": false,
              "DISPLAY_MAX_COLUMNS": 100,
              "DISPLAY_MAX_ROWS": 50000,
              "DISPLAY_MODE": "simple",
              "ENABLE_ASSIGNMENT": true,
              "ENABLE_DATALINK": true,
              "FLATTEN_COLUMN_VALUES": true,
              "FLATTEN_INDEX_VALUES": false,
              "GENERATE_DEX_METADATA": false,
              "HTML_TABLE_SCHEMA": false,
              "LOG_LEVEL": 30,
              "MAX_RENDER_SIZE_BYTES": 104857600,
              "MAX_STRING_LENGTH": 250,
              "NUM_PAST_SAMPLES_TRACKED": 3,
              "RANDOM_STATE": 12648430,
              "RESET_INDEX_VALUES": false,
              "ROW_SAMPLING_METHOD": "random",
              "SAMPLING_FACTOR": 0.1,
              "SAMPLING_METHOD": "random",
              "STRINGIFY_COLUMN_VALUES": true,
              "STRINGIFY_INDEX_VALUES": false
            },
            "sample_history": [],
            "sampling_time": "2023-12-13T08:16:46.685593",
            "user_variable_name": null,
            "variable_name": "unk_dataframe_8efb4e69a15e4a72a134fca98bee0ad4"
          }
        }
      },
      "execution_count": null,
      "source": "\\list",
      "outputs": []
    },
    {
      "id": "7e981de0-dc3f-4526-a232-15f07b2f3d74",
      "cell_type": "code",
      "metadata": {
        "noteable": {
          "assign_results_to": "sql_df_deoy",
          "cell_type": "sql",
          "db_connection": "@81bbd42db3724191a3fc03e3b17e2d77",
          "output_collection_id": "389b71e8-95f1-42bc-ba03-ea7843476292"
        },
        "ExecuteTime": {
          "end_time": "2023-12-13T08:18:41.303208+00:00",
          "start_time": "2023-12-13T08:18:39.588300+00:00"
        },
        "datalink": {
          "a33317ae-5afd-4dfe-bc80-3de14ca59075": {
            "applied_filters": [],
            "dataframe_info": {
              "default_index_used": true,
              "orig_num_cols": 1,
              "orig_num_rows": 100,
              "orig_size_bytes": 1600,
              "truncated_num_cols": 1,
              "truncated_num_rows": 100,
              "truncated_size_bytes": 1600,
              "truncated_string_columns": [
                "keywords_all"
              ]
            },
            "display_id": "a33317ae-5afd-4dfe-bc80-3de14ca59075",
            "dx_settings": {
              "ALLOW_NOTEABLE_ATTRS": true,
              "COLUMN_SAMPLING_METHOD": "outer",
              "DB_LOCATION": ":memory:",
              "DEV_MODE": false,
              "DISPLAY_MAX_COLUMNS": 100,
              "DISPLAY_MAX_ROWS": 50000,
              "DISPLAY_MODE": "simple",
              "ENABLE_ASSIGNMENT": true,
              "ENABLE_DATALINK": true,
              "FLATTEN_COLUMN_VALUES": true,
              "FLATTEN_INDEX_VALUES": false,
              "GENERATE_DEX_METADATA": false,
              "HTML_TABLE_SCHEMA": false,
              "LOG_LEVEL": 30,
              "MAX_RENDER_SIZE_BYTES": 104857600,
              "MAX_STRING_LENGTH": 250,
              "NUM_PAST_SAMPLES_TRACKED": 3,
              "RANDOM_STATE": 12648430,
              "RESET_INDEX_VALUES": false,
              "ROW_SAMPLING_METHOD": "random",
              "SAMPLING_FACTOR": 0.1,
              "SAMPLING_METHOD": "random",
              "STRINGIFY_COLUMN_VALUES": true,
              "STRINGIFY_INDEX_VALUES": false
            },
            "sample_history": [],
            "sampling_time": "2023-12-13T08:18:41.144786",
            "user_variable_name": "sql_df_deoy",
            "variable_name": "sql_df_deoy"
          }
        }
      },
      "execution_count": null,
      "source": "SELECT keywords_all FROM public_job_listings.data_nerd_jobs LIMIT 100;",
      "outputs": []
    },
    {
      "id": "8ae8ed7d-179a-4a11-8a08-4eac843a6466",
      "cell_type": "markdown",
      "source": "## Extracting Keywords from JSON\nExtracting the entire `keywords_all` column and processing it in Python due to SQL extraction challenges.",
      "metadata": {
        "noteable": {
          "cell_type": "markdown"
        }
      }
    },
    {
      "id": "c9ae8d55-5f45-4b24-8ab8-1edb4fe5d1fa",
      "cell_type": "code",
      "metadata": {
        "noteable": {
          "assign_results_to": "sql_df_tron",
          "cell_type": "sql",
          "db_connection": "@81bbd42db3724191a3fc03e3b17e2d77",
          "output_collection_id": "e4e12d0c-5f14-4aab-b9c4-03a33ce6649c"
        },
        "ExecuteTime": {
          "end_time": "2023-12-13T09:44:12.151289+00:00",
          "start_time": "2023-12-13T09:44:10.660644+00:00"
        },
        "datalink": {
          "c94a267b-c1a4-4978-80ef-32c7309870e0": {
            "applied_filters": [],
            "dataframe_info": {
              "default_index_used": true,
              "orig_num_cols": 1,
              "orig_num_rows": 100,
              "orig_size_bytes": 1600,
              "truncated_num_cols": 1,
              "truncated_num_rows": 100,
              "truncated_size_bytes": 1600,
              "truncated_string_columns": [
                "keywords_all"
              ]
            },
            "display_id": "c94a267b-c1a4-4978-80ef-32c7309870e0",
            "dx_settings": {
              "ALLOW_NOTEABLE_ATTRS": true,
              "COLUMN_SAMPLING_METHOD": "outer",
              "DB_LOCATION": ":memory:",
              "DEV_MODE": false,
              "DISPLAY_MAX_COLUMNS": 100,
              "DISPLAY_MAX_ROWS": 50000,
              "DISPLAY_MODE": "simple",
              "ENABLE_ASSIGNMENT": true,
              "ENABLE_DATALINK": true,
              "FLATTEN_COLUMN_VALUES": true,
              "FLATTEN_INDEX_VALUES": false,
              "GENERATE_DEX_METADATA": false,
              "HTML_TABLE_SCHEMA": false,
              "LOG_LEVEL": 30,
              "MAX_RENDER_SIZE_BYTES": 104857600,
              "MAX_STRING_LENGTH": 250,
              "NUM_PAST_SAMPLES_TRACKED": 3,
              "RANDOM_STATE": 12648430,
              "RESET_INDEX_VALUES": false,
              "ROW_SAMPLING_METHOD": "random",
              "SAMPLING_FACTOR": 0.1,
              "SAMPLING_METHOD": "random",
              "STRINGIFY_COLUMN_VALUES": true,
              "STRINGIFY_INDEX_VALUES": false
            },
            "sample_history": [],
            "sampling_time": "2023-12-13T09:44:11.993050",
            "user_variable_name": "sql_df_tron",
            "variable_name": "sql_df_tron"
          }
        }
      },
      "execution_count": null,
      "source": "SELECT keywords_all\nFROM public_job_listings.data_nerd_jobs\nLIMIT 100;",
      "outputs": []
    },
    {
      "id": "31053fac-aae8-4ff3-9c89-f4ab9b1be53d",
      "cell_type": "code",
      "metadata": {
        "noteable": {
          "assign_results_to": "sql_df_ovxd",
          "cell_type": "sql",
          "db_connection": "@81bbd42db3724191a3fc03e3b17e2d77",
          "output_collection_id": "94661de9-f783-45f2-9eeb-5677afc8a1e8"
        },
        "ExecuteTime": {
          "end_time": "2023-12-13T10:38:02.257457+00:00",
          "start_time": "2023-12-13T10:38:00.957075+00:00"
        },
        "datalink": {
          "c8664322-e9ad-41c8-88c1-f01a7b91d274": {
            "applied_filters": [],
            "dataframe_info": {
              "default_index_used": true,
              "orig_num_cols": 1,
              "orig_num_rows": 5,
              "orig_size_bytes": 80,
              "truncated_num_cols": 1,
              "truncated_num_rows": 5,
              "truncated_size_bytes": 80,
              "truncated_string_columns": []
            },
            "display_id": "c8664322-e9ad-41c8-88c1-f01a7b91d274",
            "dx_settings": {
              "ALLOW_NOTEABLE_ATTRS": true,
              "COLUMN_SAMPLING_METHOD": "outer",
              "DB_LOCATION": ":memory:",
              "DEV_MODE": false,
              "DISPLAY_MAX_COLUMNS": 100,
              "DISPLAY_MAX_ROWS": 50000,
              "DISPLAY_MODE": "simple",
              "ENABLE_ASSIGNMENT": true,
              "ENABLE_DATALINK": true,
              "FLATTEN_COLUMN_VALUES": true,
              "FLATTEN_INDEX_VALUES": false,
              "GENERATE_DEX_METADATA": false,
              "HTML_TABLE_SCHEMA": false,
              "LOG_LEVEL": 30,
              "MAX_RENDER_SIZE_BYTES": 104857600,
              "MAX_STRING_LENGTH": 250,
              "NUM_PAST_SAMPLES_TRACKED": 3,
              "RANDOM_STATE": 12648430,
              "RESET_INDEX_VALUES": false,
              "ROW_SAMPLING_METHOD": "random",
              "SAMPLING_FACTOR": 0.1,
              "SAMPLING_METHOD": "random",
              "STRINGIFY_COLUMN_VALUES": true,
              "STRINGIFY_INDEX_VALUES": false
            },
            "sample_history": [],
            "sampling_time": "2023-12-13T10:38:02.099804",
            "user_variable_name": "sql_df_ovxd",
            "variable_name": "sql_df_ovxd"
          }
        }
      },
      "execution_count": null,
      "source": "SELECT list.element AS unpacked_keywords\nFROM  public_job_listings.data_nerd_jobs, UNNEST (keywords_all.list) AS  list\nLIMIT 5;",
      "outputs": []
    },
    {
      "id": "5c618083-3965-4ddf-ae31-c2817e0975b2",
      "cell_type": "markdown",
      "source": "## Bar Graph of Top 10 Skills\nThis graph visualizes the frequency of the top 10 skills found in the job listings.",
      "metadata": {
        "noteable": {
          "cell_type": "markdown"
        }
      }
    },
    {
      "id": "a3c5de7a-c77e-4afa-981b-1ea3ee363a6d",
      "cell_type": "code",
      "metadata": {
        "noteable": {
          "assign_results_to": "sql_df_jtsj",
          "cell_type": "sql",
          "db_connection": "@81bbd42db3724191a3fc03e3b17e2d77",
          "output_collection_id": "42605d06-02eb-4e69-b459-e4bfceeec044"
        },
        "ExecuteTime": {
          "end_time": "2023-12-13T10:42:26.949431+00:00",
          "start_time": "2023-12-13T10:42:25.195958+00:00"
        },
        "datalink": {
          "4fc5de34-2b07-4c7b-b7c8-6903895ce6d0": {
            "applied_filters": [],
            "dataframe_info": {
              "default_index_used": true,
              "orig_num_cols": 2,
              "orig_num_rows": 10,
              "orig_size_bytes": 240,
              "truncated_num_cols": 2,
              "truncated_num_rows": 10,
              "truncated_size_bytes": 240,
              "truncated_string_columns": []
            },
            "display_id": "4fc5de34-2b07-4c7b-b7c8-6903895ce6d0",
            "dx_settings": {
              "ALLOW_NOTEABLE_ATTRS": true,
              "COLUMN_SAMPLING_METHOD": "outer",
              "DB_LOCATION": ":memory:",
              "DEV_MODE": false,
              "DISPLAY_MAX_COLUMNS": 100,
              "DISPLAY_MAX_ROWS": 50000,
              "DISPLAY_MODE": "simple",
              "ENABLE_ASSIGNMENT": true,
              "ENABLE_DATALINK": true,
              "FLATTEN_COLUMN_VALUES": true,
              "FLATTEN_INDEX_VALUES": false,
              "GENERATE_DEX_METADATA": false,
              "HTML_TABLE_SCHEMA": false,
              "LOG_LEVEL": 30,
              "MAX_RENDER_SIZE_BYTES": 104857600,
              "MAX_STRING_LENGTH": 250,
              "NUM_PAST_SAMPLES_TRACKED": 3,
              "RANDOM_STATE": 12648430,
              "RESET_INDEX_VALUES": false,
              "ROW_SAMPLING_METHOD": "random",
              "SAMPLING_FACTOR": 0.1,
              "SAMPLING_METHOD": "random",
              "STRINGIFY_COLUMN_VALUES": true,
              "STRINGIFY_INDEX_VALUES": false
            },
            "sample_history": [],
            "sampling_time": "2023-12-13T10:42:26.791395",
            "user_variable_name": "sql_df_jtsj",
            "variable_name": "sql_df_jtsj"
          }
        }
      },
      "execution_count": null,
      "source": "SELECT list.element AS skill, COUNT(*) AS frequency\nFROM public_job_listings.data_nerd_jobs, UNNEST(keywords_all.list) AS list\nGROUP BY list.element\nORDER BY frequency DESC\nLIMIT 10;",
      "outputs": []
    },
    {
      "id": "ffa57594-cc74-415b-8b0e-4428e3ffc8ba",
      "cell_type": "code",
      "metadata": {
        "noteable": {
          "cell_type": "code",
          "output_collection_id": "679c76ca-1fe0-4f62-b6a0-a91b0566f611"
        },
        "ExecuteTime": {
          "end_time": "2023-12-13T10:42:59.304594+00:00",
          "start_time": "2023-12-13T10:42:58.272308+00:00"
        }
      },
      "execution_count": null,
      "source": "import seaborn as sns\nimport matplotlib.pyplot as plt\n\n# Load the data from the previous SQL query\nskill_data = sql_df_jtsj\n\n# Create the bar plot\nplt.figure(figsize=(10, 6))\nsns.barplot(x='frequency', y='skill', data=skill_data, palette='Blues_r')\nplt.title('Top 10 Skills in Job Listings')\nplt.xlabel('Frequency')\nplt.ylabel('Skill')\nplt.show()",
      "outputs": []
    },
    {
      "id": "116ea898-03aa-43c3-9e6f-8b29c955f118",
      "cell_type": "code",
      "metadata": {
        "noteable": {
          "assign_results_to": "sql_df_xnar",
          "cell_type": "sql",
          "db_connection": "@81bbd42db3724191a3fc03e3b17e2d77",
          "output_collection_id": "b3ad9208-4109-45d3-b8ef-9e98d9301c11"
        },
        "ExecuteTime": {
          "end_time": "2023-12-13T10:47:50.938616+00:00",
          "start_time": "2023-12-13T10:47:49.146057+00:00"
        },
        "datalink": {
          "df7a3225-7ef0-40ce-85f7-99a6b44347dd": {
            "applied_filters": [],
            "dataframe_info": {
              "default_index_used": true,
              "orig_num_cols": 2,
              "orig_num_rows": 3,
              "orig_size_bytes": 72,
              "truncated_num_cols": 2,
              "truncated_num_rows": 3,
              "truncated_size_bytes": 72,
              "truncated_string_columns": []
            },
            "display_id": "df7a3225-7ef0-40ce-85f7-99a6b44347dd",
            "dx_settings": {
              "ALLOW_NOTEABLE_ATTRS": true,
              "COLUMN_SAMPLING_METHOD": "outer",
              "DB_LOCATION": ":memory:",
              "DEV_MODE": false,
              "DISPLAY_MAX_COLUMNS": 100,
              "DISPLAY_MAX_ROWS": 50000,
              "DISPLAY_MODE": "simple",
              "ENABLE_ASSIGNMENT": true,
              "ENABLE_DATALINK": true,
              "FLATTEN_COLUMN_VALUES": true,
              "FLATTEN_INDEX_VALUES": false,
              "GENERATE_DEX_METADATA": false,
              "HTML_TABLE_SCHEMA": false,
              "LOG_LEVEL": 30,
              "MAX_RENDER_SIZE_BYTES": 104857600,
              "MAX_STRING_LENGTH": 250,
              "NUM_PAST_SAMPLES_TRACKED": 3,
              "RANDOM_STATE": 12648430,
              "RESET_INDEX_VALUES": false,
              "ROW_SAMPLING_METHOD": "random",
              "SAMPLING_FACTOR": 0.1,
              "SAMPLING_METHOD": "random",
              "STRINGIFY_COLUMN_VALUES": true,
              "STRINGIFY_INDEX_VALUES": false
            },
            "sample_history": [],
            "sampling_time": "2023-12-13T10:47:50.780250",
            "user_variable_name": "sql_df_xnar",
            "variable_name": "sql_df_xnar"
          }
        }
      },
      "execution_count": null,
      "source": "SELECT job_title_final, COUNT(*) AS job_count\nFROM public_job_listings.data_nerd_jobs\nGROUP BY job_title_final\nORDER BY job_count DESC\nLIMIT 3;",
      "outputs": []
    },
    {
      "id": "b8ebdec7-ea6a-43bb-b4fb-289c0f0218cc",
      "cell_type": "code",
      "metadata": {
        "noteable": {
          "assign_results_to": "sql_df_wjqm",
          "cell_type": "sql",
          "db_connection": "@81bbd42db3724191a3fc03e3b17e2d77",
          "output_collection_id": "7f263201-13ac-46bb-b87f-6fc2955cb6d1"
        },
        "ExecuteTime": {
          "end_time": "2023-12-13T10:48:19.985290+00:00",
          "start_time": "2023-12-13T10:48:17.959788+00:00"
        },
        "datalink": {
          "e2dbd87f-aaed-41fb-ad7c-94c73b0d38d8": {
            "applied_filters": [],
            "dataframe_info": {
              "default_index_used": true,
              "orig_num_cols": 3,
              "orig_num_rows": 716,
              "orig_size_bytes": 22912,
              "truncated_num_cols": 3,
              "truncated_num_rows": 716,
              "truncated_size_bytes": 22912,
              "truncated_string_columns": []
            },
            "display_id": "e2dbd87f-aaed-41fb-ad7c-94c73b0d38d8",
            "dx_settings": {
              "ALLOW_NOTEABLE_ATTRS": true,
              "COLUMN_SAMPLING_METHOD": "outer",
              "DB_LOCATION": ":memory:",
              "DEV_MODE": false,
              "DISPLAY_MAX_COLUMNS": 100,
              "DISPLAY_MAX_ROWS": 50000,
              "DISPLAY_MODE": "simple",
              "ENABLE_ASSIGNMENT": true,
              "ENABLE_DATALINK": true,
              "FLATTEN_COLUMN_VALUES": true,
              "FLATTEN_INDEX_VALUES": false,
              "GENERATE_DEX_METADATA": false,
              "HTML_TABLE_SCHEMA": false,
              "LOG_LEVEL": 30,
              "MAX_RENDER_SIZE_BYTES": 104857600,
              "MAX_STRING_LENGTH": 250,
              "NUM_PAST_SAMPLES_TRACKED": 3,
              "RANDOM_STATE": 12648430,
              "RESET_INDEX_VALUES": false,
              "ROW_SAMPLING_METHOD": "random",
              "SAMPLING_FACTOR": 0.1,
              "SAMPLING_METHOD": "random",
              "STRINGIFY_COLUMN_VALUES": true,
              "STRINGIFY_INDEX_VALUES": false
            },
            "sample_history": [],
            "sampling_time": "2023-12-13T10:48:19.818619",
            "user_variable_name": "sql_df_wjqm",
            "variable_name": "sql_df_wjqm"
          }
        }
      },
      "execution_count": null,
      "source": "WITH top_titles AS (\n    SELECT job_title_final\n    FROM public_job_listings.data_nerd_jobs\n    GROUP BY job_title_final\n    ORDER BY COUNT(*) DESC\n    LIMIT 3\n)\nSELECT tt.job_title_final, list.element AS skill, COUNT(*) AS frequency\nFROM public_job_listings.data_nerd_jobs\nJOIN top_titles tt ON data_nerd_jobs.job_title_final = tt.job_title_final\nCROSS JOIN UNNEST(keywords_all.list) AS list\nGROUP BY tt.job_title_final, list.element\nORDER BY tt.job_title_final, frequency DESC;",
      "outputs": []
    },
    {
      "id": "48d039a8-4ddc-4f18-b0f3-022bdde87f15",
      "cell_type": "code",
      "metadata": {
        "noteable": {
          "cell_type": "code",
          "output_collection_id": "90441154-c368-411b-a5b0-8cd362fcc9ca"
        },
        "ExecuteTime": {
          "end_time": "2023-12-13T10:48:59.076060+00:00",
          "start_time": "2023-12-13T10:48:58.555961+00:00"
        }
      },
      "execution_count": null,
      "source": "import pandas as pd\n\n# Transforming the data to get top 5 skills for each of the top 3 job titles\ntransformed_data = sql_df_wjqm.groupby('job_title_final').apply(lambda x: x.nlargest(5, 'frequency')).reset_index(drop=True)\n\n# Plotting\nplt.figure(figsize=(12, 8))\nsns.barplot(x='frequency', y='skill', hue='job_title_final', data=transformed_data, palette='Blues_r')\nplt.title('Top 5 Skills for Top 3 Job Titles')\nplt.xlabel('Frequency')\nplt.ylabel('Skill')\nplt.legend(title='Job Title')\nplt.show()",
      "outputs": []
    },
    {
      "id": "3b9bd939-b07e-4c17-88c7-68e94471e576",
      "cell_type": "code",
      "metadata": {
        "noteable": {
          "cell_type": "code",
          "output_collection_id": "e51b836b-7fc7-4e89-ad33-898e25ac4fe8"
        },
        "ExecuteTime": {
          "end_time": "2023-12-13T10:52:47.688882+00:00",
          "start_time": "2023-12-13T10:52:47.166009+00:00"
        }
      },
      "execution_count": null,
      "source": "# Calculating the percentage of each skill for the top 3 job titles\ntransformed_data['percent'] = transformed_data.groupby('job_title_final')['frequency'].apply(lambda x: x / x.sum() * 100)\n\n# Plotting\nplt.figure(figsize=(12, 8))\nsns.barplot(x='percent', y='skill', hue='job_title_final', data=transformed_data, palette='Blues_r')\nplt.title('Top 5 Skills for Top 3 Job Titles (Percentage)')\nplt.xlabel('Percentage')\nplt.ylabel('Skill')\nplt.legend(title='Job Title')\nplt.show()",
      "outputs": []
    },
    {
      "id": "0ff877c7-a6fb-4892-8040-6f63deb3e9b1",
      "cell_type": "code",
      "metadata": {
        "noteable": {
          "cell_type": "code",
          "output_collection_id": "2a9cc3fa-2c9f-4cd3-9df4-cfec3a5a082f"
        },
        "ExecuteTime": {
          "end_time": "2023-12-13T10:54:05.496511+00:00",
          "start_time": "2023-12-13T10:54:04.975289+00:00"
        }
      },
      "execution_count": null,
      "source": "# Ensuring top 5 skills for each job title\ntransformed_data = sql_df_wjqm.groupby('job_title_final').apply(lambda x: x.nlargest(5, 'frequency')).reset_index(drop=True)\n\n# Adding missing skills for job titles with less than 5 skills\njob_titles = transformed_data['job_title_final'].unique()\nfor title in job_titles:\n    current_skills = transformed_data[transformed_data['job_title_final'] == title]['skill'].tolist()\n    if len(current_skills) < 5:\n        missing_skills = 5 - len(current_skills)\n        for i in range(missing_skills):\n            transformed_data = transformed_data.append({'job_title_final': title, 'skill': 'No additional skill', 'frequency': 0}, ignore_index=True)\n\n# Calculating the percentage of each skill for the top 3 job titles\ntransformed_data['percent'] = transformed_data.groupby('job_title_final')['frequency'].apply(lambda x: x / x.sum() * 100)\n\n# Plotting\nplt.figure(figsize=(12, 8))\nsns.barplot(x='percent', y='skill', hue='job_title_final', data=transformed_data, palette='Blues_r')\nplt.title('Top 5 Skills for Top 3 Job Titles (Percentage)')\nplt.xlabel('Percentage')\nplt.ylabel('Skill')\nplt.legend(title='Job Title')\nplt.show()",
      "outputs": []
    },
    {
      "id": "87f280f8-a282-4e99-9da6-db7ffe6878c7",
      "cell_type": "code",
      "metadata": {
        "noteable": {
          "cell_type": "code",
          "output_collection_id": "5bb938ce-30da-4e95-b32f-69acd935a0c8"
        },
        "ExecuteTime": {
          "end_time": "2023-12-13T10:56:00.855935+00:00",
          "start_time": "2023-12-13T10:56:00.423730+00:00"
        }
      },
      "execution_count": null,
      "source": "# Filtering for specific skills\nselected_skills = ['sql', 'excel', 'python', 'r', 'tableau', 'power bi']\nfiltered_data = transformed_data[transformed_data['skill'].isin(selected_skills)]\n\n# Calculating the percentage of each skill for the top 3 job titles\nfiltered_data['percent'] = filtered_data.groupby('job_title_final')['frequency'].apply(lambda x: x / x.sum() * 100)\n\n# Plotting\nplt.figure(figsize=(12, 8))\nsns.barplot(x='percent', y='skill', hue='job_title_final', data=filtered_data, palette='Blues_r')\nplt.title('Selected Skills for Top 3 Job Titles (Percentage)')\nplt.xlabel('Percentage')\nplt.ylabel('Skill')\nplt.legend(title='Job Title')\nplt.show()",
      "outputs": []
    },
    {
      "id": "35fa9022-9d3a-43a8-8996-26acf634da10",
      "cell_type": "code",
      "metadata": {
        "noteable": {
          "cell_type": "code",
          "output_collection_id": "1f51e3d4-6e22-41b6-b6fb-e32919360b52"
        },
        "ExecuteTime": {
          "end_time": "2023-12-13T10:58:55.158749+00:00",
          "start_time": "2023-12-13T10:58:54.693617+00:00"
        }
      },
      "execution_count": null,
      "source": "# Ensuring all selected skills are represented for each job title\nfor title in job_titles:\n    for skill in selected_skills:\n        if not ((filtered_data['job_title_final'] == title) & (filtered_data['skill'] == skill)).any():\n            filtered_data = filtered_data.append({'job_title_final': title, 'skill': skill, 'frequency': 0}, ignore_index=True)\n\n# Calculating the percentage of each skill for the top 3 job titles\nfiltered_data['percent'] = filtered_data.groupby('job_title_final')['frequency'].apply(lambda x: x / x.sum() * 100)\n\n# Plotting\nplt.figure(figsize=(12, 8))\nsns.barplot(x='percent', y='skill', hue='job_title_final', data=filtered_data, palette='Blues_r')\nplt.title('Selected Skills for Top 3 Job Titles (Percentage)')\nplt.xlabel('Percentage')\nplt.ylabel('Skill')\nplt.legend(title='Job Title')\nplt.show()",
      "outputs": []
    },
    {
      "id": "9f934478-b43e-495f-ad66-8b7741f0eca3",
      "cell_type": "code",
      "metadata": {
        "noteable": {
          "assign_results_to": "sql_df_mdrq",
          "cell_type": "sql",
          "db_connection": "@81bbd42db3724191a3fc03e3b17e2d77",
          "output_collection_id": "6458ab37-7ebe-485b-ac7a-1bce1a94626c"
        },
        "ExecuteTime": {
          "end_time": "2023-12-13T11:00:47.117477+00:00",
          "start_time": "2023-12-13T11:00:45.166127+00:00"
        },
        "datalink": {
          "86cd635b-7d67-45ab-93b0-ef2f7a870d6e": {
            "applied_filters": [],
            "dataframe_info": {
              "default_index_used": true,
              "orig_num_cols": 2,
              "orig_num_rows": 3,
              "orig_size_bytes": 72,
              "truncated_num_cols": 2,
              "truncated_num_rows": 3,
              "truncated_size_bytes": 72,
              "truncated_string_columns": []
            },
            "display_id": "86cd635b-7d67-45ab-93b0-ef2f7a870d6e",
            "dx_settings": {
              "ALLOW_NOTEABLE_ATTRS": true,
              "COLUMN_SAMPLING_METHOD": "outer",
              "DB_LOCATION": ":memory:",
              "DEV_MODE": false,
              "DISPLAY_MAX_COLUMNS": 100,
              "DISPLAY_MAX_ROWS": 50000,
              "DISPLAY_MODE": "simple",
              "ENABLE_ASSIGNMENT": true,
              "ENABLE_DATALINK": true,
              "FLATTEN_COLUMN_VALUES": true,
              "FLATTEN_INDEX_VALUES": false,
              "GENERATE_DEX_METADATA": false,
              "HTML_TABLE_SCHEMA": false,
              "LOG_LEVEL": 30,
              "MAX_RENDER_SIZE_BYTES": 104857600,
              "MAX_STRING_LENGTH": 250,
              "NUM_PAST_SAMPLES_TRACKED": 3,
              "RANDOM_STATE": 12648430,
              "RESET_INDEX_VALUES": false,
              "ROW_SAMPLING_METHOD": "random",
              "SAMPLING_FACTOR": 0.1,
              "SAMPLING_METHOD": "random",
              "STRINGIFY_COLUMN_VALUES": true,
              "STRINGIFY_INDEX_VALUES": false
            },
            "sample_history": [],
            "sampling_time": "2023-12-13T11:00:46.959347",
            "user_variable_name": "sql_df_mdrq",
            "variable_name": "sql_df_mdrq"
          }
        }
      },
      "execution_count": null,
      "source": "SELECT job_title_final, COUNT(*) AS count\nFROM public_job_listings.data_nerd_jobs\nGROUP BY job_title_final\nORDER BY count DESC\nLIMIT 3;",
      "outputs": []
    },
    {
      "id": "5401912b-38f0-45d1-b4d6-5cd50b49d787",
      "cell_type": "code",
      "metadata": {
        "noteable": {
          "cell_type": "code",
          "output_collection_id": "fc9fd6a5-d313-42ba-91bd-3063615f47e3"
        },
        "ExecuteTime": {
          "end_time": "2023-12-13T11:01:29.282460+00:00",
          "start_time": "2023-12-13T11:01:28.971514+00:00"
        }
      },
      "execution_count": null,
      "source": "import matplotlib.pyplot as plt\nimport seaborn as sns\n\n# Load the data from the previous SQL query\njob_title_data = sql_df_mdrq\n\n# Create the bar plot\nplt.figure(figsize=(10, 6))\nsns.barplot(x='count', y='job_title_final', data=job_title_data, palette='Blues_r')\nplt.title('Top 3 Job Titles in Job Listings')\nplt.xlabel('Count')\nplt.ylabel('Job Title')\nplt.show()",
      "outputs": []
    },
    {
      "id": "5c7d50d4-b73c-41ec-bef5-faa98adca4a5",
      "cell_type": "code",
      "metadata": {
        "noteable": {
          "assign_results_to": "sql_df_xley",
          "cell_type": "sql",
          "db_connection": "@81bbd42db3724191a3fc03e3b17e2d77",
          "output_collection_id": "7182c506-23f9-42ac-931c-d1cc62d64f5a"
        },
        "ExecuteTime": {
          "end_time": "2023-12-13T11:03:19.220390+00:00",
          "start_time": "2023-12-13T11:03:17.818893+00:00"
        },
        "datalink": {
          "44606d7c-1dd5-4d98-a41e-9503676e495d": {
            "applied_filters": [],
            "dataframe_info": {
              "default_index_used": true,
              "orig_num_cols": 3,
              "orig_num_rows": 716,
              "orig_size_bytes": 22912,
              "truncated_num_cols": 3,
              "truncated_num_rows": 716,
              "truncated_size_bytes": 22912,
              "truncated_string_columns": []
            },
            "display_id": "44606d7c-1dd5-4d98-a41e-9503676e495d",
            "dx_settings": {
              "ALLOW_NOTEABLE_ATTRS": true,
              "COLUMN_SAMPLING_METHOD": "outer",
              "DB_LOCATION": ":memory:",
              "DEV_MODE": false,
              "DISPLAY_MAX_COLUMNS": 100,
              "DISPLAY_MAX_ROWS": 50000,
              "DISPLAY_MODE": "simple",
              "ENABLE_ASSIGNMENT": true,
              "ENABLE_DATALINK": true,
              "FLATTEN_COLUMN_VALUES": true,
              "FLATTEN_INDEX_VALUES": false,
              "GENERATE_DEX_METADATA": false,
              "HTML_TABLE_SCHEMA": false,
              "LOG_LEVEL": 30,
              "MAX_RENDER_SIZE_BYTES": 104857600,
              "MAX_STRING_LENGTH": 250,
              "NUM_PAST_SAMPLES_TRACKED": 3,
              "RANDOM_STATE": 12648430,
              "RESET_INDEX_VALUES": false,
              "ROW_SAMPLING_METHOD": "random",
              "SAMPLING_FACTOR": 0.1,
              "SAMPLING_METHOD": "random",
              "STRINGIFY_COLUMN_VALUES": true,
              "STRINGIFY_INDEX_VALUES": false
            },
            "sample_history": [],
            "sampling_time": "2023-12-13T11:03:19.057780",
            "user_variable_name": "sql_df_wjqm",
            "variable_name": "sql_df_wjqm"
          }
        }
      },
      "execution_count": null,
      "source": "WITH top_titles AS (\n    SELECT job_title_final\n    FROM public_job_listings.data_nerd_jobs\n    GROUP BY job_title_final\n    ORDER BY COUNT(*) DESC\n    LIMIT 3\n)\nSELECT tt.job_title_final, list.element AS skill, COUNT(*) AS frequency\nFROM public_job_listings.data_nerd_jobs\nJOIN top_titles tt ON data_nerd_jobs.job_title_final = tt.job_title_final\nCROSS JOIN UNNEST(keywords_all.list) AS list\nGROUP BY tt.job_title_final, list.element\nORDER BY tt.job_title_final, frequency DESC;",
      "outputs": []
    },
    {
      "id": "5f3c396d-cdaa-45ae-9873-865993fec9fb",
      "cell_type": "code",
      "metadata": {
        "noteable": {
          "cell_type": "code",
          "output_collection_id": "4c8cb8a1-a8ee-4d74-95bc-71afb46270b7"
        },
        "ExecuteTime": {
          "end_time": "2023-12-13T11:04:05.734692+00:00",
          "start_time": "2023-12-13T11:04:01.994676+00:00"
        }
      },
      "execution_count": null,
      "source": "# Calculating the percentage of each skill for the top 3 job titles\nskill_data = sql_df_xley\nskill_data['percent'] = skill_data.groupby('job_title_final')['frequency'].apply(lambda x: x / x.sum() * 100)\n\n# Plotting\nplt.figure(figsize=(12, 8))\nsns.barplot(x='percent', y='skill', hue='job_title_final', data=skill_data, palette='Blues_r')\nplt.title('Most Demanded Skills in Percentage for Top 3 Job Titles')\nplt.xlabel('Percentage')\nplt.ylabel('Skill')\nplt.legend(title='Job Title')\nplt.show()",
      "outputs": []
    }
  ]
}